{
 "cells": [
  {
   "cell_type": "code",
   "execution_count": 8,
   "metadata": {},
   "outputs": [],
   "source": [
    "import h2o\n",
    "from h2o.automl import H2OAutoML\n"
   ]
  },
  {
   "cell_type": "code",
   "execution_count": 2,
   "metadata": {},
   "outputs": [
    {
     "name": "stdout",
     "output_type": "stream",
     "text": [
      "Checking whether there is an H2O instance running at http://localhost:54321 . connected.\n"
     ]
    },
    {
     "data": {
      "text/html": [
       "<div style=\"overflow:auto\"><table style=\"width:50%\"><tr><td>H2O cluster uptime:</td>\n",
       "<td>16 mins 23 secs</td></tr>\n",
       "<tr><td>H2O cluster timezone:</td>\n",
       "<td>Europe/London</td></tr>\n",
       "<tr><td>H2O data parsing timezone:</td>\n",
       "<td>UTC</td></tr>\n",
       "<tr><td>H2O cluster version:</td>\n",
       "<td>3.26.0.10</td></tr>\n",
       "<tr><td>H2O cluster version age:</td>\n",
       "<td>25 days </td></tr>\n",
       "<tr><td>H2O cluster name:</td>\n",
       "<td>H2O_from_python_tonbadal_yqm7ra</td></tr>\n",
       "<tr><td>H2O cluster total nodes:</td>\n",
       "<td>1</td></tr>\n",
       "<tr><td>H2O cluster free memory:</td>\n",
       "<td>1.996 Gb</td></tr>\n",
       "<tr><td>H2O cluster total cores:</td>\n",
       "<td>4</td></tr>\n",
       "<tr><td>H2O cluster allowed cores:</td>\n",
       "<td>4</td></tr>\n",
       "<tr><td>H2O cluster status:</td>\n",
       "<td>locked, healthy</td></tr>\n",
       "<tr><td>H2O connection url:</td>\n",
       "<td>http://localhost:54321</td></tr>\n",
       "<tr><td>H2O connection proxy:</td>\n",
       "<td>{'http': None, 'https': None}</td></tr>\n",
       "<tr><td>H2O internal security:</td>\n",
       "<td>False</td></tr>\n",
       "<tr><td>H2O API Extensions:</td>\n",
       "<td>Amazon S3, XGBoost, Algos, AutoML, Core V3, TargetEncoder, Core V4</td></tr>\n",
       "<tr><td>Python version:</td>\n",
       "<td>3.7.3 final</td></tr></table></div>"
      ],
      "text/plain": [
       "--------------------------  ------------------------------------------------------------------\n",
       "H2O cluster uptime:         16 mins 23 secs\n",
       "H2O cluster timezone:       Europe/London\n",
       "H2O data parsing timezone:  UTC\n",
       "H2O cluster version:        3.26.0.10\n",
       "H2O cluster version age:    25 days\n",
       "H2O cluster name:           H2O_from_python_tonbadal_yqm7ra\n",
       "H2O cluster total nodes:    1\n",
       "H2O cluster free memory:    1.996 Gb\n",
       "H2O cluster total cores:    4\n",
       "H2O cluster allowed cores:  4\n",
       "H2O cluster status:         locked, healthy\n",
       "H2O connection url:         http://localhost:54321\n",
       "H2O connection proxy:       {'http': None, 'https': None}\n",
       "H2O internal security:      False\n",
       "H2O API Extensions:         Amazon S3, XGBoost, Algos, AutoML, Core V3, TargetEncoder, Core V4\n",
       "Python version:             3.7.3 final\n",
       "--------------------------  ------------------------------------------------------------------"
      ]
     },
     "metadata": {},
     "output_type": "display_data"
    }
   ],
   "source": [
    "h2o.init()"
   ]
  },
  {
   "cell_type": "code",
   "execution_count": 10,
   "metadata": {},
   "outputs": [
    {
     "name": "stdout",
     "output_type": "stream",
     "text": [
      "Parse progress: |█████████████████████████████████████████████████████████| 100%\n",
      "AutoML progress: |████████████████████████████████████████████████████████| 100%\n"
     ]
    },
    {
     "name": "stderr",
     "output_type": "stream",
     "text": [
      "/Users/tonbadal/PycharmProjects/synthesized/venv/lib/python3.7/site-packages/pandas/compat/__init__.py:84: UserWarning: Could not import the lzma module. Your installed Python is incomplete. Attempting to use lzma compression will result in a RuntimeError.\n",
      "  warnings.warn(msg)\n",
      "/Users/tonbadal/PycharmProjects/synthesized/venv/lib/python3.7/site-packages/pandas/compat/__init__.py:84: UserWarning: Could not import the lzma module. Your installed Python is incomplete. Attempting to use lzma compression will result in a RuntimeError.\n",
      "  warnings.warn(msg)\n"
     ]
    },
    {
     "data": {
      "text/html": [
       "<table>\n",
       "<thead>\n",
       "<tr><th>model_id                                           </th><th style=\"text-align: right;\">     auc</th><th style=\"text-align: right;\">  logloss</th><th style=\"text-align: right;\">  mean_per_class_error</th><th style=\"text-align: right;\">    rmse</th><th style=\"text-align: right;\">     mse</th></tr>\n",
       "</thead>\n",
       "<tbody>\n",
       "<tr><td>StackedEnsemble_AllModels_AutoML_20191202_163919   </td><td style=\"text-align: right;\">0.786561</td><td style=\"text-align: right;\"> 0.427698</td><td style=\"text-align: right;\">              0.285426</td><td style=\"text-align: right;\">0.365654</td><td style=\"text-align: right;\">0.133703</td></tr>\n",
       "<tr><td>StackedEnsemble_BestOfFamily_AutoML_20191202_163919</td><td style=\"text-align: right;\">0.78547 </td><td style=\"text-align: right;\"> 0.428319</td><td style=\"text-align: right;\">              0.287942</td><td style=\"text-align: right;\">0.365829</td><td style=\"text-align: right;\">0.133831</td></tr>\n",
       "<tr><td>XGBoost_3_AutoML_20191202_163919                   </td><td style=\"text-align: right;\">0.785002</td><td style=\"text-align: right;\"> 0.425245</td><td style=\"text-align: right;\">              0.288114</td><td style=\"text-align: right;\">0.364877</td><td style=\"text-align: right;\">0.133136</td></tr>\n",
       "<tr><td>XGBoost_grid_1_AutoML_20191202_163919_model_3      </td><td style=\"text-align: right;\">0.784435</td><td style=\"text-align: right;\"> 0.425729</td><td style=\"text-align: right;\">              0.285659</td><td style=\"text-align: right;\">0.365213</td><td style=\"text-align: right;\">0.13338 </td></tr>\n",
       "<tr><td>XGBoost_grid_1_AutoML_20191202_163919_model_1      </td><td style=\"text-align: right;\">0.78398 </td><td style=\"text-align: right;\"> 0.426263</td><td style=\"text-align: right;\">              0.288739</td><td style=\"text-align: right;\">0.3654  </td><td style=\"text-align: right;\">0.133517</td></tr>\n",
       "<tr><td>XGBoost_grid_1_AutoML_20191202_163919_model_4      </td><td style=\"text-align: right;\">0.783772</td><td style=\"text-align: right;\"> 0.426102</td><td style=\"text-align: right;\">              0.285845</td><td style=\"text-align: right;\">0.365314</td><td style=\"text-align: right;\">0.133454</td></tr>\n",
       "<tr><td>GBM_2_AutoML_20191202_163919                       </td><td style=\"text-align: right;\">0.783393</td><td style=\"text-align: right;\"> 0.426238</td><td style=\"text-align: right;\">              0.288924</td><td style=\"text-align: right;\">0.365475</td><td style=\"text-align: right;\">0.133572</td></tr>\n",
       "<tr><td>GBM_5_AutoML_20191202_163919                       </td><td style=\"text-align: right;\">0.782796</td><td style=\"text-align: right;\"> 0.427545</td><td style=\"text-align: right;\">              0.297579</td><td style=\"text-align: right;\">0.366493</td><td style=\"text-align: right;\">0.134317</td></tr>\n",
       "<tr><td>GBM_3_AutoML_20191202_163919                       </td><td style=\"text-align: right;\">0.782365</td><td style=\"text-align: right;\"> 0.427518</td><td style=\"text-align: right;\">              0.293205</td><td style=\"text-align: right;\">0.366291</td><td style=\"text-align: right;\">0.134169</td></tr>\n",
       "<tr><td>GBM_1_AutoML_20191202_163919                       </td><td style=\"text-align: right;\">0.781769</td><td style=\"text-align: right;\"> 0.427746</td><td style=\"text-align: right;\">              0.294088</td><td style=\"text-align: right;\">0.366226</td><td style=\"text-align: right;\">0.134122</td></tr>\n",
       "<tr><td>XGBoost_1_AutoML_20191202_163919                   </td><td style=\"text-align: right;\">0.78068 </td><td style=\"text-align: right;\"> 0.428601</td><td style=\"text-align: right;\">              0.292042</td><td style=\"text-align: right;\">0.366783</td><td style=\"text-align: right;\">0.134529</td></tr>\n",
       "<tr><td>XGBoost_2_AutoML_20191202_163919                   </td><td style=\"text-align: right;\">0.779928</td><td style=\"text-align: right;\"> 0.429156</td><td style=\"text-align: right;\">              0.292815</td><td style=\"text-align: right;\">0.367052</td><td style=\"text-align: right;\">0.134727</td></tr>\n",
       "<tr><td>GBM_4_AutoML_20191202_163919                       </td><td style=\"text-align: right;\">0.778856</td><td style=\"text-align: right;\"> 0.430694</td><td style=\"text-align: right;\">              0.293713</td><td style=\"text-align: right;\">0.367812</td><td style=\"text-align: right;\">0.135286</td></tr>\n",
       "<tr><td>DRF_1_AutoML_20191202_163919                       </td><td style=\"text-align: right;\">0.771674</td><td style=\"text-align: right;\"> 0.434441</td><td style=\"text-align: right;\">              0.297184</td><td style=\"text-align: right;\">0.369264</td><td style=\"text-align: right;\">0.136356</td></tr>\n",
       "<tr><td>XGBoost_grid_1_AutoML_20191202_163919_model_2      </td><td style=\"text-align: right;\">0.771516</td><td style=\"text-align: right;\"> 0.462359</td><td style=\"text-align: right;\">              0.296172</td><td style=\"text-align: right;\">0.375922</td><td style=\"text-align: right;\">0.141317</td></tr>\n",
       "<tr><td>XRT_1_AutoML_20191202_163919                       </td><td style=\"text-align: right;\">0.770648</td><td style=\"text-align: right;\"> 0.435702</td><td style=\"text-align: right;\">              0.295116</td><td style=\"text-align: right;\">0.369776</td><td style=\"text-align: right;\">0.136734</td></tr>\n",
       "<tr><td>GBM_grid_1_AutoML_20191202_163919_model_1          </td><td style=\"text-align: right;\">0.76806 </td><td style=\"text-align: right;\"> 0.438865</td><td style=\"text-align: right;\">              0.303457</td><td style=\"text-align: right;\">0.371502</td><td style=\"text-align: right;\">0.138014</td></tr>\n",
       "<tr><td>DeepLearning_1_AutoML_20191202_163919              </td><td style=\"text-align: right;\">0.764186</td><td style=\"text-align: right;\"> 0.441517</td><td style=\"text-align: right;\">              0.297819</td><td style=\"text-align: right;\">0.371026</td><td style=\"text-align: right;\">0.137661</td></tr>\n",
       "<tr><td>DeepLearning_grid_1_AutoML_20191202_163919_model_2 </td><td style=\"text-align: right;\">0.760569</td><td style=\"text-align: right;\"> 0.447117</td><td style=\"text-align: right;\">              0.301039</td><td style=\"text-align: right;\">0.37459 </td><td style=\"text-align: right;\">0.140318</td></tr>\n",
       "<tr><td>DeepLearning_grid_1_AutoML_20191202_163919_model_1 </td><td style=\"text-align: right;\">0.756348</td><td style=\"text-align: right;\"> 0.451079</td><td style=\"text-align: right;\">              0.295805</td><td style=\"text-align: right;\">0.373098</td><td style=\"text-align: right;\">0.139202</td></tr>\n",
       "<tr><td>GBM_grid_1_AutoML_20191202_163919_model_2          </td><td style=\"text-align: right;\">0.733034</td><td style=\"text-align: right;\"> 0.566002</td><td style=\"text-align: right;\">              0.32543 </td><td style=\"text-align: right;\">0.400258</td><td style=\"text-align: right;\">0.160206</td></tr>\n",
       "<tr><td>GLM_grid_1_AutoML_20191202_163919_model_1          </td><td style=\"text-align: right;\">0.722359</td><td style=\"text-align: right;\"> 0.465668</td><td style=\"text-align: right;\">              0.316682</td><td style=\"text-align: right;\">0.380961</td><td style=\"text-align: right;\">0.145131</td></tr>\n",
       "</tbody>\n",
       "</table>"
      ]
     },
     "metadata": {},
     "output_type": "display_data"
    },
    {
     "data": {
      "text/plain": []
     },
     "execution_count": 10,
     "metadata": {},
     "output_type": "execute_result"
    }
   ],
   "source": [
    "train_orig = h2o.import_file('/Users/tonbadal/PycharmProjects/synthesized/docs/autoML/data/credit_card_default_prediction.csv')\n",
    "\n",
    "x = train_orig.columns\n",
    "y = \"default payment next month\"\n",
    "\n",
    "x.remove(y)\n",
    "\n",
    "# For binary classification, response should be a factor\n",
    "train_orig[y] = train_orig[y].asfactor()\n",
    "\n",
    "# Run AutoML for 20 base models (limited to 1 hour max runtime by default)\n",
    "aml = H2OAutoML(max_models=20, seed=1)\n",
    "aml.train(x=x, y=y, training_frame=train)\n",
    "\n",
    "# View the AutoML Leaderboard\n",
    "lb = aml.leaderboard\n",
    "lb.head(rows=lb.nrows)  \n"
   ]
  },
  {
   "cell_type": "code",
   "execution_count": 41,
   "metadata": {},
   "outputs": [],
   "source": [
    "models_orig = ['StackedEnsemble_AllModels_AutoML_20191202_163919','StackedEnsemble_BestOfFamily_AutoML_20191202_163919','XGBoost_3_AutoML_20191202_163919','XGBoost_grid_1_AutoML_20191202_163919_model_3', 'XGBoost_grid_1_AutoML_20191202_163919_model_1','XGBoost_grid_1_AutoML_20191202_163919_model_4', 'GBM_2_AutoML_20191202_163919','GBM_5_AutoML_20191202_163919', 'GBM_3_AutoML_20191202_163919','GBM_1_AutoML_20191202_163919', 'XGBoost_1_AutoML_20191202_163919','XGBoost_2_AutoML_20191202_163919', 'GBM_4_AutoML_20191202_163919','DRF_1_AutoML_20191202_163919', 'XGBoost_grid_1_AutoML_20191202_163919_model_2','XRT_1_AutoML_20191202_163919', 'GBM_grid_1_AutoML_20191202_163919_model_1','DeepLearning_1_AutoML_20191202_163919', 'DeepLearning_grid_1_AutoML_20191202_163919_model_2','DeepLearning_grid_1_AutoML_20191202_163919_model_1', 'GBM_grid_1_AutoML_20191202_163919_model_2','GLM_grid_1_AutoML_20191202_163919_model_1']\n"
   ]
  },
  {
   "cell_type": "code",
   "execution_count": 11,
   "metadata": {},
   "outputs": [
    {
     "name": "stdout",
     "output_type": "stream",
     "text": [
      "Parse progress: |█████████████████████████████████████████████████████████| 100%\n",
      "AutoML progress: |████████████████████████████████████████████████████████| 100%\n"
     ]
    },
    {
     "data": {
      "text/html": [
       "<table>\n",
       "<thead>\n",
       "<tr><th>model_id                                           </th><th style=\"text-align: right;\">     auc</th><th style=\"text-align: right;\">  logloss</th><th style=\"text-align: right;\">  mean_per_class_error</th><th style=\"text-align: right;\">    rmse</th><th style=\"text-align: right;\">      mse</th></tr>\n",
       "</thead>\n",
       "<tbody>\n",
       "<tr><td>XGBoost_1_AutoML_20191202_170417                   </td><td style=\"text-align: right;\">0.971392</td><td style=\"text-align: right;\"> 0.17845 </td><td style=\"text-align: right;\">              0.102739</td><td style=\"text-align: right;\">0.231883</td><td style=\"text-align: right;\">0.0537697</td></tr>\n",
       "<tr><td>XGBoost_2_AutoML_20191202_170417                   </td><td style=\"text-align: right;\">0.971135</td><td style=\"text-align: right;\"> 0.179534</td><td style=\"text-align: right;\">              0.108139</td><td style=\"text-align: right;\">0.232698</td><td style=\"text-align: right;\">0.0541484</td></tr>\n",
       "<tr><td>XGBoost_grid_1_AutoML_20191202_170417_model_3      </td><td style=\"text-align: right;\">0.970787</td><td style=\"text-align: right;\"> 0.180253</td><td style=\"text-align: right;\">              0.101974</td><td style=\"text-align: right;\">0.232323</td><td style=\"text-align: right;\">0.0539741</td></tr>\n",
       "<tr><td>XGBoost_3_AutoML_20191202_170417                   </td><td style=\"text-align: right;\">0.970683</td><td style=\"text-align: right;\"> 0.180218</td><td style=\"text-align: right;\">              0.113233</td><td style=\"text-align: right;\">0.232207</td><td style=\"text-align: right;\">0.0539203</td></tr>\n",
       "<tr><td>XGBoost_grid_1_AutoML_20191202_170417_model_1      </td><td style=\"text-align: right;\">0.970595</td><td style=\"text-align: right;\"> 0.180934</td><td style=\"text-align: right;\">              0.11376 </td><td style=\"text-align: right;\">0.23257 </td><td style=\"text-align: right;\">0.0540888</td></tr>\n",
       "<tr><td>XGBoost_grid_1_AutoML_20191202_170417_model_4      </td><td style=\"text-align: right;\">0.97034 </td><td style=\"text-align: right;\"> 0.181211</td><td style=\"text-align: right;\">              0.112042</td><td style=\"text-align: right;\">0.232839</td><td style=\"text-align: right;\">0.0542139</td></tr>\n",
       "<tr><td>StackedEnsemble_BestOfFamily_AutoML_20191202_170417</td><td style=\"text-align: right;\">0.970264</td><td style=\"text-align: right;\"> 0.198112</td><td style=\"text-align: right;\">              0.107378</td><td style=\"text-align: right;\">0.237226</td><td style=\"text-align: right;\">0.0562762</td></tr>\n",
       "<tr><td>StackedEnsemble_AllModels_AutoML_20191202_170417   </td><td style=\"text-align: right;\">0.96999 </td><td style=\"text-align: right;\"> 0.195661</td><td style=\"text-align: right;\">              0.104164</td><td style=\"text-align: right;\">0.236615</td><td style=\"text-align: right;\">0.0559866</td></tr>\n",
       "<tr><td>GBM_2_AutoML_20191202_170417                       </td><td style=\"text-align: right;\">0.96927 </td><td style=\"text-align: right;\"> 0.183823</td><td style=\"text-align: right;\">              0.104173</td><td style=\"text-align: right;\">0.234098</td><td style=\"text-align: right;\">0.0548017</td></tr>\n",
       "<tr><td>GBM_1_AutoML_20191202_170417                       </td><td style=\"text-align: right;\">0.969042</td><td style=\"text-align: right;\"> 0.184488</td><td style=\"text-align: right;\">              0.104538</td><td style=\"text-align: right;\">0.234261</td><td style=\"text-align: right;\">0.054878 </td></tr>\n",
       "<tr><td>GBM_3_AutoML_20191202_170417                       </td><td style=\"text-align: right;\">0.968792</td><td style=\"text-align: right;\"> 0.186206</td><td style=\"text-align: right;\">              0.108219</td><td style=\"text-align: right;\">0.236018</td><td style=\"text-align: right;\">0.0557043</td></tr>\n",
       "<tr><td>GBM_5_AutoML_20191202_170417                       </td><td style=\"text-align: right;\">0.968677</td><td style=\"text-align: right;\"> 0.184016</td><td style=\"text-align: right;\">              0.103477</td><td style=\"text-align: right;\">0.234542</td><td style=\"text-align: right;\">0.0550101</td></tr>\n",
       "<tr><td>GBM_4_AutoML_20191202_170417                       </td><td style=\"text-align: right;\">0.967981</td><td style=\"text-align: right;\"> 0.189597</td><td style=\"text-align: right;\">              0.107163</td><td style=\"text-align: right;\">0.237756</td><td style=\"text-align: right;\">0.0565279</td></tr>\n",
       "<tr><td>XGBoost_grid_1_AutoML_20191202_170417_model_2      </td><td style=\"text-align: right;\">0.96586 </td><td style=\"text-align: right;\"> 0.212991</td><td style=\"text-align: right;\">              0.113269</td><td style=\"text-align: right;\">0.245432</td><td style=\"text-align: right;\">0.0602369</td></tr>\n",
       "<tr><td>GBM_grid_1_AutoML_20191202_170417_model_1          </td><td style=\"text-align: right;\">0.964771</td><td style=\"text-align: right;\"> 0.201391</td><td style=\"text-align: right;\">              0.11799 </td><td style=\"text-align: right;\">0.242993</td><td style=\"text-align: right;\">0.0590455</td></tr>\n",
       "<tr><td>DRF_1_AutoML_20191202_170417                       </td><td style=\"text-align: right;\">0.959562</td><td style=\"text-align: right;\"> 0.210249</td><td style=\"text-align: right;\">              0.122257</td><td style=\"text-align: right;\">0.246521</td><td style=\"text-align: right;\">0.0607726</td></tr>\n",
       "<tr><td>XRT_1_AutoML_20191202_170417                       </td><td style=\"text-align: right;\">0.959423</td><td style=\"text-align: right;\"> 0.209241</td><td style=\"text-align: right;\">              0.115581</td><td style=\"text-align: right;\">0.246143</td><td style=\"text-align: right;\">0.0605866</td></tr>\n",
       "<tr><td>GBM_grid_1_AutoML_20191202_170417_model_2          </td><td style=\"text-align: right;\">0.95856 </td><td style=\"text-align: right;\"> 0.319512</td><td style=\"text-align: right;\">              0.11533 </td><td style=\"text-align: right;\">0.260012</td><td style=\"text-align: right;\">0.0676064</td></tr>\n",
       "<tr><td>DeepLearning_1_AutoML_20191202_170417              </td><td style=\"text-align: right;\">0.95076 </td><td style=\"text-align: right;\"> 0.227257</td><td style=\"text-align: right;\">              0.131217</td><td style=\"text-align: right;\">0.257361</td><td style=\"text-align: right;\">0.0662346</td></tr>\n",
       "<tr><td>DeepLearning_grid_1_AutoML_20191202_170417_model_2 </td><td style=\"text-align: right;\">0.949172</td><td style=\"text-align: right;\"> 0.252678</td><td style=\"text-align: right;\">              0.142304</td><td style=\"text-align: right;\">0.272112</td><td style=\"text-align: right;\">0.0740448</td></tr>\n",
       "<tr><td>DeepLearning_grid_1_AutoML_20191202_170417_model_1 </td><td style=\"text-align: right;\">0.948854</td><td style=\"text-align: right;\"> 0.23963 </td><td style=\"text-align: right;\">              0.127331</td><td style=\"text-align: right;\">0.259434</td><td style=\"text-align: right;\">0.067306 </td></tr>\n",
       "<tr><td>GLM_grid_1_AutoML_20191202_170417_model_1          </td><td style=\"text-align: right;\">0.900746</td><td style=\"text-align: right;\"> 0.316571</td><td style=\"text-align: right;\">              0.162184</td><td style=\"text-align: right;\">0.292469</td><td style=\"text-align: right;\">0.0855382</td></tr>\n",
       "</tbody>\n",
       "</table>"
      ]
     },
     "metadata": {},
     "output_type": "display_data"
    },
    {
     "data": {
      "text/plain": []
     },
     "execution_count": 11,
     "metadata": {},
     "output_type": "execute_result"
    }
   ],
   "source": [
    "train_synth = h2o.import_file('/Users/tonbadal/PycharmProjects/synthesized/docs/autoML/data/credit_card_default_prediction-synth.csv')\n",
    "\n",
    "x = train_synth.columns\n",
    "y = \"default payment next month\"\n",
    "\n",
    "x.remove(y)\n",
    "\n",
    "# For binary classification, response should be a factor\n",
    "train_synth[y] = train_synth[y].asfactor()\n",
    "\n",
    "# Run AutoML for 20 base models (limited to 1 hour max runtime by default)\n",
    "aml = H2OAutoML(max_models=20, seed=1)\n",
    "aml.train(x=x, y=y, training_frame=train_synth)\n",
    "\n",
    "# View the AutoML Leaderboard\n",
    "lb = aml.leaderboard\n",
    "lb.head(rows=lb.nrows)\n"
   ]
  },
  {
   "cell_type": "code",
   "execution_count": 74,
   "metadata": {},
   "outputs": [],
   "source": [
    "models_synth = ['XGBoost_1_AutoML_20191202_170417','XGBoost_2_AutoML_20191202_170417', 'XGBoost_grid_1_AutoML_20191202_170417_model_3', 'XGBoost_3_AutoML_20191202_170417', 'XGBoost_grid_1_AutoML_20191202_170417_model_1', 'XGBoost_grid_1_AutoML_20191202_170417_model_4','StackedEnsemble_BestOfFamily_AutoML_20191202_170417', 'StackedEnsemble_AllModels_AutoML_20191202_170417', 'GBM_2_AutoML_20191202_170417', 'GBM_1_AutoML_20191202_170417', 'GBM_3_AutoML_20191202_170417','GBM_5_AutoML_20191202_170417', 'GBM_4_AutoML_20191202_170417', 'XGBoost_grid_1_AutoML_20191202_170417_model_2', 'GBM_grid_1_AutoML_20191202_170417_model_1', 'DRF_1_AutoML_20191202_170417','XRT_1_AutoML_20191202_170417', 'GBM_grid_1_AutoML_20191202_170417_model_2', 'DeepLearning_1_AutoML_20191202_170417', 'DeepLearning_grid_1_AutoML_20191202_170417_model_2', 'DeepLearning_grid_1_AutoML_20191202_170417_model_1','GLM_grid_1_AutoML_20191202_170417_model_1']\n"
   ]
  },
  {
   "cell_type": "code",
   "execution_count": 19,
   "metadata": {},
   "outputs": [],
   "source": [
    "# Get model ids for all models in the AutoML Leaderboard\n",
    "model_ids = list(aml.leaderboard['model_id'].as_data_frame().iloc[:,0])\n",
    "# Get the \"All Models\" Stacked Ensemble model\n",
    "se = h2o.get_model([mid for mid in model_ids if \"StackedEnsemble_AllModels\" in mid][0])\n",
    "# Get the Stacked Ensemble metalearner model\n",
    "metalearner = h2o.get_model(se.metalearner()['name'])\n"
   ]
  },
  {
   "cell_type": "code",
   "execution_count": 138,
   "metadata": {
    "scrolled": false
   },
   "outputs": [],
   "source": [
    "import operator\n",
    "\n",
    "def get_feature_importances_avg(models):\n",
    "    feature_imp_avg = {k: 0. for k in x}\n",
    "    num_models = 0\n",
    "\n",
    "    for model_name in models:\n",
    "        model = h2o.get_model(model_name)\n",
    "        feat_imp = model.varimp()\n",
    "        if feat_imp:\n",
    "            num_models += 1\n",
    "            for f, _, _, imp in feat_imp:\n",
    "                feature_imp_avg[f] += imp\n",
    "            break\n",
    "\n",
    "    for k, v in feature_imp_avg.items():\n",
    "        feature_imp_avg[k] = v / num_models\n",
    "        \n",
    "    return feature_imp_avg\n",
    "#     return sorted(feature_imp_avg.items(), key=operator.itemgetter(1), reverse=True)"
   ]
  },
  {
   "cell_type": "code",
   "execution_count": 139,
   "metadata": {
    "scrolled": false
   },
   "outputs": [
    {
     "name": "stdout",
     "output_type": "stream",
     "text": [
      "Warning: This model doesn't have variable importances\n",
      "Warning: This model doesn't have variable importances\n"
     ]
    }
   ],
   "source": [
    "fi_orig = get_feature_importances_avg(models_orig[:5])"
   ]
  },
  {
   "cell_type": "code",
   "execution_count": 140,
   "metadata": {
    "scrolled": false
   },
   "outputs": [],
   "source": [
    "fi_synth = get_feature_importances_avg(models_synth[:5])"
   ]
  },
  {
   "cell_type": "code",
   "execution_count": 141,
   "metadata": {},
   "outputs": [],
   "source": [
    "import matplotlib as mpl\n",
    "\n",
    "# Set the style of plots\n",
    "plt.style.use('seaborn')\n",
    "mpl.rcParams[\"axes.facecolor\"] = 'w'\n",
    "mpl.rcParams['grid.color'] = 'grey'\n",
    "mpl.rcParams['grid.alpha'] = 0.1\n",
    "\n",
    "mpl.rcParams['axes.linewidth'] = 0.3\n",
    "mpl.rcParams['axes.edgecolor'] = 'grey'\n",
    "\n",
    "mpl.rcParams['axes.spines.right'] = True\n",
    "mpl.rcParams['axes.spines.top'] = True"
   ]
  },
  {
   "cell_type": "code",
   "execution_count": 142,
   "metadata": {},
   "outputs": [
    {
     "data": {
      "image/png": "[encoded data removed]",
      "text/plain": [
       "<Figure size 1080x720 with 1 Axes>"
      ]
     },
     "metadata": {},
     "output_type": "display_data"
    },
    {
     "data": {
      "text/plain": [
       "<Figure size 576x396 with 0 Axes>"
      ]
     },
     "metadata": {},
     "output_type": "display_data"
    }
   ],
   "source": [
    "import matplotlib.pyplot as plt\n",
    "import numpy as np\n",
    "\n",
    "fig, ax = plt.subplots(1, 1, figsize=(15,10), sharex=True, sharey=False)\n",
    "\n",
    "features = list(fi_orig.keys())\n",
    "y_pos = np.arange(len(fi_orig))\n",
    "\n",
    "ho = ax.barh(y_pos + 0.2, list(fi_orig.values()), height=0.4, align='center')\n",
    "hs = ax.barh(y_pos - 0.2, list(fi_synth.values()), height=0.4, align='center')\n",
    "\n",
    "ax.legend([ho, hs], ['Original', 'Synthesized'])\n",
    "ax.set_yticks(y_pos)\n",
    "ax.set_yticklabels(fi_orig.keys())\n",
    "ax.invert_yaxis()\n",
    "ax.set_title('Feature Importances - Original VS Synthesized data')\n",
    "\n",
    "plt.show()\n",
    "plt.savefig('feature_importances.pdf', format='pdf')"
   ]
  },
  {
   "cell_type": "code",
   "execution_count": 166,
   "metadata": {},
   "outputs": [],
   "source": [
    "best_orig_model = h2o.get_model('StackedEnsemble_AllModels_AutoML_20191202_163919')\n",
    "best_synth_model = h2o.get_model('XGBoost_1_AutoML_20191202_170417')\n"
   ]
  },
  {
   "cell_type": "code",
   "execution_count": 169,
   "metadata": {
    "scrolled": true
   },
   "outputs": [
    {
     "name": "stdout",
     "output_type": "stream",
     "text": [
      "stackedensemble prediction progress: |████████████████████████████████████| 100%\n",
      "xgboost prediction progress: |████████████████████████████████████████████| 100%\n"
     ]
    }
   ],
   "source": [
    "df_pred_orig = best_orig_model.predict(train_orig).as_data_frame()\n",
    "df_pred_synth = best_synth_model.predict(train_orig).as_data_frame()\n",
    "df_orig = train_orig.as_data_frame()\n"
   ]
  },
  {
   "cell_type": "code",
   "execution_count": 211,
   "metadata": {},
   "outputs": [
    {
     "data": {
      "text/html": [
       "<div>\n",
       "<style scoped>\n",
       "    .dataframe tbody tr th:only-of-type {\n",
       "        vertical-align: middle;\n",
       "    }\n",
       "\n",
       "    .dataframe tbody tr th {\n",
       "        vertical-align: top;\n",
       "    }\n",
       "\n",
       "    .dataframe thead th {\n",
       "        text-align: right;\n",
       "    }\n",
       "</style>\n",
       "<table border=\"1\" class=\"dataframe\">\n",
       "  <thead>\n",
       "    <tr style=\"text-align: right;\">\n",
       "      <th></th>\n",
       "      <th>predict</th>\n",
       "      <th>p0</th>\n",
       "      <th>p1</th>\n",
       "    </tr>\n",
       "  </thead>\n",
       "  <tbody>\n",
       "    <tr>\n",
       "      <td>0</td>\n",
       "      <td>1</td>\n",
       "      <td>0.280336</td>\n",
       "      <td>0.719664</td>\n",
       "    </tr>\n",
       "    <tr>\n",
       "      <td>1</td>\n",
       "      <td>0</td>\n",
       "      <td>0.912534</td>\n",
       "      <td>0.087466</td>\n",
       "    </tr>\n",
       "    <tr>\n",
       "      <td>2</td>\n",
       "      <td>0</td>\n",
       "      <td>0.874616</td>\n",
       "      <td>0.125384</td>\n",
       "    </tr>\n",
       "    <tr>\n",
       "      <td>3</td>\n",
       "      <td>0</td>\n",
       "      <td>0.792360</td>\n",
       "      <td>0.207640</td>\n",
       "    </tr>\n",
       "    <tr>\n",
       "      <td>4</td>\n",
       "      <td>0</td>\n",
       "      <td>0.976953</td>\n",
       "      <td>0.023047</td>\n",
       "    </tr>\n",
       "    <tr>\n",
       "      <td>...</td>\n",
       "      <td>...</td>\n",
       "      <td>...</td>\n",
       "      <td>...</td>\n",
       "    </tr>\n",
       "    <tr>\n",
       "      <td>29995</td>\n",
       "      <td>0</td>\n",
       "      <td>0.991261</td>\n",
       "      <td>0.008739</td>\n",
       "    </tr>\n",
       "    <tr>\n",
       "      <td>29996</td>\n",
       "      <td>0</td>\n",
       "      <td>0.980543</td>\n",
       "      <td>0.019457</td>\n",
       "    </tr>\n",
       "    <tr>\n",
       "      <td>29997</td>\n",
       "      <td>1</td>\n",
       "      <td>0.006303</td>\n",
       "      <td>0.993697</td>\n",
       "    </tr>\n",
       "    <tr>\n",
       "      <td>29998</td>\n",
       "      <td>0</td>\n",
       "      <td>0.981031</td>\n",
       "      <td>0.018969</td>\n",
       "    </tr>\n",
       "    <tr>\n",
       "      <td>29999</td>\n",
       "      <td>0</td>\n",
       "      <td>0.746279</td>\n",
       "      <td>0.253721</td>\n",
       "    </tr>\n",
       "  </tbody>\n",
       "</table>\n",
       "<p>30000 rows × 3 columns</p>\n",
       "</div>"
      ],
      "text/plain": [
       "       predict        p0        p1\n",
       "0            1  0.280336  0.719664\n",
       "1            0  0.912534  0.087466\n",
       "2            0  0.874616  0.125384\n",
       "3            0  0.792360  0.207640\n",
       "4            0  0.976953  0.023047\n",
       "...        ...       ...       ...\n",
       "29995        0  0.991261  0.008739\n",
       "29996        0  0.980543  0.019457\n",
       "29997        1  0.006303  0.993697\n",
       "29998        0  0.981031  0.018969\n",
       "29999        0  0.746279  0.253721\n",
       "\n",
       "[30000 rows x 3 columns]"
      ]
     },
     "execution_count": 211,
     "metadata": {},
     "output_type": "execute_result"
    }
   ],
   "source": [
    "df_pred_synth"
   ]
  },
  {
   "cell_type": "code",
   "execution_count": 219,
   "metadata": {},
   "outputs": [
    {
     "name": "stdout",
     "output_type": "stream",
     "text": [
      "\n",
      "MODEL #1\tOrig\tSynth\tDiff\n",
      "stackedensemble prediction progress: |████████████████████████████████████| 100%\n",
      "xgboost prediction progress: |████████████████████████████████████████████| 100%\n",
      "ACCURACY_SCORE\t0.8264\t0.7951\t0.0313\n",
      "F1_SCORE\t0.6210\t0.5391\t0.0819\n",
      "PRECISION_SCORE\t0.6004\t0.5365\t0.0639\n",
      "RECALL_SCORE\t0.6432\t0.5417\t0.1014\n",
      "ROC_AUC_SCORE\t0.6432\t0.7747\t-0.1315\n",
      "LOG_LOSS\t0.6432\t0.6492\t-0.0061\n",
      "\n",
      "MODEL #2\tOrig\tSynth\tDiff\n",
      "stackedensemble prediction progress: |████████████████████████████████████| 100%\n",
      "xgboost prediction progress: |████████████████████████████████████████████| 100%\n",
      "ACCURACY_SCORE\t0.8385\t0.7870\t0.0515\n",
      "F1_SCORE\t0.6349\t0.5380\t0.0970\n",
      "PRECISION_SCORE\t0.6351\t0.5171\t0.1180\n",
      "RECALL_SCORE\t0.6347\t0.5606\t0.0741\n",
      "ROC_AUC_SCORE\t0.6347\t0.7733\t-0.1386\n",
      "LOG_LOSS\t0.6347\t0.6480\t-0.0133\n",
      "\n",
      "MODEL #3\tOrig\tSynth\tDiff\n",
      "xgboost prediction progress: |████████████████████████████████████████████| 100%\n",
      "xgboost prediction progress: |████████████████████████████████████████████| 100%\n",
      "ACCURACY_SCORE\t0.8080\t0.7897\t0.0182\n",
      "F1_SCORE\t0.5720\t0.5382\t0.0338\n",
      "PRECISION_SCORE\t0.5641\t0.5233\t0.0408\n",
      "RECALL_SCORE\t0.5802\t0.5539\t0.0262\n",
      "ROC_AUC_SCORE\t0.5802\t0.7752\t-0.1950\n",
      "LOG_LOSS\t0.5802\t0.6078\t-0.0276\n",
      "\n",
      "MODEL #4\tOrig\tSynth\tDiff\n",
      "xgboost prediction progress: |████████████████████████████████████████████| 100%\n",
      "xgboost prediction progress: |████████████████████████████████████████████| 100%\n",
      "ACCURACY_SCORE\t0.7999\t0.7968\t0.0031\n",
      "F1_SCORE\t0.5679\t0.5362\t0.0317\n",
      "PRECISION_SCORE\t0.5435\t0.5415\t0.0020\n",
      "RECALL_SCORE\t0.5946\t0.5310\t0.0636\n",
      "ROC_AUC_SCORE\t0.5946\t0.7757\t-0.1811\n",
      "LOG_LOSS\t0.5946\t0.6160\t-0.0214\n",
      "\n",
      "MODEL #5\tOrig\tSynth\tDiff\n",
      "xgboost prediction progress: |████████████████████████████████████████████| 100%\n",
      "xgboost prediction progress: |████████████████████████████████████████████| 100%\n",
      "ACCURACY_SCORE\t0.7967\t0.7933\t0.0034\n",
      "F1_SCORE\t0.5696\t0.5382\t0.0314\n",
      "PRECISION_SCORE\t0.5356\t0.5319\t0.0037\n",
      "RECALL_SCORE\t0.6082\t0.5446\t0.0636\n",
      "ROC_AUC_SCORE\t0.6082\t0.7747\t-0.1665\n",
      "LOG_LOSS\t0.6082\t0.6082\t-0.0000\n",
      "\n",
      "MODEL #19\tOrig\tSynth\tDiff\n",
      "deeplearning prediction progress: |███████████████████████████████████████| 100%\n",
      "deeplearning prediction progress: |███████████████████████████████████████| 100%\n",
      "ACCURACY_SCORE\t0.7902\t0.8008\t-0.0106\n",
      "F1_SCORE\t0.5391\t0.5328\t0.0063\n",
      "PRECISION_SCORE\t0.5244\t0.5536\t-0.0292\n",
      "RECALL_SCORE\t0.5547\t0.5136\t0.0411\n",
      "ROC_AUC_SCORE\t0.5547\t0.7648\t-0.2101\n",
      "LOG_LOSS\t0.5547\t0.6760\t-0.1213\n",
      "\n",
      "MODEL #20\tOrig\tSynth\tDiff\n",
      "deeplearning prediction progress: |███████████████████████████████████████| 100%\n",
      "deeplearning prediction progress: |███████████████████████████████████████| 100%\n",
      "ACCURACY_SCORE\t0.7916\t0.8075\t-0.0159\n",
      "F1_SCORE\t0.5415\t0.5219\t0.0196\n",
      "PRECISION_SCORE\t0.5274\t0.5791\t-0.0517\n",
      "RECALL_SCORE\t0.5564\t0.4750\t0.0814\n",
      "ROC_AUC_SCORE\t0.5564\t0.7650\t-0.2087\n",
      "LOG_LOSS\t0.5564\t0.6647\t-0.1083\n",
      "\n",
      "MODEL #21\tOrig\tSynth\tDiff\n",
      "gbm prediction progress: |████████████████████████████████████████████████| 100%\n",
      "deeplearning prediction progress: |███████████████████████████████████████| 100%\n",
      "ACCURACY_SCORE\t0.9743\t0.8075\t0.1669\n",
      "F1_SCORE\t0.9416\t0.5272\t0.4145\n",
      "PRECISION_SCORE\t0.9474\t0.5771\t0.3703\n",
      "RECALL_SCORE\t0.9360\t0.4852\t0.4507\n",
      "ROC_AUC_SCORE\t0.9360\t0.7546\t0.1814\n",
      "LOG_LOSS\t0.9360\t0.7735\t0.1625\n",
      "\n",
      "MODEL #22\tOrig\tSynth\tDiff\n",
      "glm prediction progress: |████████████████████████████████████████████████| 100%\n",
      "glm prediction progress: |████████████████████████████████████████████████| 100%\n",
      "ACCURACY_SCORE\t0.7950\t0.8062\t-0.0112\n",
      "F1_SCORE\t0.5149\t0.5034\t0.0116\n",
      "PRECISION_SCORE\t0.5401\t0.5809\t-0.0408\n",
      "RECALL_SCORE\t0.4920\t0.4441\t0.0479\n",
      "ROC_AUC_SCORE\t0.4920\t0.7212\t-0.2292\n",
      "LOG_LOSS\t0.4920\t0.5639\t-0.0718\n"
     ]
    }
   ],
   "source": [
    "from sklearn.metrics import accuracy_score, f1_score, precision_score, recall_score, roc_auc_score, log_loss\n",
    "\n",
    "df_orig = train_orig.as_data_frame()\n",
    "\n",
    "for i in np.concatenate((range(5), range(18, 22))):\n",
    "    print('\\nMODEL #{}\\tOrig\\tSynth\\tDiff'.format(i+1))\n",
    "    best_orig_model = h2o.get_model(models_orig[i])\n",
    "    best_synth_model = h2o.get_model(models_synth[i])\n",
    "    \n",
    "    df_pred_orig = best_orig_model.predict(train_orig).as_data_frame()\n",
    "    df_pred_synth = best_synth_model.predict(train_orig).as_data_frame()\n",
    "\n",
    "    metrics = [accuracy_score, f1_score, precision_score, recall_score]\n",
    "    metrics_prob = [roc_auc_score, log_loss]\n",
    "\n",
    "    for metric in metrics:\n",
    "        m_orig = metric(df_orig[y], df_pred_orig['predict'])\n",
    "        m_synth = metric(df_orig[y], df_pred_synth['predict'])\n",
    "        m_diff = m_orig - m_synth\n",
    "        print('{}\\t{:.4f}\\t{:.4f}\\t{:.4f}'.format(str(metric).split()[1].upper(), m_orig, m_synth, m_diff))\n",
    "\n",
    "    for metric in metrics_prob:\n",
    "        m_synth = metric(df_orig[y], df_pred_orig['p1'])\n",
    "        m_synth = metric(df_orig[y], df_pred_synth['p1'])\n",
    "        m_diff = m_orig - m_synth\n",
    "        print('{}\\t{:.4f}\\t{:.4f}\\t{:.4f}'.format(str(metric).split()[1].upper(), m_orig, m_synth, m_diff))\n",
    "\n"
   ]
  },
  {
   "cell_type": "code",
   "execution_count": 218,
   "metadata": {},
   "outputs": [
    {
     "data": {
      "text/plain": [
       "0        0.682848\n",
       "1        0.425281\n",
       "2        0.114159\n",
       "3        0.132716\n",
       "4        0.093284\n",
       "           ...   \n",
       "29995    0.090554\n",
       "29996    0.133151\n",
       "29997    0.729974\n",
       "29998    0.236882\n",
       "29999    0.168521\n",
       "Name: p1, Length: 30000, dtype: float64"
      ]
     },
     "execution_count": 218,
     "metadata": {},
     "output_type": "execute_result"
    }
   ],
   "source": [
    "df_pred_orig['p1']"
   ]
  },
  {
   "cell_type": "code",
   "execution_count": 217,
   "metadata": {},
   "outputs": [
    {
     "ename": "ValueError",
     "evalue": "continuous format is not supported",
     "output_type": "error",
     "traceback": [
      "\u001b[0;31m---------------------------------------------------------------------------\u001b[0m",
      "\u001b[0;31mValueError\u001b[0m                                Traceback (most recent call last)",
      "\u001b[0;32m<ipython-input-217-eb722026a577>\u001b[0m in \u001b[0;36m<module>\u001b[0;34m\u001b[0m\n\u001b[0;32m----> 1\u001b[0;31m \u001b[0mroc_auc_score\u001b[0m\u001b[0;34m(\u001b[0m\u001b[0mdf_pred_orig\u001b[0m\u001b[0;34m[\u001b[0m\u001b[0;34m'p1'\u001b[0m\u001b[0;34m]\u001b[0m\u001b[0;34m.\u001b[0m\u001b[0mvalues\u001b[0m\u001b[0;34m,\u001b[0m \u001b[0mdf_orig\u001b[0m\u001b[0;34m[\u001b[0m\u001b[0my\u001b[0m\u001b[0;34m]\u001b[0m\u001b[0;34m.\u001b[0m\u001b[0mvalues\u001b[0m\u001b[0;34m)\u001b[0m\u001b[0;34m\u001b[0m\u001b[0;34m\u001b[0m\u001b[0m\n\u001b[0m",
      "\u001b[0;32m~/PycharmProjects/synthesized/venv/lib/python3.7/site-packages/sklearn/metrics/ranking.py\u001b[0m in \u001b[0;36mroc_auc_score\u001b[0;34m(y_true, y_score, average, sample_weight, max_fpr)\u001b[0m\n\u001b[1;32m    353\u001b[0m     return _average_binary_score(\n\u001b[1;32m    354\u001b[0m         \u001b[0m_binary_roc_auc_score\u001b[0m\u001b[0;34m,\u001b[0m \u001b[0my_true\u001b[0m\u001b[0;34m,\u001b[0m \u001b[0my_score\u001b[0m\u001b[0;34m,\u001b[0m \u001b[0maverage\u001b[0m\u001b[0;34m,\u001b[0m\u001b[0;34m\u001b[0m\u001b[0;34m\u001b[0m\u001b[0m\n\u001b[0;32m--> 355\u001b[0;31m         sample_weight=sample_weight)\n\u001b[0m\u001b[1;32m    356\u001b[0m \u001b[0;34m\u001b[0m\u001b[0m\n\u001b[1;32m    357\u001b[0m \u001b[0;34m\u001b[0m\u001b[0m\n",
      "\u001b[0;32m~/PycharmProjects/synthesized/venv/lib/python3.7/site-packages/sklearn/metrics/base.py\u001b[0m in \u001b[0;36m_average_binary_score\u001b[0;34m(binary_metric, y_true, y_score, average, sample_weight)\u001b[0m\n\u001b[1;32m     71\u001b[0m     \u001b[0my_type\u001b[0m \u001b[0;34m=\u001b[0m \u001b[0mtype_of_target\u001b[0m\u001b[0;34m(\u001b[0m\u001b[0my_true\u001b[0m\u001b[0;34m)\u001b[0m\u001b[0;34m\u001b[0m\u001b[0;34m\u001b[0m\u001b[0m\n\u001b[1;32m     72\u001b[0m     \u001b[0;32mif\u001b[0m \u001b[0my_type\u001b[0m \u001b[0;32mnot\u001b[0m \u001b[0;32min\u001b[0m \u001b[0;34m(\u001b[0m\u001b[0;34m\"binary\"\u001b[0m\u001b[0;34m,\u001b[0m \u001b[0;34m\"multilabel-indicator\"\u001b[0m\u001b[0;34m)\u001b[0m\u001b[0;34m:\u001b[0m\u001b[0;34m\u001b[0m\u001b[0;34m\u001b[0m\u001b[0m\n\u001b[0;32m---> 73\u001b[0;31m         \u001b[0;32mraise\u001b[0m \u001b[0mValueError\u001b[0m\u001b[0;34m(\u001b[0m\u001b[0;34m\"{0} format is not supported\"\u001b[0m\u001b[0;34m.\u001b[0m\u001b[0mformat\u001b[0m\u001b[0;34m(\u001b[0m\u001b[0my_type\u001b[0m\u001b[0;34m)\u001b[0m\u001b[0;34m)\u001b[0m\u001b[0;34m\u001b[0m\u001b[0;34m\u001b[0m\u001b[0m\n\u001b[0m\u001b[1;32m     74\u001b[0m \u001b[0;34m\u001b[0m\u001b[0m\n\u001b[1;32m     75\u001b[0m     \u001b[0;32mif\u001b[0m \u001b[0my_type\u001b[0m \u001b[0;34m==\u001b[0m \u001b[0;34m\"binary\"\u001b[0m\u001b[0;34m:\u001b[0m\u001b[0;34m\u001b[0m\u001b[0;34m\u001b[0m\u001b[0m\n",
      "\u001b[0;31mValueError\u001b[0m: continuous format is not supported"
     ]
    }
   ],
   "source": [
    "roc_auc_score(df_pred_orig['p1'].values, df_orig[y].values)"
   ]
  },
  {
   "cell_type": "code",
   "execution_count": null,
   "metadata": {},
   "outputs": [],
   "source": []
  }
 ],
 "metadata": {
  "kernelspec": {
   "display_name": "synthesized",
   "language": "python",
   "name": "synthesized"
  },
  "language_info": {
   "codemirror_mode": {
    "name": "ipython",
    "version": 3
   },
   "file_extension": ".py",
   "mimetype": "text/x-python",
   "name": "python",
   "nbconvert_exporter": "python",
   "pygments_lexer": "ipython3",
   "version": "3.7.3"
  }
 },
 "nbformat": 4,
 "nbformat_minor": 2
}
