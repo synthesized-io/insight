{
 "cells": [
  {
   "cell_type": "code",
   "execution_count": null,
   "metadata": {
    "pycharm": {
     "metadata": false,
     "name": "#%%\n"
    }
   },
   "outputs": [],
   "source": [
    "%matplotlib inline"
   ]
  },
  {
   "cell_type": "code",
   "execution_count": null,
   "metadata": {
    "pycharm": {}
   },
   "outputs": [],
   "source": [
    "! jt -t grade3 -nf opensans"
   ]
  },
  {
   "cell_type": "markdown",
   "metadata": {
    "pycharm": {}
   },
   "source": [
    "<h1><center>1. Load Data</center></h1>\n",
    "\n"
   ]
  },
  {
   "cell_type": "code",
   "execution_count": null,
   "metadata": {
    "pycharm": {}
   },
   "outputs": [],
   "source": [
    "import os\n",
    "import json\n",
    "import warnings\n",
    "import pandas as pd\n",
    "\n",
    "warnings.filterwarnings(action='ignore', message='numpy.dtype size changed')\n",
    "warnings.filterwarnings(action='ignore', message='compiletime version 3.5 of module')\n",
    "\n",
    "if not 'workbookDir' in globals():\n",
    "    workbookDir = os.getcwd()\n",
    "os.chdir(os.path.split(workbookDir)[0])\n",
    "\n",
    "%load_ext autoreload\n",
    "%autoreload 2\n",
    "%matplotlib inline"
   ]
  },
  {
   "cell_type": "code",
   "execution_count": null,
   "metadata": {},
   "outputs": [],
   "source": [
    "import matplotlib as mpl\n",
    "import matplotlib.pyplot as plt\n",
    "\n",
    "# Set the style of plots\n",
    "plt.style.use('seaborn')\n",
    "mpl.rcParams[\"axes.facecolor\"] = 'w'\n",
    "mpl.rcParams['grid.color'] = 'grey'\n",
    "mpl.rcParams['grid.alpha'] = 0.1\n",
    "\n",
    "mpl.rcParams['axes.linewidth'] = 0.3\n",
    "mpl.rcParams['axes.edgecolor'] = 'grey'\n",
    "\n",
    "mpl.rcParams['axes.spines.right'] = True\n",
    "mpl.rcParams['axes.spines.top'] = True"
   ]
  },
  {
   "cell_type": "code",
   "execution_count": null,
   "metadata": {},
   "outputs": [],
   "source": [
    "from synthesized.testing.plotting import plot_avg_distances\n",
    "from synthesized.testing import UtilityTesting\n",
    "from synthesized import HighDimSynthesizer\n",
    "\n",
    "def run_baseline_evaluation(evaluation, evaluation_name, config, ax=None):\n",
    "    config = configs[\"instances\"][evaluation_name]\n",
    "    evaluation.record_config(evaluation=evaluation_name, config=config)\n",
    "    data = pd.read_csv(evaluation.configs[evaluation_name]['data'])\n",
    "    data = data.drop(evaluation.configs[evaluation_name]['ignore_columns'], axis=1)\n",
    "    \n",
    "    display(Markdown(\"data length {}\".format(len(data))))\n",
    "    train, test = train_test_split(data, test_size=0.5)\n",
    "    \n",
    "    plot_avg_distances(train, test, evaluation, evaluation_name, ax=ax)\n",
    "    \n",
    "    try:\n",
    "        synthesizer = HighDimSynthesizer(df=data)\n",
    "        testing = UtilityTesting(synthesizer, test, train, test)\n",
    "        utility = testing.utility(target=evaluation.configs[evaluation_name]['target'])\n",
    "    except:\n",
    "        utility = 1.0\n",
    "    evaluation.record_metric(evaluation=evaluation_name, key='utility', value=utility)\n",
    "    evaluation.record_metric(evaluation=evaluation_name, key='training_time', value=0.)\n",
    "\n"
   ]
  },
  {
   "cell_type": "code",
   "execution_count": null,
   "metadata": {
    "pycharm": {},
    "scrolled": false
   },
   "outputs": [],
   "source": [
    "from sklearn.model_selection import train_test_split\n",
    "from synthesized.testing.evaluation import Evaluation\n",
    "from synthesized.testing import plotting as syn_plot\n",
    "from IPython.display import Markdown, display\n",
    "\n",
    "evaluation_name = os.environ.get('evaluation_name', 'n/a')\n",
    "branch = 'master'\n",
    "revision = os.environ.get('evaluation_revision', 'n/a')\n",
    "evaluation = Evaluation(branch=branch, revision=revision, group='baseline_evaluation', \n",
    "                        metrics_file= '../metrics_baseline.jsonl')\n",
    "\n",
    "config_path = os.environ.get('baseline_evaluation_config_path','n/a')\n",
    "\n",
    "with open(config_path, 'r') as f:\n",
    "    configs = json.load(f)\n",
    "\n",
    "for evaluation_name, config in configs['instances'].items():\n",
    "    display(Markdown(\"## {}\".format(evaluation_name)))\n",
    "    run_baseline_evaluation(evaluation, evaluation_name, config)\n",
    "    plt.show()\n"
   ]
  },
  {
   "cell_type": "code",
   "execution_count": null,
   "metadata": {
    "pycharm": {
     "metadata": false,
     "name": "#%%md\n"
    }
   },
   "outputs": [],
   "source": [
    "evaluation.write_metrics(append=False)"
   ]
  }
 ],
 "metadata": {
  "kernelspec": {
   "display_name": "Python 3",
   "language": "python",
   "name": "python3"
  },
  "language_info": {
   "codemirror_mode": {
    "name": "ipython",
    "version": 3
   },
   "file_extension": ".py",
   "mimetype": "text/x-python",
   "name": "python",
   "nbconvert_exporter": "python",
   "pygments_lexer": "ipython3",
   "version": "3.7.3"
  },
  "stem_cell": {
   "cell_type": "raw",
   "metadata": {
    "pycharm": {
     "metadata": false
    }
   },
   "source": ""
  }
 },
 "nbformat": 4,
 "nbformat_minor": 2
}
