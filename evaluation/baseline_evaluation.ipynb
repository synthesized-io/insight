{
 "cells": [
  {
   "cell_type": "code",
   "execution_count": null,
   "metadata": {
    "pycharm": {
     "metadata": false,
     "name": "#%%\n"
    }
   },
   "outputs": [],
   "source": [
    "%matplotlib inline"
   ]
  },
  {
   "cell_type": "code",
   "execution_count": null,
   "metadata": {
    "pycharm": {}
   },
   "outputs": [],
   "source": [
    "! jt -t grade3 -nf opensans"
   ]
  },
  {
   "cell_type": "markdown",
   "metadata": {
    "pycharm": {}
   },
   "source": [
    "<h1><center>1. Load Data</center></h1>\n",
    "\n"
   ]
  },
  {
   "cell_type": "code",
   "execution_count": null,
   "metadata": {
    "pycharm": {}
   },
   "outputs": [],
   "source": [
    "import os\n",
    "import json\n",
    "import logging\n",
    "\n",
    "if not 'workbookDir' in globals():\n",
    "    workbookDir = os.getcwd()\n",
    "os.chdir(os.path.split(workbookDir)[0])\n",
    "\n",
    "from IPython.display import Markdown, display\n",
    "import pandas as pd\n",
    "\n",
    "from synthesized.testing.evaluation import Evaluation, baseline_evaluation_and_plot\n",
    "from synthesized.testing.plotting import set_plotting_style\n",
    "\n",
    "%load_ext autoreload\n",
    "%autoreload 2\n",
    "%matplotlib inline\n",
    "\n",
    "set_plotting_style()"
   ]
  },
  {
   "cell_type": "code",
   "execution_count": null,
   "metadata": {},
   "outputs": [],
   "source": [
    "branch = 'master'\n",
    "revision = os.environ.get('evaluation_revision', 'n/a')\n",
    "server_mode = os.environ.get('SERVER_MODE', 'n/a')\n",
    "metrics_file = f\"../{server_mode}/metrics_baseline-{server_mode}.jsonl\"\n",
    "\n",
    "evaluation = Evaluation(branch=branch, revision=revision, group='baseline_evaluation',\n",
    "                        metrics_file=metrics_file)\n",
    "\n",
    "config_path = os.environ.get('baseline_evaluation_config_path',\n",
    "                             'configs/evaluation/highdim-exp_dataset_evaluation.json')\n",
    "\n",
    "with open(config_path, 'r') as f:\n",
    "    configs = json.load(f)\n"
   ]
  },
  {
   "cell_type": "code",
   "execution_count": null,
   "metadata": {
    "pycharm": {},
    "scrolled": false
   },
   "outputs": [],
   "source": [
    "for evaluation_name, config in configs['instances'].items():\n",
    "    display(Markdown(\"## {}\".format(evaluation_name)))\n",
    "\n",
    "    evaluation.record_config(evaluation=evaluation_name, config=config)\n",
    "    data = pd.read_csv(evaluation.configs[evaluation_name]['data'])\n",
    "    data = data.drop(evaluation.configs[evaluation_name]['ignore_columns'], axis=1)\n",
    "\n",
    "    baseline_evaluation_and_plot(data, evaluation_name, evaluation)\n"
   ]
  },
  {
   "cell_type": "code",
   "execution_count": null,
   "metadata": {
    "pycharm": {
     "metadata": false,
     "name": "#%%md\n"
    }
   },
   "outputs": [],
   "source": [
    "evaluation.write_metrics(append=False)"
   ]
  }
 ],
 "metadata": {
  "kernelspec": {
   "display_name": "Python 3",
   "language": "python",
   "name": "python3"
  },
  "language_info": {
   "codemirror_mode": {
    "name": "ipython",
    "version": 3
   },
   "file_extension": ".py",
   "mimetype": "text/x-python",
   "name": "python",
   "nbconvert_exporter": "python",
   "pygments_lexer": "ipython3",
   "version": "3.7.5"
  },
  "stem_cell": {
   "cell_type": "raw",
   "metadata": {
    "pycharm": {
     "metadata": false
    }
   },
   "source": ""
  }
 },
 "nbformat": 4,
 "nbformat_minor": 2
}