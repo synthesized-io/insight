{
 "cells": [
  {
   "cell_type": "code",
   "execution_count": 1,
   "metadata": {
    "pycharm": {
     "metadata": false,
     "name": "#%%\n"
    }
   },
   "outputs": [],
   "source": [
    "import os\n",
    "import warnings\n",
    "\n",
    "warnings.filterwarnings(action='ignore', message='numpy.dtype size changed')\n",
    "warnings.filterwarnings(action='ignore', message='compiletime version 3.5 of module')\n",
    "\n",
    "if not 'workbookDir' in globals():\n",
    "    workbookDir = os.getcwd()\n",
    "os.chdir(os.path.split(workbookDir)[0])\n",
    "\n",
    "%load_ext autoreload\n",
    "%autoreload 2\n",
    "%matplotlib inline"
   ]
  },
  {
   "cell_type": "code",
   "execution_count": 2,
   "metadata": {
    "pycharm": {
     "metadata": false,
     "name": "#%%\n"
    }
   },
   "outputs": [
    {
     "name": "stdout",
     "output_type": "stream",
     "text": [
      "Copyright (C) Synthesized Ltd. - All Rights Reserved\n",
      "License key: EE6B-6720-67A2-32F3-3139-2D31-322D-B531\n",
      "Expires at: 2019-12-31 00:00:00\n",
      "\n",
      "WARNING: The TensorFlow contrib module will not be included in TensorFlow 2.0.\n",
      "For more information, please see:\n",
      "  * https://github.com/tensorflow/community/blob/master/rfcs/20180907-contrib-sunset.md\n",
      "  * https://github.com/tensorflow/addons\n",
      "If you depend on functionality not listed there, please file an issue.\n",
      "\n"
     ]
    }
   ],
   "source": [
    "from scipy.stats import ks_2samp\n",
    "from synthesized.core import BasicSynthesizer\n",
    "from synthesized.testing.synthetic_distributions import *\n",
    "from synthesized.testing.synthetic_distributions import _plot_data"
   ]
  },
  {
   "cell_type": "code",
   "execution_count": 3,
   "metadata": {},
   "outputs": [],
   "source": [
    "def log_values(synthesizer):\n",
    "    print(' ', 'value types:')\n",
    "    for value in synthesizer.values:\n",
    "        print(' ', value.name, value)\n",
    "    print()\n",
    "\n",
    "def log_distance(df_original, df_synthesized):\n",
    "    distances = list()\n",
    "    for name in df_original:\n",
    "        distance = ks_2samp(df_original[name], df_synthesized[name]).statistic\n",
    "        suffix = ''\n",
    "        if distance < 0.05:\n",
    "            suffix += '*'\n",
    "        if distance < 0.01:\n",
    "            suffix += '*'\n",
    "        distances.append('{:.3f}{}'.format(distance, suffix))\n",
    "    print('/'.join(distances), end='  ')"
   ]
  },
  {
   "cell_type": "code",
   "execution_count": 4,
   "metadata": {},
   "outputs": [],
   "source": [
    "size = 100000\n",
    "\n",
    "def synthesize(df_original, num_iterations, num_logging, fn_logging=log_distance, **kwargs):\n",
    "    start = time.time()\n",
    "    with BasicSynthesizer(df_original, **kwargs) as synthesizer:\n",
    "        log_values(synthesizer)\n",
    "        value_types = {value.name: type(value) for value in synthesizer.values}\n",
    "        df_synthesized = synthesizer.synthesize(n=len(df_original))\n",
    "        fn_logging(df_original, df_synthesized)\n",
    "        for _ in range(num_iterations // num_logging):\n",
    "            synthesizer.learn(data=df_original, num_iterations=num_logging)\n",
    "            df_synthesized = synthesizer.synthesize(n=len(df_original))\n",
    "            assert len(df_synthesized) == len(df_original)\n",
    "            fn_logging(df_original, df_synthesized)\n",
    "        print()\n",
    "        print(' ', 'took', time.time() - start, 's')\n",
    "        return synthesizer.synthesize(n=len(df_original)), value_types\n",
    "\n",
    "def plot(data, synthesized, value_types):\n",
    "#     distances = [ks_2samp(data[col], synthesized[col])[0] for col in data.columns]\n",
    "#     avg_distance = np.mean(distances)\n",
    "#     evaluation[name + '_avg_distance'] = avg_distance\n",
    "    fig, (ax1, ax2) = plt.subplots(1, 2, figsize=(15, 5), sharex=True, sharey=True)\n",
    "    ax1.set_title('original')\n",
    "    ax2.set_title('synthesized')\n",
    "    _plot_data(data, ax=ax1, value_types=value_types)\n",
    "    _plot_data(synthesized, ax=ax2, value_types=value_types)"
   ]
  },
  {
   "cell_type": "markdown",
   "metadata": {},
   "source": [
    "## 1. Single-column categorical"
   ]
  },
  {
   "cell_type": "markdown",
   "metadata": {},
   "source": [
    "Interesting hyperparameters: entropy regularization, learning rate and decay, beta loss.\n",
    "\n",
    "Only change between different categorical distributions: entropy regularization."
   ]
  },
  {
   "cell_type": "markdown",
   "metadata": {},
   "source": [
    "### (a) Bernoulli(0.3)"
   ]
  },
  {
   "cell_type": "code",
   "execution_count": 19,
   "metadata": {},
   "outputs": [
    {
     "name": "stdout",
     "output_type": "stream",
     "text": [
      "  value types:\n",
      "  x categorical2-281\n",
      "\n",
      "0.240  0.147  0.091  0.053  0.036*  0.035*  0.045*  0.023*  0.036*  0.033*  0.017*  0.022*  0.026*  0.021*  0.017*  0.017*  0.013*  0.013*  0.009**  0.008**  0.005**  0.007**  0.007**  0.008**  0.006**  0.005**  0.005**  0.004**  0.002**  0.001**  0.002**  0.004**  0.002**  0.002**  0.003**  0.001**  0.001**  0.001**  0.003**  0.001**  0.002**  0.002**  0.002**  0.002**  0.003**  0.003**  0.006**  0.006**  0.005**  0.008**  0.008**  \n",
      "  took 98.81470799446106 s\n"
     ]
    }
   ],
   "source": [
    "df_original = create_bernoulli(probability=0.3, size=size)\n",
    "df_synthesized, value_types = synthesize(\n",
    "    df_original=df_original, summarizer=True, num_iterations=1000, num_logging=20,\n",
    "    # encoder/decoder\n",
    "    network_type='mlp', capacity=512, depth=2, layer_type='dense',\n",
    "    batchnorm=True, activation='relu', weight_decay=1e-3,\n",
    "    # encoding\n",
    "    encoding_type='variational', encoding_size=512, encoding_kwargs=dict(beta=5.0),\n",
    "    # optimizer\n",
    "    optimizer='adam', learning_rate=1e-5, decay_steps=200, decay_rate=0.5,\n",
    "    clip_gradients=1.0, batch_size=128,\n",
    "    # losses\n",
    "    categorical_weight=1.0, continuous_weight=1.0,\n",
    "    # categorical\n",
    "    smoothing=0.0, moving_average=True, similarity_regularization=0.0,\n",
    "    entropy_regularization=0.07\n",
    ")"
   ]
  },
  {
   "cell_type": "markdown",
   "metadata": {
    "pycharm": {
     "metadata": false,
     "name": "#%% md\n"
    }
   },
   "source": [
    "### (b) Bernoulli(0.1)"
   ]
  },
  {
   "cell_type": "code",
   "execution_count": 6,
   "metadata": {
    "pycharm": {
     "metadata": false,
     "name": "#%% \n"
    }
   },
   "outputs": [
    {
     "name": "stdout",
     "output_type": "stream",
     "text": [
      "  value types:\n",
      "  x categorical2-281\n",
      "\n",
      "0.428  0.294  0.198  0.133  0.084  0.049*  0.031*  0.016*  0.002**  0.003**  0.004**  0.005**  0.006**  0.006**  0.009**  0.008**  0.009**  0.008**  0.006**  0.003**  0.002**  0.003**  0.002**  0.004**  0.001**  0.001**  0.000**  0.004**  0.004**  0.002**  0.003**  0.001**  0.003**  0.000**  0.001**  0.000**  0.001**  0.001**  0.001**  0.001**  0.000**  0.000**  0.002**  0.001**  0.001**  0.001**  0.000**  0.001**  0.000**  0.000**  0.000**  \n",
      "  took 94.51124119758606 s\n"
     ]
    }
   ],
   "source": [
    "df_original = create_bernoulli(probability=0.1, size=size)\n",
    "df_synthesized, value_types = synthesize(\n",
    "    df_original=df_original, summarizer=True, num_iterations=1000, num_logging=20,\n",
    "    # encoder/decoder\n",
    "    network_type='mlp', capacity=512, depth=2, layer_type='dense',\n",
    "    batchnorm=True, activation='relu', weight_decay=1e-3,\n",
    "    # encoding\n",
    "    encoding_type='variational', encoding_size=512, encoding_kwargs=dict(beta=5.0),\n",
    "    # optimizer\n",
    "    optimizer='adam', learning_rate=1e-5, decay_steps=200, decay_rate=0.5,\n",
    "    clip_gradients=1.0, batch_size=128,\n",
    "    # categorical\n",
    "    smoothing=0.0, moving_average=True, similarity_regularization=0.0,\n",
    "    entropy_regularization=0.05\n",
    ")"
   ]
  },
  {
   "cell_type": "markdown",
   "metadata": {
    "pycharm": {
     "metadata": false
    }
   },
   "source": [
    "### (c) Categorical([0.5, 0.25, 0.125, ...])"
   ]
  },
  {
   "cell_type": "code",
   "execution_count": 31,
   "metadata": {
    "pycharm": {
     "metadata": false,
     "name": "#%%\n"
    }
   },
   "outputs": [
    {
     "name": "stdout",
     "output_type": "stream",
     "text": [
      "  value types:\n",
      "  x categorical5-458\n",
      "\n",
      "0.514  0.382  0.279  0.217  0.164  0.118  0.082  0.060  0.049*  0.034*  0.027*  0.025*  0.024*  0.015*  0.005**  0.002**  0.002**  0.003**  0.010*  0.012*  0.009**  0.007**  0.008**  0.010**  0.010*  0.014*  0.017*  0.016*  0.019*  0.018*  0.019*  0.021*  0.026*  0.025*  0.025*  0.024*  0.026*  0.026*  0.028*  0.027*  0.028*  0.028*  0.028*  0.028*  0.030*  0.030*  0.030*  0.029*  0.033*  0.033*  0.031*  \n",
      "  took 89.43375086784363 s\n"
     ]
    }
   ],
   "source": [
    "df_original = create_categorical(probabilities=[0.5, 0.25, 0.125, 0.0625, 0.0625], size=size)\n",
    "df_synthesized, value_types = synthesize(\n",
    "    df_original=df_original, summarizer=True, num_iterations=1000, num_logging=20,\n",
    "    # encoder/decoder\n",
    "    network_type='mlp', capacity=512, depth=2, layer_type='dense',\n",
    "    batchnorm=True, activation='relu', weight_decay=1e-3,\n",
    "    # encoding\n",
    "    encoding_type='variational', encoding_size=512, encoding_kwargs=dict(beta=5.0),\n",
    "    # optimizer\n",
    "    optimizer='adam', learning_rate=1e-5, decay_steps=200, decay_rate=0.5,\n",
    "    clip_gradients=1.0, batch_size=128,\n",
    "    # categorical\n",
    "    smoothing=0.0, moving_average=True, similarity_regularization=0.0,\n",
    "    entropy_regularization=0.13\n",
    ")"
   ]
  },
  {
   "cell_type": "markdown",
   "metadata": {},
   "source": [
    "## 2. Single-column continuous"
   ]
  },
  {
   "cell_type": "markdown",
   "metadata": {},
   "source": [
    "Interesting hyperparameters: learning rate and decay, beta loss"
   ]
  },
  {
   "cell_type": "markdown",
   "metadata": {
    "pycharm": {
     "metadata": false
    }
   },
   "source": [
    "### (a) Gaussian(0, 1)"
   ]
  },
  {
   "cell_type": "code",
   "execution_count": 35,
   "metadata": {
    "pycharm": {
     "metadata": false,
     "name": "#%%\n"
    }
   },
   "outputs": [
    {
     "name": "stdout",
     "output_type": "stream",
     "text": [
      "  value types:\n",
      "  x continuous-log_normal\n",
      "\n",
      "0.433  0.049*  0.057  0.031*  0.050*  0.044*  0.053  0.032*  0.037*  0.035*  0.050*  0.050*  0.052  0.041*  0.049*  0.040*  0.035*  0.035*  0.038*  0.037*  0.039*  0.040*  0.040*  0.041*  0.042*  0.043*  0.042*  0.042*  0.042*  0.043*  0.041*  0.042*  0.042*  0.042*  0.042*  0.041*  0.043*  0.041*  0.041*  0.041*  0.043*  0.042*  0.042*  0.042*  0.042*  0.043*  0.041*  0.041*  0.042*  0.042*  0.042*  \n",
      "  took 87.26744198799133 s\n"
     ]
    }
   ],
   "source": [
    "df_original = create_1d_gaussian(mean=0.0, std=1.0, size=size)\n",
    "df_synthesized, value_types = synthesize(\n",
    "    df_original=df_original, summarizer=True, num_iterations=1000, num_logging=20,\n",
    "    # encoder/decoder\n",
    "    network_type='mlp', capacity=512, depth=2, layer_type='dense',\n",
    "    batchnorm=True, activation='relu', weight_decay=1e-3,\n",
    "    # encoding\n",
    "    encoding_type='variational', encoding_size=512, encoding_kwargs=dict(beta=0.0005),\n",
    "    # optimizer\n",
    "    optimizer='adam', learning_rate=3e-3, decay_steps=100, decay_rate=0.5,\n",
    "    clip_gradients=1.0, batch_size=128\n",
    ")"
   ]
  },
  {
   "cell_type": "markdown",
   "metadata": {},
   "source": [
    "### (b) Gaussian mixture N(0, 1) and N(3, 1)"
   ]
  },
  {
   "cell_type": "markdown",
   "metadata": {},
   "source": [
    "Please note that fitting of distributions is not stable and for the same parameters of original distribution we can get a different fitted distribution. We actually should not fit any distribution in this case. Shouldn't we decrease threshold for distribution fitting?"
   ]
  },
  {
   "cell_type": "code",
   "execution_count": null,
   "metadata": {},
   "outputs": [
    {
     "name": "stdout",
     "output_type": "stream",
     "text": [
      "  value types:\n",
      "  x continuous-normal\n",
      "\n",
      "0.447  0.086  0.078  0.077  0.067  0.088  0.110  0.088  0.082  0.090  0.087  0.071  0.085  0.065  0.077  0.061  0.028*  0.040*  0.060  0.026*  0.040*  0.023*  0.035*  0.025*  0.029*  0.026*  0.020*  0.038*  0.033*  0.028*  0.037*  0.029*  0.018*  0.020*  0.029*  0.036*  0.019*  0.022*  0.038*  0.035*  0.018*  \n",
      "  took 128.4334478378296 s\n"
     ]
    }
   ],
   "source": [
    "df_original = create_two_gaussian_mixtures(mean1=0.0, std1=1.0, mean2=3.0, std2=1.0, size=size)\n",
    "df_synthesized, value_types = synthesize(\n",
    "    df_original=df_original, summarizer=True, num_iterations=4000, num_logging=100,\n",
    "    # encoder/decoder\n",
    "    network_type='mlp', capacity=512, depth=2, layer_type='dense',\n",
    "    batchnorm=True, activation='relu', weight_decay=1e-5,\n",
    "    # encoding\n",
    "    encoding_type='variational', encoding_size=512, encoding_kwargs=dict(beta=0.0005),\n",
    "    # optimizer\n",
    "    optimizer='adam', learning_rate=3e-3, decay_steps=100, decay_rate=0.5,\n",
    "    clip_gradients=1.0, batch_size=128\n",
    ")"
   ]
  },
  {
   "cell_type": "markdown",
   "metadata": {},
   "source": [
    "#### (i) Production-like settings which sould produce reasonable result"
   ]
  },
  {
   "cell_type": "code",
   "execution_count": null,
   "metadata": {},
   "outputs": [
    {
     "name": "stdout",
     "output_type": "stream",
     "text": [
      "  value types:\n",
      "  x continuous-normal\n",
      "\n",
      "0.467  0.089  0.088  0.090  0.097  0.086  0.082  0.084  0.087  0.089  0.084  0.070  0.081  0.078  0.073  0.079  0.085  0.068  0.084  0.075  0.065  0.077  0.084  0.069  0.066  0.073  0.065  0.061  0.067  0.075  0.067  0.066  0.073  0.064  "
     ]
    }
   ],
   "source": [
    "df_original = create_two_gaussian_mixtures(mean1=0.0, std1=1.0, mean2=3.0, std2=1.0, size=size)\n",
    "df_synthesized, value_types = synthesize(\n",
    "    df_original=df_original, summarizer=True, num_iterations=5000, num_logging=100,\n",
    "    # encoder/decoder\n",
    "    network_type='mlp', capacity=128, depth=2, layer_type='dense',\n",
    "    batchnorm=True, activation='relu', weight_decay=1e-5, # weight_decay=1e-5\n",
    "    # encoding\n",
    "    encoding_type='variational', encoding_size=512, encoding_kwargs=dict(beta=0.001),\n",
    "    # optimizer\n",
    "    optimizer='adam', learning_rate=3e-4, decay_steps=1000, decay_rate=0.9,\n",
    "    clip_gradients=1.0, batch_size=64\n",
    ")"
   ]
  },
  {
   "cell_type": "code",
   "execution_count": 11,
   "metadata": {},
   "outputs": [
    {
     "data": {
      "text/plain": [
       "array([[<matplotlib.axes._subplots.AxesSubplot object at 0x13c99d208>]],\n",
       "      dtype=object)"
      ]
     },
     "execution_count": 11,
     "metadata": {},
     "output_type": "execute_result"
    },
    {
     "data": {
      "image/png": "[encoded data removed]",
      "text/plain": [
       "<Figure size 432x288 with 1 Axes>"
      ]
     },
     "metadata": {
      "needs_background": "light"
     },
     "output_type": "display_data"
    },
    {
     "data": {
      "image/png": "[encoded data removed]",
      "text/plain": [
       "<Figure size 432x288 with 1 Axes>"
      ]
     },
     "metadata": {
      "needs_background": "light"
     },
     "output_type": "display_data"
    }
   ],
   "source": [
    "df_original.hist(bins=100)\n",
    "df_synthesized.hist(bins=100)"
   ]
  },
  {
   "cell_type": "markdown",
   "metadata": {},
   "source": [
    "## 3. Two-column product distributions"
   ]
  },
  {
   "cell_type": "markdown",
   "metadata": {},
   "source": [
    "### (a) Bernoulli(0.1) x Bernoulli(0.1)"
   ]
  },
  {
   "cell_type": "markdown",
   "metadata": {},
   "source": [
    "Same hyperparameters as for single-column case, but slightly increased entropy regularization value."
   ]
  },
  {
   "cell_type": "code",
   "execution_count": 20,
   "metadata": {},
   "outputs": [
    {
     "name": "stdout",
     "output_type": "stream",
     "text": [
      "  value types:\n",
      "  x1 categorical2-281\n",
      "  x2 categorical2-281\n",
      "\n",
      "0.564/0.025*  0.427/0.029*  0.311/0.009**  0.206/0.020*  0.132/0.033*  0.092/0.033*  0.063/0.028*  0.046*/0.027*  0.039*/0.022*  0.032*/0.015*  0.030*/0.014*  0.026*/0.006**  0.024*/0.010**  0.019*/0.011*  0.013*/0.013*  0.010*/0.013*  0.008**/0.005**  0.007**/0.003**  0.005**/0.001**  0.002**/0.000**  0.003**/0.003**  0.006**/0.001**  0.005**/0.003**  0.004**/0.004**  0.004**/0.005**  0.004**/0.005**  0.004**/0.006**  0.007**/0.005**  0.008**/0.008**  0.008**/0.007**  0.009**/0.010**  0.011*/0.010**  0.010*/0.009**  0.012*/0.006**  0.014*/0.007**  0.014*/0.009**  0.014*/0.011*  0.014*/0.010**  0.014*/0.011*  0.014*/0.011*  0.013*/0.013*  0.013*/0.011*  0.014*/0.010*  0.015*/0.011*  0.013*/0.014*  0.013*/0.011*  0.015*/0.011*  0.015*/0.014*  0.015*/0.012*  0.015*/0.013*  0.016*/0.014*  \n",
      "  took 108.48408484458923 s\n"
     ]
    }
   ],
   "source": [
    "df_original = product(\n",
    "    df1=create_bernoulli(probability=0.1, size=size),\n",
    "    df2=create_bernoulli(probability=0.1, size=size)\n",
    ")\n",
    "df_synthesized, value_types = synthesize(\n",
    "    df_original=df_original, summarizer=True, num_iterations=1000, num_logging=20,\n",
    "    # encoder/decoder\n",
    "    network_type='mlp', capacity=512, depth=2, layer_type='dense',\n",
    "    batchnorm=True, activation='relu', weight_decay=1e-3,\n",
    "    # encoding\n",
    "    encoding_type='variational', encoding_size=512, encoding_kwargs=dict(beta=5.0),\n",
    "    # optimizer\n",
    "    optimizer='adam', learning_rate=1e-5, decay_steps=200, decay_rate=0.5,\n",
    "    clip_gradients=1.0, batch_size=128,\n",
    "    # categorical\n",
    "    smoothing=0.0, moving_average=True, similarity_regularization=0.0,\n",
    "    entropy_regularization=0.06\n",
    ")"
   ]
  },
  {
   "cell_type": "markdown",
   "metadata": {},
   "source": [
    "### (b) Gaussian(1, 1) x Gaussian(-1, 1)"
   ]
  },
  {
   "cell_type": "code",
   "execution_count": 13,
   "metadata": {},
   "outputs": [
    {
     "name": "stdout",
     "output_type": "stream",
     "text": [
      "  value types:\n",
      "  x1 continuous-weibull\n",
      "  x2 continuous-weibull\n",
      "\n",
      "0.412/0.416  "
     ]
    },
    {
     "name": "stderr",
     "output_type": "stream",
     "text": [
      "/Users/alexkuhnle/PycharmProjects/synthesized/venv/lib/python3.7/site-packages/pandas/core/indexing.py:635: SettingWithCopyWarning: \n",
      "A value is trying to be set on a copy of a slice from a DataFrame.\n",
      "Try using .loc[row_indexer,col_indexer] = value instead\n",
      "\n",
      "See the caveats in the documentation: http://pandas.pydata.org/pandas-docs/stable/indexing.html#indexing-view-versus-copy\n",
      "  self.obj[item_labels[indexer[info_axis]]] = value\n",
      "/Users/alexkuhnle/PycharmProjects/synthesized/venv/lib/python3.7/site-packages/pandas/core/indexing.py:543: SettingWithCopyWarning: \n",
      "A value is trying to be set on a copy of a slice from a DataFrame.\n",
      "Try using .loc[row_indexer,col_indexer] = value instead\n",
      "\n",
      "See the caveats in the documentation: http://pandas.pydata.org/pandas-docs/stable/indexing.html#indexing-view-versus-copy\n",
      "  self.obj[item] = s\n"
     ]
    },
    {
     "name": "stdout",
     "output_type": "stream",
     "text": [
      "0.086/0.062  0.060/0.051  0.042*/0.029*  0.045*/0.039*  0.057/0.048*  0.024*/0.059  0.052/0.043*  0.030*/0.052  0.053/0.057  0.043*/0.039*  0.052/0.040*  0.043*/0.058  0.038*/0.043*  0.047*/0.041*  0.044*/0.041*  0.040*/0.046*  0.042*/0.045*  0.046*/0.044*  0.042*/0.042*  0.042*/0.041*  0.042*/0.041*  0.041*/0.041*  0.040*/0.039*  0.043*/0.038*  0.043*/0.040*  0.042*/0.040*  0.045*/0.041*  0.042*/0.040*  0.042*/0.040*  0.042*/0.041*  0.042*/0.040*  0.042*/0.041*  0.041*/0.040*  0.042*/0.040*  0.042*/0.040*  0.042*/0.039*  0.044*/0.039*  0.042*/0.039*  0.041*/0.040*  0.042*/0.040*  0.042*/0.040*  0.042*/0.040*  0.041*/0.040*  0.041*/0.039*  0.042*/0.039*  0.043*/0.040*  0.042*/0.040*  0.042*/0.039*  0.042*/0.040*  0.043*/0.040*  \n",
      "  took 116.64546704292297 s\n"
     ]
    }
   ],
   "source": [
    "df_original = product(\n",
    "    df1=create_1d_gaussian(mean=1.0, std=1.0, size=size),\n",
    "    df2=create_1d_gaussian(mean=-1.0, std=1.0, size=size)\n",
    ")\n",
    "df_synthesized, value_types = synthesize(\n",
    "    df_original=df_original, summarizer=True, num_iterations=1000, num_logging=20,\n",
    "    # encoder/decoder\n",
    "    network_type='mlp', capacity=512, depth=2, layer_type='dense',\n",
    "    batchnorm=True, activation='relu', weight_decay=1e-3,\n",
    "    # encoding\n",
    "    encoding_type='variational', encoding_size=512, encoding_kwargs=dict(beta=0.0004),\n",
    "    # optimizer\n",
    "    optimizer='adam', learning_rate=3e-3, decay_steps=50, decay_rate=0.5,\n",
    "    clip_gradients=1.0, batch_size=128\n",
    ")"
   ]
  },
  {
   "cell_type": "markdown",
   "metadata": {},
   "source": [
    "### (c) Bernoulli x Gaussian"
   ]
  },
  {
   "cell_type": "markdown",
   "metadata": {},
   "source": [
    "#### (i) Uniform loss weights"
   ]
  },
  {
   "cell_type": "code",
   "execution_count": 14,
   "metadata": {},
   "outputs": [
    {
     "name": "stdout",
     "output_type": "stream",
     "text": [
      "  value types:\n",
      "  x1 categorical2-281\n",
      "  x2 continuous-normal\n",
      "\n",
      "0.291/0.418  0.172/0.418  0.092/0.416  0.049*/0.414  0.024*/0.412  0.006**/0.412  0.000**/0.411  0.005**/0.412  0.011*/0.412  0.012*/0.412  0.014*/0.413  0.016*/0.413  0.019*/0.413  0.019*/0.414  0.021*/0.413  0.023*/0.412  0.023*/0.412  0.025*/0.412  0.025*/0.413  0.027*/0.411  0.026*/0.411  0.027*/0.411  0.028*/0.412  0.028*/0.412  0.029*/0.412  0.030*/0.412  0.031*/0.412  0.031*/0.413  0.031*/0.413  0.032*/0.412  0.032*/0.413  0.031*/0.413  0.032*/0.412  0.031*/0.412  0.032*/0.413  0.031*/0.412  0.031*/0.413  0.032*/0.412  0.032*/0.413  0.031*/0.413  0.032*/0.413  0.032*/0.413  0.032*/0.413  0.034*/0.413  0.033*/0.413  0.034*/0.413  0.034*/0.412  0.034*/0.413  0.034*/0.412  0.035*/0.413  0.034*/0.413  \n",
      "  took 103.7576470375061 s\n"
     ]
    }
   ],
   "source": [
    "df_original = product(\n",
    "    df1=create_bernoulli(probability=0.1, size=size),\n",
    "    df2=create_1d_gaussian(mean=0.0, std=1.0, size=size)\n",
    ")\n",
    "df_synthesized, value_types = synthesize(\n",
    "    df_original=df_original, summarizer=True, num_iterations=1000, num_logging=20,\n",
    "    # encoder/decoder\n",
    "    network_type='mlp', capacity=512, depth=2, layer_type='dense',\n",
    "    batchnorm=True, activation='relu', weight_decay=1e-3,\n",
    "    # encoding\n",
    "    encoding_type='variational', encoding_size=512, encoding_kwargs=dict(beta=5.0),\n",
    "    # optimizer\n",
    "    optimizer='adam', learning_rate=1e-5, decay_steps=200, decay_rate=0.5,\n",
    "    clip_gradients=1.0, batch_size=128,\n",
    "    # losses\n",
    "    categorical_weight=1.0, continuous_weight=1.0,\n",
    "    # categorical\n",
    "    smoothing=0.0, moving_average=True, similarity_regularization=0.0,\n",
    "    entropy_regularization=0.05\n",
    ")"
   ]
  },
  {
   "cell_type": "markdown",
   "metadata": {},
   "source": [
    "#### (ii) Biased loss weights"
   ]
  },
  {
   "cell_type": "code",
   "execution_count": 16,
   "metadata": {},
   "outputs": [
    {
     "name": "stdout",
     "output_type": "stream",
     "text": [
      "  value types:\n",
      "  x1 categorical2-281\n",
      "  x2 continuous-log_normal\n",
      "\n",
      "0.393/0.442  0.256/0.434  0.160/0.419  0.094/0.400  0.057/0.378  0.031*/0.356  0.020*/0.333  0.013*/0.316  0.010*/0.300  0.008**/0.287  0.005**/0.275  0.008**/0.265  0.006**/0.256  0.007**/0.249  0.006**/0.242  0.003**/0.236  0.003**/0.231  0.005**/0.227  0.004**/0.225  0.002**/0.223  0.003**/0.221  0.002**/0.218  0.001**/0.216  0.002**/0.215  0.002**/0.213  0.003**/0.212  0.003**/0.211  0.004**/0.210  0.004**/0.208  0.005**/0.207  0.004**/0.205  0.004**/0.205  0.004**/0.205  0.006**/0.204  0.004**/0.203  0.005**/0.203  0.003**/0.203  0.005**/0.202  0.003**/0.202  0.003**/0.201  0.003**/0.199  0.003**/0.201  0.004**/0.199  0.004**/0.200  0.005**/0.200  0.004**/0.198  0.003**/0.199  0.004**/0.199  0.004**/0.198  0.004**/0.198  0.002**/0.197  \n",
      "  took 101.09803986549377 s\n"
     ]
    }
   ],
   "source": [
    "df_original = product(\n",
    "    df1=create_bernoulli(probability=0.1, size=size),\n",
    "    df2=create_1d_gaussian(mean=0.0, std=1.0, size=size)\n",
    ")\n",
    "df_synthesized, value_types = synthesize(\n",
    "    df_original=df_original, summarizer=True, num_iterations=1000, num_logging=20,\n",
    "    # encoder/decoder\n",
    "    network_type='mlp', capacity=512, depth=2, layer_type='dense',\n",
    "    batchnorm=True, activation='relu', weight_decay=1e-3,\n",
    "    # encoding\n",
    "    encoding_type='variational', encoding_size=512, encoding_kwargs=dict(beta=5.0),\n",
    "    # optimizer\n",
    "    optimizer='adam', learning_rate=1e-5, decay_steps=200, decay_rate=0.5,\n",
    "    clip_gradients=1.0, batch_size=128,\n",
    "    # losses\n",
    "    categorical_weight=1.0, continuous_weight=7000.0,\n",
    "    # categorical\n",
    "    smoothing=0.0, moving_average=True, similarity_regularization=0.0,\n",
    "    entropy_regularization=0.05\n",
    ")"
   ]
  },
  {
   "cell_type": "code",
   "execution_count": null,
   "metadata": {},
   "outputs": [],
   "source": []
  },
  {
   "cell_type": "code",
   "execution_count": null,
   "metadata": {},
   "outputs": [],
   "source": []
  },
  {
   "cell_type": "code",
   "execution_count": null,
   "metadata": {},
   "outputs": [],
   "source": []
  }
 ],
 "metadata": {
  "kernelspec": {
   "display_name": "Python 3",
   "language": "python",
   "name": "python3"
  },
  "language_info": {
   "codemirror_mode": {
    "name": "ipython",
    "version": 3
   },
   "file_extension": ".py",
   "mimetype": "text/x-python",
   "name": "python",
   "nbconvert_exporter": "python",
   "pygments_lexer": "ipython3",
   "version": "3.7.1"
  },
  "stem_cell": {
   "cell_type": "raw",
   "metadata": {
    "pycharm": {
     "metadata": false
    }
   },
   "source": ""
  }
 },
 "nbformat": 4,
 "nbformat_minor": 1
}
