{
 "cells": [
  {
   "cell_type": "code",
   "execution_count": null,
   "metadata": {},
   "outputs": [],
   "source": [
    "! jt -t grade3 -nf opensans"
   ]
  },
  {
   "cell_type": "markdown",
   "metadata": {},
   "source": [
    "<h1><center>1. Load Data</center></h1>\n",
    "\n"
   ]
  },
  {
   "cell_type": "code",
   "execution_count": null,
   "metadata": {},
   "outputs": [],
   "source": [
    "import os\n",
    "import warnings\n",
    "import pandas as pd\n",
    "\n",
    "warnings.filterwarnings(action='ignore', message='numpy.dtype size changed')\n",
    "warnings.filterwarnings(action='ignore', message='compiletime version 3.5 of module')\n",
    "\n",
    "if not 'workbookDir' in globals():\n",
    "    workbookDir = os.getcwd()\n",
    "os.chdir(os.path.split(workbookDir)[0])\n",
    "\n",
    "%load_ext autoreload\n",
    "%autoreload 2\n",
    "%matplotlib inline"
   ]
  },
  {
   "cell_type": "code",
   "execution_count": null,
   "metadata": {},
   "outputs": [],
   "source": [
    "from synthesized.testing.evaluation import Evaluation\n",
    "#evaluation = Evaluation(config_path='configs/evaluation/dataset_evaluation.json', name='james') # use this line if you want to run this notbook manually\n",
    "evaluation = Evaluation()"
   ]
  },
  {
   "cell_type": "code",
   "execution_count": null,
   "metadata": {},
   "outputs": [],
   "source": [
    "data = pd.read_csv(evaluation.config['data'])\n",
    "data = data.drop(evaluation.config['ignore_columns'], axis=1)\n",
    "data.dropna(inplace=True)\n",
    "data.head(5)"
   ]
  },
  {
   "cell_type": "markdown",
   "metadata": {},
   "source": [
    "\n",
    "\n",
    "\n",
    "\n",
    "<h1><center>2. Train model and generate synthetic data</center></h1>"
   ]
  },
  {
   "cell_type": "code",
   "execution_count": null,
   "metadata": {
    "scrolled": true
   },
   "outputs": [],
   "source": [
    "from sklearn.model_selection import train_test_split\n",
    "import synthesized"
   ]
  },
  {
   "cell_type": "code",
   "execution_count": null,
   "metadata": {},
   "outputs": [],
   "source": [
    "train, test = train_test_split(data, test_size=0.2, random_state=0)"
   ]
  },
  {
   "cell_type": "code",
   "execution_count": null,
   "metadata": {},
   "outputs": [],
   "source": [
    "def train_and_synthesize(synthesizer_class=evaluation.config[\"synthesizer_class\"]):\n",
    "    assert synthesizer_class in {\"BasicSynthesizer\", \"SeriesSynthesizer\"}\n",
    "    synthesizer_constructor = getattr(synthesized, synthesizer_class)\n",
    "    loss_history = list()\n",
    "    \n",
    "    def callback(synth, iteration, losses):\n",
    "        if len(loss_history) == 0:\n",
    "            loss_history.append(losses)\n",
    "        else:\n",
    "            loss_history.append({name: losses[name] for name in loss_history[0]})\n",
    "    \n",
    "    with synthesizer_constructor(df=data, **evaluation.config['params']) as synthesizer:\n",
    "        synthesizer.learn(\n",
    "            df_train=train, num_iterations=evaluation.config['num_iterations'],\n",
    "            callback=callback, callback_freq=100\n",
    "        )\n",
    "        if synthesizer_class == \"BasicSynthesizer\":\n",
    "            synthesized_data = synthesizer.synthesize(num_rows=len(test))\n",
    "        else:\n",
    "            series_lengths = data.groupby(evaluation.config[\"params\"][\"identifier_label\"]).count().to_numpy().transpose()\n",
    "            series_lengths = list(series_lengths[0])\n",
    "            synthesized_data = synthesizer.synthesize(series_lengths=series_lengths)\n",
    "        return synthesizer, synthesized_data, loss_history"
   ]
  },
  {
   "cell_type": "code",
   "execution_count": null,
   "metadata": {
    "scrolled": true
   },
   "outputs": [],
   "source": [
    "%%capture\n",
    "synthesizers_and_results = [train_and_synthesize() for i in range(evaluation.config['num_passes'])]\n",
    "synthesizer = synthesizers_and_results[0][0]"
   ]
  },
  {
   "cell_type": "markdown",
   "metadata": {},
   "source": [
    "## Plot losses"
   ]
  },
  {
   "cell_type": "code",
   "execution_count": null,
   "metadata": {},
   "outputs": [],
   "source": [
    "loss_history = synthesizers_and_results[0][2]\n",
    "pd.DataFrame.from_records(loss_history).plot(figsize=(15,7))"
   ]
  },
  {
   "cell_type": "markdown",
   "metadata": {},
   "source": [
    "## Display aggregated statistics "
   ]
  },
  {
   "cell_type": "code",
   "execution_count": null,
   "metadata": {},
   "outputs": [],
   "source": [
    "from scipy.stats import ks_2samp\n",
    "import numpy as np\n",
    "import seaborn as sns"
   ]
  },
  {
   "cell_type": "code",
   "execution_count": null,
   "metadata": {},
   "outputs": [],
   "source": [
    "def plot_avg_distances():\n",
    "    result = []\n",
    "    for i, (synthesizer, synthesized_, _) in enumerate(synthesizers_and_results):\n",
    "        test_ = synthesizer.preprocess(test)\n",
    "        synthesized_ = synthesizer.preprocess(synthesized_)\n",
    "        distances = [ks_2samp(test_[col], synthesized_[col])[0] for col in synthesized_.columns]\n",
    "        avg_distance = np.mean(distances)\n",
    "        print('run: {}, AVG distance: {}'.format(i+1, avg_distance))\n",
    "        result.append({'run': i+1, 'avg_distance': avg_distance})\n",
    "        evaluation['avg_distance'] = avg_distance\n",
    "    df = pd.DataFrame.from_records(result)\n",
    "    df['run'] = df['run'].astype('category')\n",
    "    g = sns.barplot(y='run', x='avg_distance', data=df)\n",
    "    g.set_xlim(0.0, 1.0)"
   ]
  },
  {
   "cell_type": "code",
   "execution_count": null,
   "metadata": {},
   "outputs": [],
   "source": [
    "plot_avg_distances()"
   ]
  },
  {
   "cell_type": "markdown",
   "metadata": {},
   "source": [
    "## Details for the 1st Run "
   ]
  },
  {
   "cell_type": "code",
   "execution_count": null,
   "metadata": {},
   "outputs": [],
   "source": [
    "from synthesized.testing import UtilityTesting\n",
    "testing = UtilityTesting(synthesizer, train, test, synthesizers_and_results[0][1])"
   ]
  },
  {
   "cell_type": "code",
   "execution_count": null,
   "metadata": {},
   "outputs": [],
   "source": [
    "testing.show_distribution_distances()"
   ]
  },
  {
   "cell_type": "code",
   "execution_count": null,
   "metadata": {},
   "outputs": [],
   "source": [
    "testing.show_distributions(remove_outliers=0.01)"
   ]
  },
  {
   "cell_type": "markdown",
   "metadata": {},
   "source": [
    "## Display correlations"
   ]
  },
  {
   "cell_type": "code",
   "execution_count": null,
   "metadata": {},
   "outputs": [],
   "source": [
    "testing.show_corr_distances()"
   ]
  },
  {
   "cell_type": "code",
   "execution_count": null,
   "metadata": {},
   "outputs": [],
   "source": [
    "testing.show_corr_matrices()"
   ]
  },
  {
   "cell_type": "markdown",
   "metadata": {},
   "source": [
    "## Demonstrate the utility for training ML models"
   ]
  },
  {
   "cell_type": "code",
   "execution_count": null,
   "metadata": {},
   "outputs": [],
   "source": [
    "try:\n",
    "    evaluation['utility'] = testing.utility(target=evaluation.config['target'])\n",
    "except:\n",
    "    evaluation['utility'] = 0.0"
   ]
  },
  {
   "cell_type": "code",
   "execution_count": null,
   "metadata": {},
   "outputs": [],
   "source": [
    "evaluation.write_metrics()"
   ]
  }
 ],
 "metadata": {
  "kernelspec": {
   "display_name": "Python 3",
   "language": "python",
   "name": "python3"
  },
  "language_info": {
   "codemirror_mode": {
    "name": "ipython",
    "version": 3
   },
   "file_extension": ".py",
   "mimetype": "text/x-python",
   "name": "python",
   "nbconvert_exporter": "python",
   "pygments_lexer": "ipython3",
   "version": "3.6.6"
  }
 },
 "nbformat": 4,
 "nbformat_minor": 2
}
