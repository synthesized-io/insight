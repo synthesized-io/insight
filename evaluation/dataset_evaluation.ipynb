{
 "cells": [
  {
   "cell_type": "code",
   "execution_count": null,
   "metadata": {
    "pycharm": {}
   },
   "outputs": [],
   "source": [
    "! jt -t grade3 -nf opensans"
   ]
  },
  {
   "cell_type": "markdown",
   "metadata": {
    "pycharm": {}
   },
   "source": [
    "<h1><center>1. Load Data</center></h1>\n",
    "\n"
   ]
  },
  {
   "cell_type": "code",
   "execution_count": null,
   "metadata": {
    "pycharm": {}
   },
   "outputs": [],
   "source": [
    "import os\n",
    "import json\n",
    "import warnings\n",
    "import pandas as pd\n",
    "import time\n",
    "\n",
    "\n",
    "warnings.filterwarnings(action='ignore', message='numpy.dtype size changed')\n",
    "warnings.filterwarnings(action='ignore', message='compiletime version 3.5 of module')\n",
    "\n",
    "if not 'workbookDir' in globals():\n",
    "    workbookDir = os.getcwd()\n",
    "os.chdir(os.path.split(workbookDir)[0])\n",
    "\n",
    "%load_ext autoreload\n",
    "%autoreload 2\n",
    "%matplotlib inline"
   ]
  },
  {
   "cell_type": "code",
   "execution_count": null,
   "metadata": {
    "pycharm": {}
   },
   "outputs": [],
   "source": [
    "from synthesized.testing.evaluation import Evaluation\n",
    "#evaluation = Evaluation(config_path='configs/evaluation/dataset_evaluation.json', name='james') # use this line if you want to run this notbook manually\n",
    "evaluation_name = os.environ.get('EVALUATION_NAME', 'n/a')\n",
    "branch = os.environ.get('EVALUATION_BRANCH', 'n/a')\n",
    "revision = os.environ.get('EVALUATION_REVISION', 'n/a')\n",
    "evaluation = Evaluation(branch=branch, revision=revision, group=\"dataset_evaluation\")\n",
    "\n",
    "config_path = os.environ.get('EVALUATION_CONFIG_PATH', 'n/a')\n",
    "with open(config_path, 'r') as f:\n",
    "    configs = json.load(f)\n",
    "    evaluation.record_config(evaluation=evaluation_name, config=configs[\"instances\"][evaluation_name])\n",
    "        "
   ]
  },
  {
   "cell_type": "code",
   "execution_count": null,
   "metadata": {
    "pycharm": {}
   },
   "outputs": [],
   "source": [
    "data = pd.read_csv(evaluation.configs[evaluation_name]['data'])\n",
    "data = data.drop(evaluation.configs[evaluation_name]['ignore_columns'], axis=1)\n",
    "data.dropna(inplace=True)\n",
    "data.head(5)"
   ]
  },
  {
   "cell_type": "markdown",
   "metadata": {
    "pycharm": {}
   },
   "source": [
    "\n",
    "\n",
    "\n",
    "\n",
    "<h1><center>2. Train model and generate synthetic data</center></h1>"
   ]
  },
  {
   "cell_type": "code",
   "execution_count": null,
   "metadata": {
    "pycharm": {},
    "scrolled": true
   },
   "outputs": [],
   "source": [
    "from sklearn.model_selection import train_test_split\n",
    "import synthesized"
   ]
  },
  {
   "cell_type": "code",
   "execution_count": null,
   "metadata": {
    "pycharm": {}
   },
   "outputs": [],
   "source": [
    "train, test = train_test_split(data, test_size=0.2, random_state=0)"
   ]
  },
  {
   "cell_type": "code",
   "execution_count": null,
   "metadata": {
    "pycharm": {}
   },
   "outputs": [],
   "source": [
    "def train_and_synthesize(synthesizer_class=evaluation.configs[evaluation_name][\"synthesizer_class\"]):\n",
    "    assert synthesizer_class in {\"HighDimSynthesizer\", \"SeriesSynthesizer\"}\n",
    "    synthesizer_constructor = getattr(synthesized, synthesizer_class)\n",
    "    loss_history = list()\n",
    "    \n",
    "    def callback(synth, iteration, losses):\n",
    "        if len(loss_history) == 0:\n",
    "            loss_history.append(losses)\n",
    "        else:\n",
    "            loss_history.append({name: losses[name] for name in loss_history[0]})\n",
    "    \n",
    "    with synthesizer_constructor(df=data, **evaluation.configs[evaluation_name]['params']) as synthesizer:\n",
    "        t = time.time()\n",
    "        synthesizer.learn(\n",
    "            df_train=train, num_iterations=evaluation.configs[evaluation_name]['num_iterations'],\n",
    "            callback=callback, callback_freq=100\n",
    "        )\n",
    "        training_time = time.time() - t\n",
    "        if synthesizer_class == \"HighDimSynthesizer\":\n",
    "            synthesized_data = synthesizer.synthesize(num_rows=len(test))\n",
    "        else:\n",
    "            series_lengths = data.groupby(evaluation.configs[evaluation_name][\"params\"][\"identifier_label\"]).count().to_numpy().transpose()\n",
    "            series_lengths = list(series_lengths[0])\n",
    "            synthesized_data = synthesizer.synthesize(series_lengths=series_lengths)\n",
    "        return synthesizer, synthesized_data, loss_history, training_time\n"
   ]
  },
  {
   "cell_type": "code",
   "execution_count": null,
   "metadata": {
    "pycharm": {},
    "scrolled": true
   },
   "outputs": [],
   "source": [
    "%%capture\n",
    "synthesizers_and_results = [train_and_synthesize() for i in range(evaluation.configs[evaluation_name]['num_passes'])]\n",
    "synthesizer = synthesizers_and_results[0][0]"
   ]
  },
  {
   "cell_type": "markdown",
   "metadata": {
    "pycharm": {}
   },
   "source": [
    "## Plot losses"
   ]
  },
  {
   "cell_type": "code",
   "execution_count": null,
   "metadata": {
    "pycharm": {}
   },
   "outputs": [],
   "source": [
    "loss_history = synthesizers_and_results[0][2]\n",
    "pd.DataFrame.from_records(loss_history).plot(figsize=(15,7))"
   ]
  },
  {
   "cell_type": "markdown",
   "metadata": {},
   "source": [
    "### Register training time"
   ]
  },
  {
   "cell_type": "code",
   "execution_count": null,
   "metadata": {},
   "outputs": [],
   "source": [
    "training_time = synthesizers_and_results[0][3]\n",
    "evaluation.record_metric(evaluation=evaluation_name, key='training_time', value=training_time)"
   ]
  },
  {
   "cell_type": "markdown",
   "metadata": {
    "pycharm": {}
   },
   "source": [
    "## Display aggregated statistics "
   ]
  },
  {
   "cell_type": "code",
   "execution_count": null,
   "metadata": {
    "pycharm": {}
   },
   "outputs": [],
   "source": [
    "from scipy.stats import ks_2samp, wasserstein_distance\n",
    "import numpy as np\n",
    "import seaborn as sns"
   ]
  },
  {
   "cell_type": "code",
   "execution_count": null,
   "metadata": {
    "pycharm": {}
   },
   "outputs": [],
   "source": [
    "def plot_avg_distances():\n",
    "    result = []\n",
    "    for i, (synthesizer, synthesized_, _, _) in enumerate(synthesizers_and_results):\n",
    "        test_ = synthesizer.preprocess(test)\n",
    "        synthesized_ = synthesizer.preprocess(synthesized_)\n",
    "        \n",
    "        ks_distances = []\n",
    "        wasserstein_distance = []\n",
    "        for col in synthesized_.columns:\n",
    "            try:\n",
    "                ks_distances.append(ks_2samp(test_[col], synthesized_[col])[0])\n",
    "                wasserstein_distance.append(wasserstein_distance(test_[col], synthesized_[col])[0])\n",
    "            except:\n",
    "                pass\n",
    "            \n",
    "        avg_ks_distance = np.mean(ks_distances)\n",
    "        max_ks_distance = np.max(ks_disances)\n",
    "        avg_wss_distance = np.mean(wasserstein_distance)\n",
    "        try:\n",
    "            corr = np.abs((orig.corr() - synth.corr()).to_numpy())\n",
    "            avg_corr = corr.mean()\n",
    "            max_corr = corr.max()            \n",
    "        except:\n",
    "            pass\n",
    "        \n",
    "        print('run: {}, AVG distance: {}'.format(i+1, avg_distance))\n",
    "        result.append({'run': i+1, 'avg_distance': avg_distance})\n",
    "        \n",
    "        evaluation.record_metric(evaluation=evaluation_name, key='avg_ks_distance', value=avg_ks_distance)\n",
    "        evaluation.record_metric(evaluation=evaluation_name, key='max_ks_distance', value=max_ks_distance)\n",
    "        evaluation.record_metric(evaluation=evaluation_name, key='avg_wasserstein_distance', value=avg_wss_distance)\n",
    "        evaluation.record_metric(evaluation=evaluation_name, key='avg_correlations', value=avg_corr)\n",
    "        evaluation.record_metric(evaluation=evaluation_name, key='max_correlations', value=max_corr)\n",
    "        \n",
    "    df = pd.DataFrame.from_records(result)\n",
    "    df['run'] = df['run'].astype('category')\n",
    "    g = sns.barplot(y='run', x='avg_distance', data=df)\n",
    "    g.set_xlim(0.0, 1.0)"
   ]
  },
  {
   "cell_type": "code",
   "execution_count": null,
   "metadata": {
    "pycharm": {}
   },
   "outputs": [],
   "source": [
    "plot_avg_distances()"
   ]
  },
  {
   "cell_type": "markdown",
   "metadata": {
    "pycharm": {}
   },
   "source": [
    "## Details for the 1st Run "
   ]
  },
  {
   "cell_type": "code",
   "execution_count": null,
   "metadata": {
    "pycharm": {}
   },
   "outputs": [],
   "source": [
    "from synthesized.testing import UtilityTesting\n",
    "testing = UtilityTesting(synthesizer, train, test, synthesizers_and_results[0][1])"
   ]
  },
  {
   "cell_type": "code",
   "execution_count": null,
   "metadata": {
    "pycharm": {}
   },
   "outputs": [],
   "source": [
    "testing.show_distribution_distances()"
   ]
  },
  {
   "cell_type": "code",
   "execution_count": null,
   "metadata": {
    "pycharm": {}
   },
   "outputs": [],
   "source": [
    "testing.show_distributions(remove_outliers=0.01)"
   ]
  },
  {
   "cell_type": "markdown",
   "metadata": {
    "pycharm": {}
   },
   "source": [
    "## Display correlations"
   ]
  },
  {
   "cell_type": "code",
   "execution_count": null,
   "metadata": {
    "pycharm": {}
   },
   "outputs": [],
   "source": [
    "testing.show_corr_distances()"
   ]
  },
  {
   "cell_type": "code",
   "execution_count": null,
   "metadata": {
    "pycharm": {}
   },
   "outputs": [],
   "source": [
    "testing.show_corr_matrices()"
   ]
  },
  {
   "cell_type": "markdown",
   "metadata": {
    "pycharm": {}
   },
   "source": [
    "## Demonstrate the utility for training ML models"
   ]
  },
  {
   "cell_type": "code",
   "execution_count": null,
   "metadata": {
    "pycharm": {}
   },
   "outputs": [],
   "source": [
    "try:\n",
    "    utility = testing.utility(target=evaluation.configs[evaluation_name]['target'])\n",
    "except:\n",
    "    utility = 0.0\n",
    "evaluation.record_metric(evaluation=evaluation_name, key='utility', value=utility)"
   ]
  },
  {
   "cell_type": "code",
   "execution_count": null,
   "metadata": {
    "pycharm": {}
   },
   "outputs": [],
   "source": [
    "evaluation.write_metrics()"
   ]
  }
 ],
 "metadata": {
  "kernelspec": {
   "display_name": "Python 3",
   "language": "python",
   "name": "python3"
  },
  "language_info": {
   "codemirror_mode": {
    "name": "ipython",
    "version": 3
   },
   "file_extension": ".py",
   "mimetype": "text/x-python",
   "name": "python",
   "nbconvert_exporter": "python",
   "pygments_lexer": "ipython3",
   "version": "3.7.3"
  }
 },
 "nbformat": 4,
 "nbformat_minor": 2
}
