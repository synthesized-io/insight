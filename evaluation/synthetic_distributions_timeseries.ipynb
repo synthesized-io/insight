{
 "cells": [
  {
   "cell_type": "code",
   "execution_count": null,
   "metadata": {
    "pycharm": {}
   },
   "outputs": [],
   "source": [
    "import os\n",
    "import json\n",
    "import warnings\n",
    "\n",
    "warnings.filterwarnings(action='ignore', message='numpy.dtype size changed')\n",
    "warnings.filterwarnings(action='ignore', message='compiletime version 3.5 of module')\n",
    "\n",
    "if not 'workbookDir' in globals():\n",
    "    workbookDir = os.getcwd()\n",
    "os.chdir(os.path.split(workbookDir)[0])\n",
    "\n",
    "%load_ext autoreload\n",
    "%autoreload 2\n",
    "%matplotlib inline"
   ]
  },
  {
   "cell_type": "code",
   "execution_count": null,
   "metadata": {
    "pycharm": {}
   },
   "outputs": [],
   "source": [
    "from synthesized.testing.evaluation import Evaluation\n",
    "from synthesized.testing import synthetic_distributions as syn_dist\n",
    "from synthesized.testing import metrics as eval_metrics\n",
    "from synthesized.testing import plotting as syn_plot\n",
    "branch = os.environ.get('evaluation_branch', 'n/a')\n",
    "revision = os.environ.get('evaluation_revision', 'n/a')\n",
    "group = \"synthetic\"\n",
    "config_path = os.environ.get('evaluation_config_path', \"configs/evaluation/synthetic_distributions.json\")\n",
    "with open(config_path, 'r') as f:\n",
    "    configs = json.load(f)\n",
    "    config = configs[\"instances\"][\"synthetic\"]\n",
    "evaluation = Evaluation(branch=branch, revision=revision, group=group,\n",
    "                       metrics_file='../series-exp/metrics-series-exp.jsonl')"
   ]
  },
  {
   "cell_type": "markdown",
   "metadata": {
    "pycharm": {
     "metadata": false
    }
   },
   "source": [
    "### Time-series\n",
    "#### Continuous"
   ]
  },
  {
   "cell_type": "code",
   "execution_count": null,
   "metadata": {
    "pycharm": {
     "metadata": false,
     "name": "#%%\n"
    }
   },
   "outputs": [],
   "source": [
    "data = syn_dist.create_time_series_data(func=syn_dist.additive_sine(a=10, p=1000, sd=2), length=10000)"
   ]
  },
  {
   "cell_type": "code",
   "execution_count": null,
   "metadata": {
    "pycharm": {
     "metadata": false,
     "name": "#%%\n"
    }
   },
   "outputs": [],
   "source": [
    "metrics = dict(eval_metrics.default_metrics)\n",
    "metrics[\"max_acf_distance\"] = eval_metrics.max_autocorrelation_distance\n",
    "metrics[\"max_pacf_distance\"] = eval_metrics.max_partial_autocorrelation_distance\n",
    "metrics[\"mean_squared_error\"] = eval_metrics.mean_squared_error_closure(col=\"x\", baseline=2**4)\n",
    "_ = syn_plot.synthesize_and_plot(data, \"sine_additive_noise\", evaluation=evaluation,\n",
    "                                 metrics=metrics, config=config, time_series=True,\n",
    "                                 max_lag=100)"
   ]
  },
  {
   "cell_type": "markdown",
   "metadata": {
    "pycharm": {
     "metadata": false,
     "name": "#%% md\n"
    }
   },
   "source": [
    "#### Categorical"
   ]
  },
  {
   "cell_type": "code",
   "execution_count": null,
   "metadata": {
    "pycharm": {
     "metadata": false,
     "name": "#%%\n"
    }
   },
   "outputs": [],
   "source": [
    "data = syn_dist.create_time_series_data(func=syn_dist.categorical_auto_regressive(n_classes=10, sd=2), length=10000)"
   ]
  },
  {
   "cell_type": "code",
   "execution_count": null,
   "metadata": {
    "pycharm": {
     "metadata": false,
     "name": "#%%\n"
    }
   },
   "outputs": [],
   "source": [
    "metrics = dict(eval_metrics.default_metrics)\n",
    "metrics[\"max_auto_association_distance\"] = eval_metrics.max_categorical_auto_association_distance\n",
    "_ = syn_plot.synthesize_and_plot(data, \"first_order_markov\", evaluation=evaluation,\n",
    "                                 metrics=metrics, config=config, time_series=True,\n",
    "                                 max_lag=100)"
   ]
  },
  {
   "cell_type": "code",
   "execution_count": null,
   "metadata": {
    "pycharm": {}
   },
   "outputs": [],
   "source": [
    "evaluation.write_metrics()"
   ]
  }
 ],
 "metadata": {
  "kernelspec": {
   "display_name": "Python 3",
   "language": "python",
   "name": "python3"
  },
  "language_info": {
   "codemirror_mode": {
    "name": "ipython",
    "version": 3
   },
   "file_extension": ".py",
   "mimetype": "text/x-python",
   "name": "python",
   "nbconvert_exporter": "python",
   "pygments_lexer": "ipython3",
   "version": "3.6.9"
  }
 },
 "nbformat": 4,
 "nbformat_minor": 2
}
