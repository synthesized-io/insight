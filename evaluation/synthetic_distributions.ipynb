{
 "cells": [
  {
   "cell_type": "code",
   "execution_count": 1,
   "metadata": {
    "pycharm": {}
   },
   "outputs": [],
   "source": [
    "import os\n",
    "import warnings\n",
    "import string\n",
    "import pandas as pd\n",
    "import seaborn as sns\n",
    "\n",
    "warnings.filterwarnings(action='ignore', message='numpy.dtype size changed')\n",
    "warnings.filterwarnings(action='ignore', message='compiletime version 3.5 of module')\n",
    "\n",
    "if not 'workbookDir' in globals():\n",
    "    workbookDir = os.getcwd()\n",
    "os.chdir(os.path.split(workbookDir)[0])\n",
    "\n",
    "%load_ext autoreload\n",
    "%autoreload 2\n",
    "%matplotlib inline"
   ]
  },
  {
   "cell_type": "code",
   "execution_count": 2,
   "metadata": {
    "pycharm": {}
   },
   "outputs": [
    {
     "name": "stdout",
     "output_type": "stream",
     "text": [
      "\n",
      "WARNING: The TensorFlow contrib module will not be included in TensorFlow 2.0.\n",
      "For more information, please see:\n",
      "  * https://github.com/tensorflow/community/blob/master/rfcs/20180907-contrib-sunset.md\n",
      "  * https://github.com/tensorflow/addons\n",
      "If you depend on functionality not listed there, please file an issue.\n",
      "\n",
      "Copyright (C) Synthesized Ltd. - All Rights Reserved\n",
      "License key: EE6B-6720-67A2-32F3-3139-2DF3-382D-B5F3\n",
      "Expires at: 2019-08-30 00:00:00\n"
     ]
    }
   ],
   "source": [
    "from synthesized.testing.evaluation import Evaluation\n",
    "evaluation = Evaluation(config_path='configs/evaluation/synthetic_distributions.json', name='synthetic') # use this line if you want to run this notbook manually\n",
    "# evaluation = Evaluation()"
   ]
  },
  {
   "cell_type": "code",
   "execution_count": 3,
   "metadata": {
    "pycharm": {
     "metadata": false,
     "name": "#%%\n"
    }
   },
   "outputs": [],
   "source": [
    "from synthesized.testing import UtilityTesting"
   ]
  },
  {
   "cell_type": "code",
   "execution_count": 4,
   "metadata": {
    "pycharm": {}
   },
   "outputs": [],
   "source": [
    "from synthesized import HighDimSynthesizer"
   ]
  },
  {
   "cell_type": "code",
   "execution_count": 5,
   "metadata": {
    "pycharm": {}
   },
   "outputs": [],
   "source": [
    "import numpy as np"
   ]
  },
  {
   "cell_type": "code",
   "execution_count": null,
   "metadata": {
    "pycharm": {}
   },
   "outputs": [],
   "source": [
    "def create_ball(x_mean, x_std, y_mean, y_std, size, cor=0.):\n",
    "    mean = [x_mean, y_mean]\n",
    "    cov = [[x_std**2, x_std*y_std*cor], [x_std*y_std*cor, y_std**2]]\n",
    "    x, y = np.random.multivariate_normal(mean, cov, size).T\n",
    "    df = pd.DataFrame({'x': x, 'y': y})\n",
    "    return df"
   ]
  },
  {
   "cell_type": "code",
   "execution_count": null,
   "metadata": {
    "pycharm": {}
   },
   "outputs": [],
   "source": [
    "def create_line(x_range, intercept, slope, y_std, size):\n",
    "    x = np.random.uniform(low=x_range[0], high=x_range[1], size=size)\n",
    "    y = intercept + x*slope + np.random.normal(loc=0, scale=y_std, size=size)\n",
    "    df = pd.DataFrame({'x': x, 'y': y})\n",
    "    return df"
   ]
  },
  {
   "cell_type": "code",
   "execution_count": null,
   "metadata": {
    "pycharm": {}
   },
   "outputs": [],
   "source": [
    "from scipy.stats import powerlaw\n",
    "def create_power_law_distribution(a, scale, size):\n",
    "    return pd.DataFrame({'x': scale*powerlaw.rvs(a, size=size)})"
   ]
  },
  {
   "cell_type": "code",
   "execution_count": null,
   "metadata": {
    "pycharm": {}
   },
   "outputs": [],
   "source": [
    "from scipy.stats import bernoulli\n",
    "def create_bernoulli_distribution(ratio, size):\n",
    "    df = pd.DataFrame({'x': bernoulli.rvs(ratio, size=size)})\n",
    "    df['x'] = df['x'].astype('category')\n",
    "    return df"
   ]
  },
  {
   "cell_type": "code",
   "execution_count": null,
   "metadata": {
    "pycharm": {}
   },
   "outputs": [],
   "source": [
    "def create_conditional_distribution(*norm_params, size):\n",
    "    df = pd.DataFrame()\n",
    "    for i, (mean, std) in enumerate(norm_params):\n",
    "        x = [i] * size\n",
    "        y = np.random.normal(mean, std, size)\n",
    "        df = df.append(pd.DataFrame({'x': x, 'y': y}), ignore_index=True)\n",
    "    df = df.sample(frac=1).reset_index(drop=True)\n",
    "    df['x'] = df['x'].astype('category')\n",
    "    return df"
   ]
  },
  {
   "cell_type": "code",
   "execution_count": null,
   "metadata": {
    "pycharm": {}
   },
   "outputs": [],
   "source": [
    "def create_uniform_categorical(n_classes, size):\n",
    "    df = pd.DataFrame({'x': range(n_classes)})\n",
    "    df = df.sample(10000, replace=True)\n",
    "    df['x'] = df['x'].astype('category')\n",
    "    return df"
   ]
  },
  {
   "cell_type": "code",
   "execution_count": null,
   "metadata": {
    "pycharm": {}
   },
   "outputs": [],
   "source": [
    "def create_power_law_categorical(n_classes, size):\n",
    "    sample = [j for i in range(n_classes) for j in [i]*2**(n_classes-i-1)]\n",
    "    df = pd.DataFrame({'x': sample})\n",
    "    df = df.sample(10000, replace=True)\n",
    "    df['x'] = df['x'].astype('category')\n",
    "    return df"
   ]
  },
  {
   "cell_type": "code",
   "execution_count": 6,
   "metadata": {
    "pycharm": {
     "metadata": false,
     "name": "#%%\n"
    }
   },
   "outputs": [],
   "source": [
    "def create_mixed_continuous_categorical(n_classes, prior_mean=0, prior_sd=5, sd=1, size=10000):\n",
    "    means = prior_mean + prior_sd*np.random.randn(n_classes)\n",
    "    categories = np.array([f\"v_{i}\" for i in list(range(n_classes))])\n",
    "    discrete = np.random.choice(list(range(n_classes)), size=size)\n",
    "    zs = np.random.randn(size)\n",
    "    sample_means = means[discrete]\n",
    "    values = categories[discrete]\n",
    "    continuous = sample_means + sd*zs\n",
    "    return pd.DataFrame({\"x\": values, \"y\": continuous})"
   ]
  },
  {
   "cell_type": "code",
   "execution_count": 7,
   "metadata": {
    "pycharm": {
     "metadata": false,
     "name": "#%%\n"
    }
   },
   "outputs": [],
   "source": [
    "def create_correlated_categorical(n_classes, size, sd=1.):\n",
    "    logits = sd*np.random.randn(n_classes*n_classes).reshape(n_classes, n_classes)\n",
    "    categories = np.array([f\"v_{i}\" for i in list(range(n_classes))])\n",
    "    independent = np.random.choice(list(range(n_classes)), size=size)\n",
    "    gumbels = -np.log(-np.log(np.random.uniform(size=n_classes*size))).reshape(size, n_classes)\n",
    "    dependent =  (logits[independent] + gumbels).argmax(1)\n",
    "    independent_values = categories[independent]\n",
    "    dependent_values = categories[dependent]\n",
    "    return pd.DataFrame({\"x\": independent_values, \"y\": dependent_values}).astype(str)\n",
    "    \n",
    "    "
   ]
  },
  {
   "cell_type": "code",
   "execution_count": 8,
   "metadata": {
    "pycharm": {}
   },
   "outputs": [],
   "source": [
    "def plot_data(data, ax=None):\n",
    "    if data.shape[1] == 1:\n",
    "        if data['x'].dtype.kind == 'O':\n",
    "            return sns.distplot(data, ax=ax, kde=False)\n",
    "        else:\n",
    "            return sns.distplot(data, ax=ax)\n",
    "    if data.shape[1] == 2:\n",
    "        if data['x'].dtype.kind == 'O' and data['y'].dtype.kind == 'f':\n",
    "            order = sorted(data[\"x\"].unique().tolist())\n",
    "            sns.violinplot(x=\"x\", y=\"y\", data=data, ax=ax)\n",
    "        elif data['x'].dtype.kind == 'f' and data['y'].dtype.kind == 'f':\n",
    "            #return sns.jointplot(x=\"x\", y=\"y\", data=data, kind=\"kde\", ax=ax)\n",
    "            return ax.hist2d(data['x'], data['y'], bins=100)\n",
    "        elif data['x'].dtype.kind == 'O' and data['y'].dtype.kind == 'O':\n",
    "            crosstab = pd.crosstab(data['x'], columns=[data['y']]).apply(lambda r: r/r.sum(), axis=1)\n",
    "            sns.heatmap(crosstab, vmin=0.0, vmax=1.0, ax=ax)\n",
    "        else:\n",
    "            return sns.distplot(data, ax=ax)\n",
    "    else:\n",
    "        return sns.distplot(data, ax=ax)"
   ]
  },
  {
   "cell_type": "markdown",
   "metadata": {
    "pycharm": {
     "metadata": false,
     "name": "#%% md\n"
    }
   },
   "source": [
    "###  Evaluation metrics"
   ]
  },
  {
   "cell_type": "code",
   "execution_count": 9,
   "metadata": {
    "pycharm": {
     "metadata": false,
     "name": "#%%\n"
    }
   },
   "outputs": [],
   "source": [
    "def max_correlation_distance(orig, synth):\n",
    "    return np.abs((orig.corr() - synth.corr()).to_numpy()).max()\n",
    "\n",
    "def mean_ks_distance(orig, synth):\n",
    "    distances = [ks_2samp(orig[col], synth[col])[0] for col in orig.columns]\n",
    "    return np.mean(distances)"
   ]
  },
  {
   "cell_type": "code",
   "execution_count": 10,
   "metadata": {
    "pycharm": {}
   },
   "outputs": [],
   "source": [
    "import time\n",
    "from scipy.stats import ks_2samp\n",
    "import matplotlib.pyplot as plt\n",
    "\n",
    "\n",
    "\n",
    "default_metrics = {\"avg_distance\": mean_ks_distance}\n",
    "\n",
    "def synthesize_and_plot(data, name, n_iter=evaluation.config['num_iterations'], metrics=None, \n",
    "                        show_anova=False, show_cat_rsquared=False):\n",
    "    start = time.time()\n",
    "    with HighDimSynthesizer(df=data, **evaluation.config['params']) as synthesizer:\n",
    "        synthesizer.learn(df_train=data, num_iterations=n_iter)\n",
    "        synthesized = synthesizer.synthesize(num_rows=len(data))\n",
    "        print('took', time.time() - start, 's')\n",
    "        for key, metric in metrics.items():\n",
    "            evaluation[key] = metric(orig=data, synth=synthesized)\n",
    "        fig, (ax1, ax2) = plt.subplots(1, 2, figsize=(15, 5), sharex=True, sharey=True)\n",
    "        ax1.set_title('orig')\n",
    "        ax2.set_title('synth')\n",
    "        plot_data(data, ax=ax1)\n",
    "        plot_data(synthesized, ax=ax2)\n",
    "        if show_anova:\n",
    "            testing = UtilityTesting(synthesizer, data, data, synthesized)\n",
    "            testing.show_anova()\n",
    "        if show_cat_rsquared:\n",
    "            testing = UtilityTesting(synthesizer, data, data, synthesized)\n",
    "            testing.show_categorical_rsquared()"
   ]
  },
  {
   "cell_type": "markdown",
   "metadata": {
    "pycharm": {}
   },
   "source": [
    "### Gauss \"ball\" outside of center"
   ]
  },
  {
   "cell_type": "code",
   "execution_count": null,
   "metadata": {
    "pycharm": {}
   },
   "outputs": [],
   "source": [
    "data = create_ball(x_mean=1000, x_std=100, y_mean=100, y_std=10, size=10000)"
   ]
  },
  {
   "cell_type": "code",
   "execution_count": null,
   "metadata": {
    "pycharm": {}
   },
   "outputs": [],
   "source": [
    "synthesize_and_plot(data, 'ball', metrics=default_metrics)"
   ]
  },
  {
   "cell_type": "markdown",
   "metadata": {
    "pycharm": {}
   },
   "source": [
    "### Gauss \"ball\" around of zero"
   ]
  },
  {
   "cell_type": "code",
   "execution_count": null,
   "metadata": {
    "pycharm": {}
   },
   "outputs": [],
   "source": [
    "data = create_ball(x_mean=0, x_std=100, y_mean=0, y_std=10, size=10000)"
   ]
  },
  {
   "cell_type": "code",
   "execution_count": null,
   "metadata": {
    "pycharm": {}
   },
   "outputs": [],
   "source": [
    "synthesize_and_plot(data, 'ball_ext', metrics=default_metrics)"
   ]
  },
  {
   "cell_type": "markdown",
   "metadata": {
    "pycharm": {
     "metadata": false,
     "name": "#%% md\n"
    }
   },
   "source": [
    "### Correlated Gaussian far from zero"
   ]
  },
  {
   "cell_type": "code",
   "execution_count": null,
   "metadata": {
    "pycharm": {
     "metadata": false,
     "name": "#%%\n"
    }
   },
   "outputs": [],
   "source": [
    "data = create_ball(x_mean=1000, x_std=100, y_mean=100, y_std=10, size=10000, cor=0.8, eps=1e-6)"
   ]
  },
  {
   "cell_type": "code",
   "execution_count": null,
   "metadata": {
    "pycharm": {
     "metadata": false,
     "name": "#%%\n"
    }
   },
   "outputs": [],
   "source": [
    "metrics = dict(default_metrics)\n",
    "metrics[\"max_correlation_distance\"] = max_correlation_distance\n",
    "synthesize_and_plot(data, 'corr_ball_far', metrics=metrics)"
   ]
  },
  {
   "cell_type": "markdown",
   "metadata": {
    "pycharm": {
     "metadata": false
    }
   },
   "source": [
    "### Correlated Gaussian around zero"
   ]
  },
  {
   "cell_type": "code",
   "execution_count": null,
   "metadata": {
    "pycharm": {
     "metadata": false,
     "name": "#%%\n"
    }
   },
   "outputs": [],
   "source": [
    "data = create_ball(x_mean=0, x_std=100, y_mean=0, y_std=10, size=10000, cor=0.8, eps=1e-6)"
   ]
  },
  {
   "cell_type": "code",
   "execution_count": null,
   "metadata": {
    "pycharm": {
     "metadata": false,
     "name": "#%%\n"
    }
   },
   "outputs": [],
   "source": [
    "metrics = dict(default_metrics)\n",
    "metrics[\"max_correlation_distance\"] = max_correlation_distance\n",
    "synthesize_and_plot(data, 'corr_ball_zero', metrics=metrics)"
   ]
  },
  {
   "cell_type": "markdown",
   "metadata": {
    "pycharm": {}
   },
   "source": [
    "### Line of noise that far from zero"
   ]
  },
  {
   "cell_type": "code",
   "execution_count": null,
   "metadata": {
    "pycharm": {}
   },
   "outputs": [],
   "source": [
    "data = create_line(x_range=(0, 1000), intercept=100, slope=-0.1, y_std=10, size=10000)"
   ]
  },
  {
   "cell_type": "code",
   "execution_count": null,
   "metadata": {
    "pycharm": {}
   },
   "outputs": [],
   "source": [
    "synthesize_and_plot(data, 'line', metrics=default_metrics)"
   ]
  },
  {
   "cell_type": "markdown",
   "metadata": {
    "pycharm": {}
   },
   "source": [
    "### Line of noise that comes from zero"
   ]
  },
  {
   "cell_type": "code",
   "execution_count": null,
   "metadata": {
    "pycharm": {}
   },
   "outputs": [],
   "source": [
    "data = create_line(x_range=(0, 1000), intercept=0, slope=0.1, y_std=10, size=10000)"
   ]
  },
  {
   "cell_type": "code",
   "execution_count": null,
   "metadata": {
    "pycharm": {}
   },
   "outputs": [],
   "source": [
    "synthesize_and_plot(data, 'line_ext', metrics=default_metrics)"
   ]
  },
  {
   "cell_type": "markdown",
   "metadata": {
    "pycharm": {}
   },
   "source": [
    "### Power law distribution"
   ]
  },
  {
   "cell_type": "code",
   "execution_count": null,
   "metadata": {
    "pycharm": {}
   },
   "outputs": [],
   "source": [
    "data = create_power_law_distribution(a=0.5, scale=1000, size=10000)"
   ]
  },
  {
   "cell_type": "code",
   "execution_count": null,
   "metadata": {
    "pycharm": {}
   },
   "outputs": [],
   "source": [
    "synthesize_and_plot(data, 'power_law', metrics=default_metrics)"
   ]
  },
  {
   "cell_type": "markdown",
   "metadata": {
    "pycharm": {}
   },
   "source": [
    "### Conditional distribution"
   ]
  },
  {
   "cell_type": "code",
   "execution_count": null,
   "metadata": {
    "pycharm": {}
   },
   "outputs": [],
   "source": [
    "data = create_conditional_distribution((10,2), (20, 5), (30, 1), size=10000)"
   ]
  },
  {
   "cell_type": "code",
   "execution_count": null,
   "metadata": {
    "pycharm": {}
   },
   "outputs": [],
   "source": [
    "synthesize_and_plot(data, 'conditional', metrics=default_metrics)"
   ]
  },
  {
   "cell_type": "markdown",
   "metadata": {
    "pycharm": {}
   },
   "source": [
    "### Bernoulli distribution"
   ]
  },
  {
   "cell_type": "code",
   "execution_count": null,
   "metadata": {
    "pycharm": {}
   },
   "outputs": [],
   "source": [
    "data = create_bernoulli_distribution(ratio=0.5, size=10000)"
   ]
  },
  {
   "cell_type": "code",
   "execution_count": null,
   "metadata": {
    "pycharm": {}
   },
   "outputs": [],
   "source": [
    "synthesize_and_plot(data, 'bernoulli_50/50', metrics=default_metrics)"
   ]
  },
  {
   "cell_type": "code",
   "execution_count": null,
   "metadata": {
    "pycharm": {}
   },
   "outputs": [],
   "source": [
    "data = create_bernoulli_distribution(ratio=0.2, size=10000)"
   ]
  },
  {
   "cell_type": "code",
   "execution_count": null,
   "metadata": {
    "pycharm": {}
   },
   "outputs": [],
   "source": [
    "synthesize_and_plot(data, 'bernoulli_20/80', metrics=default_metrics)"
   ]
  },
  {
   "cell_type": "markdown",
   "metadata": {
    "pycharm": {}
   },
   "source": [
    "### Categorical distribution"
   ]
  },
  {
   "cell_type": "code",
   "execution_count": null,
   "metadata": {
    "pycharm": {}
   },
   "outputs": [],
   "source": [
    "data = create_uniform_categorical(n_classes=10, size=10000)"
   ]
  },
  {
   "cell_type": "code",
   "execution_count": null,
   "metadata": {
    "pycharm": {}
   },
   "outputs": [],
   "source": [
    "synthesize_and_plot(data, 'categorical_uniform', metrics=default_metrics)"
   ]
  },
  {
   "cell_type": "code",
   "execution_count": null,
   "metadata": {
    "pycharm": {}
   },
   "outputs": [],
   "source": [
    "data = create_power_law_categorical(n_classes=10, size=10000)"
   ]
  },
  {
   "cell_type": "code",
   "execution_count": null,
   "metadata": {
    "pycharm": {}
   },
   "outputs": [],
   "source": [
    "synthesize_and_plot(data, 'categorical_powerlaw', metrics=default_metrics)"
   ]
  },
  {
   "cell_type": "code",
   "execution_count": null,
   "metadata": {
    "pycharm": {
     "metadata": false,
     "name": "#%%\n"
    }
   },
   "outputs": [],
   "source": [
    "data = create_mixed_continuous_categorical(n_classes=10, size=10000)"
   ]
  },
  {
   "cell_type": "code",
   "execution_count": null,
   "metadata": {
    "pycharm": {
     "metadata": false,
     "name": "#%%\n"
    }
   },
   "outputs": [],
   "source": [
    "synthesize_and_plot(data, 'mixed_categorical_continuous', metrics=default_metrics, show_anova=True)"
   ]
  },
  {
   "cell_type": "code",
   "execution_count": 11,
   "metadata": {
    "pycharm": {
     "metadata": false,
     "name": "#%%\n"
    }
   },
   "outputs": [],
   "source": [
    "data = create_correlated_categorical(n_classes=10, size=10000, sd=1.)"
   ]
  },
  {
   "cell_type": "code",
   "execution_count": 12,
   "metadata": {
    "pycharm": {
     "metadata": false,
     "name": "#%%\n"
    }
   },
   "outputs": [
    {
     "name": "stdout",
     "output_type": "stream",
     "text": [
      "WARNING:tensorflow:From /Users/amandlamabona/anaconda3/envs/synth_p37/lib/python3.7/site-packages/tensorflow/python/framework/op_def_library.py:263: colocate_with (from tensorflow.python.framework.ops) is deprecated and will be removed in a future version.\n",
      "Instructions for updating:\n",
      "Colocations handled automatically by placer.\n",
      "WARNING:tensorflow:From /Users/amandlamabona/anaconda3/envs/synth_p37/lib/python3.7/site-packages/tensorflow/python/ops/math_ops.py:3066: to_int32 (from tensorflow.python.ops.math_ops) is deprecated and will be removed in a future version.\n",
      "Instructions for updating:\n",
      "Use tf.cast instead.\n",
      "took 50.645122051239014 s\n",
      "Warning: Maximum number of iterations has been exceeded.\n",
      "         Current function value: 1.876096\n",
      "         Iterations: 35\n",
      "         Function evaluations: 108\n",
      "         Gradient evaluations: 108\n"
     ]
    },
    {
     "name": "stderr",
     "output_type": "stream",
     "text": [
      "/Users/amandlamabona/anaconda3/envs/synth_p37/lib/python3.7/site-packages/statsmodels/base/model.py:512: ConvergenceWarning: Maximum Likelihood optimization failed to converge. Check mle_retvals\n",
      "  \"Check mle_retvals\", ConvergenceWarning)\n"
     ]
    },
    {
     "name": "stdout",
     "output_type": "stream",
     "text": [
      "Warning: Maximum number of iterations has been exceeded.\n",
      "         Current function value: 2.134452\n",
      "         Iterations: 35\n",
      "         Function evaluations: 106\n",
      "         Gradient evaluations: 106\n"
     ]
    },
    {
     "name": "stderr",
     "output_type": "stream",
     "text": [
      "/Users/amandlamabona/anaconda3/envs/synth_p37/lib/python3.7/site-packages/statsmodels/base/model.py:512: ConvergenceWarning: Maximum Likelihood optimization failed to converge. Check mle_retvals\n",
      "  \"Check mle_retvals\", ConvergenceWarning)\n"
     ]
    },
    {
     "data": {
      "image/png": "[encoded data removed]",
      "text/plain": [
       "<Figure size 1080x360 with 4 Axes>"
      ]
     },
     "metadata": {
      "needs_background": "light"
     },
     "output_type": "display_data"
    },
    {
     "data": {
      "image/png": "[encoded data removed]",
      "text/plain": [
       "<Figure size 720x720 with 4 Axes>"
      ]
     },
     "metadata": {
      "needs_background": "light"
     },
     "output_type": "display_data"
    }
   ],
   "source": [
    "synthesize_and_plot(data, 'correlated_categoricals', metrics=default_metrics, show_cat_rsquared=True)"
   ]
  },
  {
   "cell_type": "code",
   "execution_count": null,
   "metadata": {
    "pycharm": {}
   },
   "outputs": [],
   "source": [
    "evaluation.write_metrics()"
   ]
  }
 ],
 "metadata": {
  "kernelspec": {
   "display_name": "Python 3",
   "language": "python",
   "name": "python3"
  },
  "language_info": {
   "codemirror_mode": {
    "name": "ipython",
    "version": 3
   },
   "file_extension": ".py",
   "mimetype": "text/x-python",
   "name": "python",
   "nbconvert_exporter": "python",
   "pygments_lexer": "ipython3",
   "version": "3.7.3"
  }
 },
 "nbformat": 4,
 "nbformat_minor": 2
}
