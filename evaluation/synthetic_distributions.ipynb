{
  "cells": [
    {
      "cell_type": "code",
      "execution_count": null,
      "metadata": {
        "pycharm": {}
      },
      "outputs": [],
      "source": [
        "import os\n",
        "import json\n",
        "import string\n",
        "import warnings\n",
        "import pandas as pd\n",
        "import seaborn as sns\n",
        "\n",
        "warnings.filterwarnings(action\u003d\u0027ignore\u0027, message\u003d\u0027numpy.dtype size changed\u0027)\n",
        "warnings.filterwarnings(action\u003d\u0027ignore\u0027, message\u003d\u0027compiletime version 3.5 of module\u0027)\n",
        "\n",
        "if not \u0027workbookDir\u0027 in globals():\n",
        "    workbookDir \u003d os.getcwd()\n",
        "os.chdir(os.path.split(workbookDir)[0])\n",
        "\n",
        "\n",
        "%load_ext autoreload\n",
        "%autoreload 2\n",
        "%matplotlib inline"
      ]
    },
    {
      "cell_type": "code",
      "execution_count": null,
      "metadata": {
        "pycharm": {}
      },
      "outputs": [],
      "source": "from synthesized.testing.evaluation import Evaluation\nfrom synthesized.testing import synthetic_distributions as syn_dist\nbranch \u003d os.environ.get(\u0027EVALUATION_BRANCH\u0027, \u0027n/a\u0027)\nrevision \u003d os.environ.get(\u0027EVALUATION_REVISION\u0027, \u0027n/a\u0027)\ngroup \u003d \"synthetic\"\nconfig_path \u003d os.environ.get(\u0027EVALUATION_CONFIG_PATH\u0027, \"configs/evaluation/synthetic_distributions.json\") \nwith open(config_path, \u0027r\u0027) as f:\n    configs \u003d json.load(f)\n    config \u003d configs[\"instances\"][\"synthetic\"]\nevaluation \u003d Evaluation(branch\u003dbranch, revision\u003drevision, group\u003dgroup) # use this line if you want to run this notbook manually\n# evaluation \u003d Evaluation()"
    },
    {
      "cell_type": "code",
      "execution_count": null,
      "metadata": {
        "pycharm": {
          "metadata": false,
          "name": "#%%\n"
        }
      },
      "outputs": [],
      "source": [
        "from synthesized.testing import UtilityTesting"
      ]
    },
    {
      "cell_type": "code",
      "execution_count": null,
      "metadata": {
        "pycharm": {}
      },
      "outputs": [],
      "source": [
        "from synthesized import HighDimSynthesizer"
      ]
    },
    {
      "cell_type": "code",
      "execution_count": null,
      "metadata": {
        "pycharm": {}
      },
      "outputs": [],
      "source": [
        "import numpy as np"
      ]
    },
    {
      "cell_type": "code",
      "execution_count": null,
      "metadata": {
        "pycharm": {}
      },
      "outputs": [],
      "source": [
        "def plot_data(data, ax\u003dNone):\n",
        "    if data.shape[1] \u003d\u003d 1:\n",
        "        if data[\u0027x\u0027].dtype.kind \u003d\u003d \u0027O\u0027:\n",
        "            return sns.countplot(data[\"x\"], ax\u003dax)\n",
        "        else:\n",
        "            return sns.distplot(data[\"x\"], ax\u003dax)\n",
        "    if data.shape[1] \u003d\u003d 2:\n",
        "        if data[\u0027x\u0027].dtype.kind \u003d\u003d \u0027O\u0027 and data[\u0027y\u0027].dtype.kind \u003d\u003d \u0027f\u0027:\n",
        "            order \u003d sorted(data[\"x\"].unique().tolist())\n",
        "            sns.violinplot(x\u003d\"x\", y\u003d\"y\", data\u003ddata, ax\u003dax)\n",
        "        elif data[\u0027x\u0027].dtype.kind \u003d\u003d \u0027f\u0027 and data[\u0027y\u0027].dtype.kind \u003d\u003d \u0027f\u0027:\n",
        "            #return sns.jointplot(x\u003d\"x\", y\u003d\"y\", data\u003ddata, kind\u003d\"kde\", ax\u003dax)\n",
        "            return ax.hist2d(data[\u0027x\u0027], data[\u0027y\u0027], bins\u003d100)\n",
        "        elif data[\u0027x\u0027].dtype.kind \u003d\u003d \u0027O\u0027 and data[\u0027y\u0027].dtype.kind \u003d\u003d \u0027O\u0027:\n",
        "            crosstab \u003d pd.crosstab(data[\u0027x\u0027], columns\u003d[data[\u0027y\u0027]]).apply(lambda r: r/r.sum(), axis\u003d1)\n",
        "            sns.heatmap(crosstab, vmin\u003d0.0, vmax\u003d1.0, ax\u003dax)\n",
        "        else:\n",
        "            return sns.distplot(data, ax\u003dax)\n",
        "    else:\n",
        "        return sns.distplot(data, ax\u003dax)"
      ]
    },
    {
      "cell_type": "markdown",
      "metadata": {
        "pycharm": {
          "metadata": false,
          "name": "#%% md\n"
        }
      },
      "source": [
        "###  Evaluation metrics"
      ]
    },
    {
      "cell_type": "code",
      "execution_count": null,
      "metadata": {
        "pycharm": {
          "metadata": false,
          "name": "#%%\n"
        }
      },
      "outputs": [],
      "source": [
        "def max_correlation_distance(orig, synth):\n",
        "    return np.abs((orig.corr() - synth.corr()).to_numpy()).max()\n",
        "\n",
        "def mean_ks_distance(orig, synth):\n",
        "    distances \u003d [ks_2samp(orig[col], synth[col])[0] for col in orig.columns]\n",
        "    return np.mean(distances)"
      ]
    },
    {
      "cell_type": "code",
      "execution_count": null,
      "metadata": {
        "pycharm": {}
      },
      "outputs": [],
      "source": [
        "import time\n",
        "from scipy.stats import ks_2samp\n",
        "import matplotlib.pyplot as plt\n",
        "\n",
        "\n",
        "\n",
        "default_metrics \u003d {\"avg_distance\": mean_ks_distance}\n",
        "\n",
        "def synthesize_and_plot(data, name, n_iter\u003dconfig[\u0027num_iterations\u0027], metrics\u003dNone, \n",
        "                        show_anova\u003dFalse, show_cat_rsquared\u003dFalse):\n",
        "    evaluation.record_config(evaluation\u003dname, config\u003dconfig)\n",
        "    start \u003d time.time()\n",
        "    with HighDimSynthesizer(df\u003ddata, **config[\u0027params\u0027]) as synthesizer:\n",
        "        synthesizer.learn(df_train\u003ddata, num_iterations\u003dn_iter)\n",
        "        synthesized \u003d synthesizer.synthesize(num_rows\u003dlen(data))\n",
        "        print(\u0027took\u0027, time.time() - start, \u0027s\u0027)\n",
        "        print(\"Metrics:\")\n",
        "        for key, metric in metrics.items():\n",
        "            value \u003d metric(orig\u003ddata, synth\u003dsynthesized)\n",
        "            evaluation.record_metric(evaluation\u003dname, key\u003dkey, value\u003dvalue)\n",
        "            print(f\"{key}: {value}\")\n",
        "        fig, (ax1, ax2) \u003d plt.subplots(1, 2, figsize\u003d(15, 5), sharex\u003dTrue, sharey\u003dTrue)\n",
        "        ax1.set_title(\u0027orig\u0027)\n",
        "        ax2.set_title(\u0027synth\u0027)\n",
        "        plot_data(data, ax\u003dax1)\n",
        "        plot_data(synthesized, ax\u003dax2)\n",
        "        if show_anova:\n",
        "            testing \u003d UtilityTesting(synthesizer, data, data, synthesized)\n",
        "            testing.show_anova()\n",
        "        if show_cat_rsquared:\n",
        "            testing \u003d UtilityTesting(synthesizer, data, data, synthesized)\n",
        "            testing.show_categorical_rsquared()"
      ]
    },
    {
      "cell_type": "markdown",
      "metadata": {
        "pycharm": {}
      },
      "source": [
        "### Gauss \"ball\" outside of center"
      ]
    },
    {
      "cell_type": "code",
      "execution_count": null,
      "metadata": {
        "pycharm": {}
      },
      "outputs": [],
      "source": [
        "data \u003d syn_dist.create_gauss_ball(x_mean\u003d1000, x_std\u003d100, y_mean\u003d100, y_std\u003d10, size\u003d10000)"
      ]
    },
    {
      "cell_type": "code",
      "execution_count": null,
      "metadata": {
        "pycharm": {}
      },
      "outputs": [],
      "source": [
        "synthesize_and_plot(data, \u0027ball\u0027, metrics\u003ddefault_metrics)"
      ]
    },
    {
      "cell_type": "markdown",
      "metadata": {
        "pycharm": {}
      },
      "source": [
        "### Gauss \"ball\" around of zero"
      ]
    },
    {
      "cell_type": "code",
      "execution_count": null,
      "metadata": {
        "pycharm": {}
      },
      "outputs": [],
      "source": [
        "data \u003d syn_dist.create_gauss_ball(x_mean\u003d0, x_std\u003d100, y_mean\u003d0, y_std\u003d10, size\u003d10000)"
      ]
    },
    {
      "cell_type": "code",
      "execution_count": null,
      "metadata": {
        "pycharm": {}
      },
      "outputs": [],
      "source": [
        "synthesize_and_plot(data, \u0027ball_ext\u0027, metrics\u003ddefault_metrics)"
      ]
    },
    {
      "cell_type": "markdown",
      "metadata": {
        "pycharm": {
          "metadata": false,
          "name": "#%% md\n"
        }
      },
      "source": [
        "### Correlated Gaussian far from zero"
      ]
    },
    {
      "cell_type": "code",
      "execution_count": null,
      "metadata": {
        "pycharm": {
          "metadata": false,
          "name": "#%%\n"
        }
      },
      "outputs": [],
      "source": [
        "data \u003d syn_dist.create_gauss_ball(x_mean\u003d1000, x_std\u003d100, y_mean\u003d100, y_std\u003d10, size\u003d10000, cor\u003d0.8)"
      ]
    },
    {
      "cell_type": "code",
      "execution_count": null,
      "metadata": {
        "pycharm": {
          "metadata": false,
          "name": "#%%\n"
        }
      },
      "outputs": [],
      "source": [
        "metrics \u003d dict(default_metrics)\n",
        "metrics[\"max_correlation_distance\"] \u003d max_correlation_distance\n",
        "synthesize_and_plot(data, \u0027corr_ball_far\u0027, metrics\u003dmetrics)"
      ]
    },
    {
      "cell_type": "markdown",
      "metadata": {
        "pycharm": {
          "metadata": false
        }
      },
      "source": [
        "### Correlated Gaussian around zero"
      ]
    },
    {
      "cell_type": "code",
      "execution_count": null,
      "metadata": {
        "pycharm": {
          "metadata": false,
          "name": "#%%\n"
        }
      },
      "outputs": [],
      "source": [
        "data \u003d syn_dist.create_gauss_ball(x_mean\u003d0, x_std\u003d100, y_mean\u003d0, y_std\u003d10, size\u003d10000, cor\u003d0.8)"
      ]
    },
    {
      "cell_type": "code",
      "execution_count": null,
      "metadata": {
        "pycharm": {
          "metadata": false,
          "name": "#%%\n"
        }
      },
      "outputs": [],
      "source": [
        "metrics \u003d dict(default_metrics)\n",
        "metrics[\"max_correlation_distance\"] \u003d max_correlation_distance\n",
        "synthesize_and_plot(data, \u0027corr_ball_zero\u0027, metrics\u003dmetrics)"
      ]
    },
    {
      "cell_type": "markdown",
      "metadata": {
        "pycharm": {}
      },
      "source": [
        "### Line of noise that far from zero"
      ]
    },
    {
      "cell_type": "code",
      "execution_count": null,
      "metadata": {
        "pycharm": {}
      },
      "outputs": [],
      "source": [
        "data \u003d syn_dist.create_line(x_range\u003d(0, 1000), intercept\u003d100, slope\u003d-0.1, y_std\u003d10, size\u003d10000)"
      ]
    },
    {
      "cell_type": "code",
      "execution_count": null,
      "metadata": {
        "pycharm": {}
      },
      "outputs": [],
      "source": [
        "synthesize_and_plot(data, \u0027line\u0027, metrics\u003ddefault_metrics)"
      ]
    },
    {
      "cell_type": "markdown",
      "metadata": {
        "pycharm": {}
      },
      "source": [
        "### Line of noise that comes from zero"
      ]
    },
    {
      "cell_type": "code",
      "execution_count": null,
      "metadata": {
        "pycharm": {}
      },
      "outputs": [],
      "source": [
        "data \u003d syn_dist.create_line(x_range\u003d(0, 1000), intercept\u003d0, slope\u003d0.1, y_std\u003d10, size\u003d10000)"
      ]
    },
    {
      "cell_type": "code",
      "execution_count": null,
      "metadata": {
        "pycharm": {}
      },
      "outputs": [],
      "source": [
        "synthesize_and_plot(data, \u0027line_ext\u0027, metrics\u003ddefault_metrics)"
      ]
    },
    {
      "cell_type": "markdown",
      "metadata": {
        "pycharm": {}
      },
      "source": [
        "### Power law distribution"
      ]
    },
    {
      "cell_type": "code",
      "execution_count": null,
      "metadata": {
        "pycharm": {}
      },
      "outputs": [],
      "source": [
        "data \u003d syn_dist.create_power_law_distribution(shape\u003d0.5, scale\u003d1000, size\u003d10000)"
      ]
    },
    {
      "cell_type": "code",
      "execution_count": null,
      "metadata": {
        "pycharm": {}
      },
      "outputs": [],
      "source": [
        "synthesize_and_plot(data, \u0027power_law\u0027, metrics\u003ddefault_metrics)"
      ]
    },
    {
      "cell_type": "markdown",
      "metadata": {
        "pycharm": {}
      },
      "source": [
        "### Conditional distribution"
      ]
    },
    {
      "cell_type": "code",
      "execution_count": null,
      "metadata": {
        "pycharm": {}
      },
      "outputs": [],
      "source": [
        "data \u003d syn_dist.create_conditional_distribution((10,2), (20, 5), (30, 1), size\u003d10000)"
      ]
    },
    {
      "cell_type": "code",
      "execution_count": null,
      "metadata": {
        "pycharm": {}
      },
      "outputs": [],
      "source": [
        "synthesize_and_plot(data, \u0027conditional\u0027, metrics\u003ddefault_metrics)"
      ]
    },
    {
      "cell_type": "markdown",
      "metadata": {
        "pycharm": {}
      },
      "source": [
        "### Bernoulli distribution"
      ]
    },
    {
      "cell_type": "code",
      "execution_count": null,
      "metadata": {
        "pycharm": {}
      },
      "outputs": [],
      "source": [
        "data \u003d syn_dist.create_bernoulli(probability\u003d0.5, size\u003d10000)"
      ]
    },
    {
      "cell_type": "code",
      "execution_count": null,
      "metadata": {
        "pycharm": {}
      },
      "outputs": [],
      "source": [
        "synthesize_and_plot(data, \u0027bernoulli_50/50\u0027, metrics\u003ddefault_metrics)"
      ]
    },
    {
      "cell_type": "code",
      "execution_count": null,
      "metadata": {
        "pycharm": {}
      },
      "outputs": [],
      "source": [
        "data \u003d syn_dist.create_bernoulli(probability\u003d0.2, size\u003d10000)"
      ]
    },
    {
      "cell_type": "code",
      "execution_count": null,
      "metadata": {
        "pycharm": {}
      },
      "outputs": [],
      "source": [
        "synthesize_and_plot(data, \u0027bernoulli_20/80\u0027, metrics\u003ddefault_metrics)"
      ]
    },
    {
      "cell_type": "markdown",
      "metadata": {
        "pycharm": {}
      },
      "source": [
        "### Categorical distribution"
      ]
    },
    {
      "cell_type": "code",
      "execution_count": null,
      "metadata": {
        "pycharm": {}
      },
      "outputs": [],
      "source": [
        "data \u003d syn_dist.create_uniform_categorical(n_classes\u003d100, size\u003d100000)"
      ]
    },
    {
      "cell_type": "code",
      "execution_count": null,
      "metadata": {
        "pycharm": {}
      },
      "outputs": [],
      "source": [
        "synthesize_and_plot(data, \u0027categorical_uniform\u0027, metrics\u003ddefault_metrics, n_iter\u003d10000)"
      ]
    },
    {
      "cell_type": "code",
      "execution_count": null,
      "metadata": {
        "pycharm": {}
      },
      "outputs": [],
      "source": [
        "data \u003d syn_dist.create_power_law_categorical(n_classes\u003d10, size\u003d10000)"
      ]
    },
    {
      "cell_type": "code",
      "execution_count": null,
      "metadata": {
        "pycharm": {}
      },
      "outputs": [],
      "source": [
        "synthesize_and_plot(data, \u0027categorical_powerlaw\u0027, metrics\u003ddefault_metrics)"
      ]
    },
    {
      "cell_type": "code",
      "execution_count": null,
      "metadata": {
        "pycharm": {
          "metadata": false,
          "name": "#%%\n"
        }
      },
      "outputs": [],
      "source": [
        "data \u003d syn_dist.create_mixed_continuous_categorical(n_classes\u003d10, size\u003d10000)"
      ]
    },
    {
      "cell_type": "code",
      "execution_count": null,
      "metadata": {
        "pycharm": {
          "metadata": false,
          "name": "#%%\n"
        }
      },
      "outputs": [],
      "source": [
        "synthesize_and_plot(data, \u0027mixed_categorical_continuous\u0027, metrics\u003ddefault_metrics, show_anova\u003dTrue)"
      ]
    },
    {
      "cell_type": "code",
      "execution_count": null,
      "metadata": {
        "pycharm": {
          "metadata": false,
          "name": "#%%\n"
        }
      },
      "outputs": [],
      "source": [
        "data \u003d syn_dist.create_correlated_categorical(n_classes\u003d10, size\u003d10000, sd\u003d1.)"
      ]
    },
    {
      "cell_type": "code",
      "execution_count": null,
      "metadata": {
        "pycharm": {
          "metadata": false,
          "name": "#%%\n"
        }
      },
      "outputs": [],
      "source": [
        "synthesize_and_plot(data, \u0027correlated_categoricals\u0027, metrics\u003ddefault_metrics, show_cat_rsquared\u003dTrue)"
      ]
    },
    {
      "cell_type": "code",
      "execution_count": null,
      "metadata": {
        "pycharm": {}
      },
      "outputs": [],
      "source": [
        "evaluation.write_metrics()"
      ]
    }
  ],
  "metadata": {
    "kernelspec": {
      "display_name": "Python 3",
      "language": "python",
      "name": "python3"
    },
    "language_info": {
      "codemirror_mode": {
        "name": "ipython",
        "version": 3
      },
      "file_extension": ".py",
      "mimetype": "text/x-python",
      "name": "python",
      "nbconvert_exporter": "python",
      "pygments_lexer": "ipython3",
      "version": "3.7.0"
    }
  },
  "nbformat": 4,
  "nbformat_minor": 2
}