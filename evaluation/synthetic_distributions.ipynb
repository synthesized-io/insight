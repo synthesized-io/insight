{
 "cells": [
  {
   "cell_type": "code",
   "execution_count": 1,
   "metadata": {
    "pycharm": {}
   },
   "outputs": [],
   "source": [
    "import os\n",
    "import json\n",
    "import string\n",
    "import warnings\n",
    "import pandas as pd\n",
    "import seaborn as sns\n",
    "\n",
    "warnings.filterwarnings(action='ignore', message='numpy.dtype size changed')\n",
    "warnings.filterwarnings(action='ignore', message='compiletime version 3.5 of module')\n",
    "\n",
    "if not 'workbookDir' in globals():\n",
    "    workbookDir = os.getcwd()\n",
    "os.chdir(os.path.split(workbookDir)[0])\n",
    "\n",
    "\n",
    "%load_ext autoreload\n",
    "%autoreload 2\n",
    "%matplotlib inline"
   ]
  },
  {
   "cell_type": "code",
   "execution_count": 2,
   "metadata": {
    "pycharm": {}
   },
   "outputs": [
    {
     "name": "stdout",
     "output_type": "stream",
     "text": [
      "\n",
      "WARNING: The TensorFlow contrib module will not be included in TensorFlow 2.0.\n",
      "For more information, please see:\n",
      "  * https://github.com/tensorflow/community/blob/master/rfcs/20180907-contrib-sunset.md\n",
      "  * https://github.com/tensorflow/addons\n",
      "If you depend on functionality not listed there, please file an issue.\n",
      "\n",
      "Copyright (C) Synthesized Ltd. - All Rights Reserved\n",
      "License key: EE6B-6720-67A2-32F3-3139-2D31-322D-B531\n",
      "Expires at: 2019-12-31 00:00:00\n"
     ]
    }
   ],
   "source": [
    "from synthesized.testing.evaluation import Evaluation\n",
    "from synthesized.testing import synthetic_distributions as syn_dist\n",
    "branch = os.environ.get('EVALUATION_BRANCH', 'n/a')\n",
    "revision = os.environ.get('EVALUATION_REVISION', 'n/a')\n",
    "group = \"synthetic\"\n",
    "config_path = os.environ.get('EVALUATION_CONFIG_PATH', \"configs/evaluation/synthetic_distributions.json\") \n",
    "with open(config_path, 'r') as f:\n",
    "    configs = json.load(f)\n",
    "    config = configs[\"instances\"][\"synthetic\"]\n",
    "evaluation = Evaluation(branch=branch, revision=revision, group=group) # use this line if you want to run this notbook manually\n",
    "# evaluation = Evaluation()"
   ]
  },
  {
   "cell_type": "code",
   "execution_count": 3,
   "metadata": {
    "pycharm": {
     "metadata": false,
     "name": "#%%\n"
    }
   },
   "outputs": [],
   "source": [
    "from synthesized.testing import UtilityTesting"
   ]
  },
  {
   "cell_type": "code",
   "execution_count": 4,
   "metadata": {
    "pycharm": {}
   },
   "outputs": [],
   "source": [
    "from synthesized import HighDimSynthesizer"
   ]
  },
  {
   "cell_type": "code",
   "execution_count": 5,
   "metadata": {
    "pycharm": {}
   },
   "outputs": [],
   "source": [
    "import numpy as np"
   ]
  },
  {
   "cell_type": "code",
   "execution_count": 6,
   "metadata": {
    "pycharm": {}
   },
   "outputs": [],
   "source": [
    "def plot_data(data, ax=None):\n",
    "    if data.shape[1] == 1:\n",
    "        if data['x'].dtype.kind == 'O':\n",
    "            return sns.countplot(data[\"x\"], ax=ax)\n",
    "        else:\n",
    "            return sns.distplot(data[\"x\"], ax=ax)\n",
    "    if data.shape[1] == 2:\n",
    "        if data['x'].dtype.kind == 'O' and data['y'].dtype.kind == 'f':\n",
    "            order = sorted(data[\"x\"].unique().tolist())\n",
    "            sns.violinplot(x=\"x\", y=\"y\", data=data, ax=ax)\n",
    "        elif data['x'].dtype.kind == 'f' and data['y'].dtype.kind == 'f':\n",
    "            #return sns.jointplot(x=\"x\", y=\"y\", data=data, kind=\"kde\", ax=ax)\n",
    "            return ax.hist2d(data['x'], data['y'], bins=100)\n",
    "        elif data['x'].dtype.kind == 'O' and data['y'].dtype.kind == 'O':\n",
    "            crosstab = pd.crosstab(data['x'], columns=[data['y']]).apply(lambda r: r/r.sum(), axis=1)\n",
    "            sns.heatmap(crosstab, vmin=0.0, vmax=1.0, ax=ax)\n",
    "        else:\n",
    "            return sns.distplot(data, ax=ax)\n",
    "    else:\n",
    "        return sns.distplot(data, ax=ax)"
   ]
  },
  {
   "cell_type": "markdown",
   "metadata": {
    "pycharm": {
     "metadata": false,
     "name": "#%% md\n"
    }
   },
   "source": [
    "###  Evaluation metrics"
   ]
  },
  {
   "cell_type": "code",
   "execution_count": 7,
   "metadata": {
    "pycharm": {
     "metadata": false,
     "name": "#%%\n"
    }
   },
   "outputs": [],
   "source": [
    "def max_correlation_distance(orig, synth):\n",
    "    return np.abs((orig.corr() - synth.corr()).to_numpy()).max()\n",
    "\n",
    "def mean_ks_distance(orig, synth):\n",
    "    distances = [ks_2samp(orig[col], synth[col])[0] for col in orig.columns]\n",
    "    return np.mean(distances)"
   ]
  },
  {
   "cell_type": "code",
   "execution_count": 8,
   "metadata": {
    "pycharm": {}
   },
   "outputs": [],
   "source": [
    "import time\n",
    "from scipy.stats import ks_2samp\n",
    "import matplotlib.pyplot as plt\n",
    "\n",
    "\n",
    "\n",
    "default_metrics = {\"avg_distance\": mean_ks_distance}\n",
    "\n",
    "def synthesize_and_plot(data, name, n_iter=config['num_iterations'], metrics=None, \n",
    "                        show_anova=False, show_cat_rsquared=False):\n",
    "    evaluation.record_config(evaluation=name, config=config)\n",
    "    start = time.time()\n",
    "    with HighDimSynthesizer(df=data, **config['params']) as synthesizer:\n",
    "        synthesizer.learn(df_train=data, num_iterations=n_iter)\n",
    "        synthesized = synthesizer.synthesize(num_rows=len(data))\n",
    "        print('took', time.time() - start, 's')\n",
    "        print(\"Metrics:\")\n",
    "        for key, metric in metrics.items():\n",
    "            value = metric(orig=data, synth=synthesized)\n",
    "            evaluation.record_metric(evaluation=name, key=key, value=value)\n",
    "            print(f\"{key}: {value}\")\n",
    "        fig, (ax1, ax2) = plt.subplots(1, 2, figsize=(15, 5), sharex=True, sharey=True)\n",
    "        ax1.set_title('orig')\n",
    "        ax2.set_title('synth')\n",
    "        plot_data(data, ax=ax1)\n",
    "        plot_data(synthesized, ax=ax2)\n",
    "        if show_anova:\n",
    "            testing = UtilityTesting(synthesizer, data, data, synthesized)\n",
    "            testing.show_anova()\n",
    "        if show_cat_rsquared:\n",
    "            testing = UtilityTesting(synthesizer, data, data, synthesized)\n",
    "            testing.show_categorical_rsquared()"
   ]
  },
  {
   "cell_type": "markdown",
   "metadata": {
    "pycharm": {}
   },
   "source": [
    "### Gauss \"ball\" outside of center"
   ]
  },
  {
   "cell_type": "code",
   "execution_count": null,
   "metadata": {
    "pycharm": {}
   },
   "outputs": [],
   "source": [
    "data = syn_dist.create_gauss_ball(x_mean=1000, x_std=100, y_mean=100, y_std=10, size=10000)"
   ]
  },
  {
   "cell_type": "code",
   "execution_count": null,
   "metadata": {
    "pycharm": {}
   },
   "outputs": [],
   "source": [
    "synthesize_and_plot(data, 'ball', metrics=default_metrics)"
   ]
  },
  {
   "cell_type": "markdown",
   "metadata": {
    "pycharm": {}
   },
   "source": [
    "### Gauss \"ball\" around of zero"
   ]
  },
  {
   "cell_type": "code",
   "execution_count": null,
   "metadata": {
    "pycharm": {}
   },
   "outputs": [],
   "source": [
    "data = syn_dist.create_gauss_ball(x_mean=0, x_std=100, y_mean=0, y_std=10, size=10000)"
   ]
  },
  {
   "cell_type": "code",
   "execution_count": null,
   "metadata": {
    "pycharm": {}
   },
   "outputs": [],
   "source": [
    "synthesize_and_plot(data, 'ball_ext', metrics=default_metrics)"
   ]
  },
  {
   "cell_type": "markdown",
   "metadata": {
    "pycharm": {
     "metadata": false,
     "name": "#%% md\n"
    }
   },
   "source": [
    "### Correlated Gaussian far from zero"
   ]
  },
  {
   "cell_type": "code",
   "execution_count": null,
   "metadata": {
    "pycharm": {
     "metadata": false,
     "name": "#%%\n"
    }
   },
   "outputs": [],
   "source": [
    "data = syn_dist.create_gauss_ball(x_mean=1000, x_std=100, y_mean=100, y_std=10, size=10000, cor=0.8)"
   ]
  },
  {
   "cell_type": "code",
   "execution_count": null,
   "metadata": {
    "pycharm": {
     "metadata": false,
     "name": "#%%\n"
    }
   },
   "outputs": [],
   "source": [
    "metrics = dict(default_metrics)\n",
    "metrics[\"max_correlation_distance\"] = max_correlation_distance\n",
    "synthesize_and_plot(data, 'corr_ball_far', metrics=metrics)"
   ]
  },
  {
   "cell_type": "markdown",
   "metadata": {
    "pycharm": {
     "metadata": false
    }
   },
   "source": [
    "### Correlated Gaussian around zero"
   ]
  },
  {
   "cell_type": "code",
   "execution_count": null,
   "metadata": {
    "pycharm": {
     "metadata": false,
     "name": "#%%\n"
    }
   },
   "outputs": [],
   "source": [
    "data = syn_dist.create_gauss_ball(x_mean=0, x_std=100, y_mean=0, y_std=10, size=10000, cor=0.8)"
   ]
  },
  {
   "cell_type": "code",
   "execution_count": null,
   "metadata": {
    "pycharm": {
     "metadata": false,
     "name": "#%%\n"
    }
   },
   "outputs": [],
   "source": [
    "metrics = dict(default_metrics)\n",
    "metrics[\"max_correlation_distance\"] = max_correlation_distance\n",
    "synthesize_and_plot(data, 'corr_ball_zero', metrics=metrics)"
   ]
  },
  {
   "cell_type": "markdown",
   "metadata": {
    "pycharm": {}
   },
   "source": [
    "### Line of noise that far from zero"
   ]
  },
  {
   "cell_type": "code",
   "execution_count": null,
   "metadata": {
    "pycharm": {}
   },
   "outputs": [],
   "source": [
    "data = syn_dist.create_line(x_range=(0, 1000), intercept=100, slope=-0.1, y_std=10, size=10000)"
   ]
  },
  {
   "cell_type": "code",
   "execution_count": null,
   "metadata": {
    "pycharm": {}
   },
   "outputs": [],
   "source": [
    "synthesize_and_plot(data, 'line', metrics=default_metrics)"
   ]
  },
  {
   "cell_type": "markdown",
   "metadata": {
    "pycharm": {}
   },
   "source": [
    "### Line of noise that comes from zero"
   ]
  },
  {
   "cell_type": "code",
   "execution_count": null,
   "metadata": {
    "pycharm": {}
   },
   "outputs": [],
   "source": [
    "data = syn_dist.create_line(x_range=(0, 1000), intercept=0, slope=0.1, y_std=10, size=10000)"
   ]
  },
  {
   "cell_type": "code",
   "execution_count": null,
   "metadata": {
    "pycharm": {}
   },
   "outputs": [],
   "source": [
    "synthesize_and_plot(data, 'line_ext', metrics=default_metrics)"
   ]
  },
  {
   "cell_type": "markdown",
   "metadata": {
    "pycharm": {}
   },
   "source": [
    "### Power law distribution"
   ]
  },
  {
   "cell_type": "code",
   "execution_count": null,
   "metadata": {
    "pycharm": {}
   },
   "outputs": [],
   "source": [
    "data = syn_dist.create_power_law_distribution(shape=0.5, scale=1000, size=10000)"
   ]
  },
  {
   "cell_type": "code",
   "execution_count": null,
   "metadata": {
    "pycharm": {}
   },
   "outputs": [],
   "source": [
    "synthesize_and_plot(data, 'power_law', metrics=default_metrics)"
   ]
  },
  {
   "cell_type": "markdown",
   "metadata": {
    "pycharm": {}
   },
   "source": [
    "### Conditional distribution"
   ]
  },
  {
   "cell_type": "code",
   "execution_count": null,
   "metadata": {
    "pycharm": {}
   },
   "outputs": [],
   "source": [
    "data = syn_dist.create_conditional_distribution((10,2), (20, 5), (30, 1), size=10000)"
   ]
  },
  {
   "cell_type": "code",
   "execution_count": null,
   "metadata": {
    "pycharm": {}
   },
   "outputs": [],
   "source": [
    "synthesize_and_plot(data, 'conditional', metrics=default_metrics)"
   ]
  },
  {
   "cell_type": "markdown",
   "metadata": {
    "pycharm": {}
   },
   "source": [
    "### Bernoulli distribution"
   ]
  },
  {
   "cell_type": "code",
   "execution_count": null,
   "metadata": {
    "pycharm": {}
   },
   "outputs": [],
   "source": [
    "data = syn_dist.create_bernoulli(probability=0.5, size=10000)"
   ]
  },
  {
   "cell_type": "code",
   "execution_count": null,
   "metadata": {
    "pycharm": {}
   },
   "outputs": [],
   "source": [
    "synthesize_and_plot(data, 'bernoulli_50/50', metrics=default_metrics)"
   ]
  },
  {
   "cell_type": "code",
   "execution_count": null,
   "metadata": {
    "pycharm": {}
   },
   "outputs": [],
   "source": [
    "data = syn_dist.create_bernoulli(probability=0.2, size=10000)"
   ]
  },
  {
   "cell_type": "code",
   "execution_count": null,
   "metadata": {
    "pycharm": {}
   },
   "outputs": [],
   "source": [
    "synthesize_and_plot(data, 'bernoulli_20/80', metrics=default_metrics)"
   ]
  },
  {
   "cell_type": "markdown",
   "metadata": {
    "pycharm": {}
   },
   "source": [
    "### Categorical distribution"
   ]
  },
  {
   "cell_type": "code",
   "execution_count": 9,
   "metadata": {
    "pycharm": {}
   },
   "outputs": [],
   "source": [
    "data = syn_dist.create_uniform_categorical(n_classes=100, size=100000)"
   ]
  },
  {
   "cell_type": "code",
   "execution_count": 10,
   "metadata": {
    "pycharm": {}
   },
   "outputs": [
    {
     "name": "stdout",
     "output_type": "stream",
     "text": [
      "WARNING:tensorflow:From /Users/amandlamabona/anaconda3/envs/synth_p37/lib/python3.7/site-packages/tensorflow/python/framework/op_def_library.py:263: colocate_with (from tensorflow.python.framework.ops) is deprecated and will be removed in a future version.\n",
      "Instructions for updating:\n",
      "Colocations handled automatically by placer.\n",
      "WARNING:tensorflow:From /Users/amandlamabona/anaconda3/envs/synth_p37/lib/python3.7/site-packages/tensorflow/python/ops/math_ops.py:3066: to_int32 (from tensorflow.python.ops.math_ops) is deprecated and will be removed in a future version.\n",
      "Instructions for updating:\n",
      "Use tf.cast instead.\n",
      "took 42.28576421737671 s\n",
      "Metrics:\n",
      "avg_distance: 0.013889999999999958\n"
     ]
    },
    {
     "data": {
      "image/png": "[encoded data removed]",
      "text/plain": [
       "<Figure size 1080x360 with 2 Axes>"
      ]
     },
     "metadata": {
      "needs_background": "light"
     },
     "output_type": "display_data"
    }
   ],
   "source": [
    "synthesize_and_plot(data, 'categorical_uniform', metrics=default_metrics, n_iter=10000)"
   ]
  },
  {
   "cell_type": "code",
   "execution_count": 11,
   "metadata": {
    "pycharm": {}
   },
   "outputs": [],
   "source": [
    "data = syn_dist.create_power_law_categorical(n_classes=10, size=10000)"
   ]
  },
  {
   "cell_type": "code",
   "execution_count": 12,
   "metadata": {
    "pycharm": {}
   },
   "outputs": [
    {
     "name": "stdout",
     "output_type": "stream",
     "text": [
      "took 8.266245126724243 s\n",
      "Metrics:\n",
      "avg_distance: 0.044399999999999995\n"
     ]
    },
    {
     "data": {
      "image/png": "[encoded data removed]",
      "text/plain": [
       "<Figure size 1080x360 with 2 Axes>"
      ]
     },
     "metadata": {
      "needs_background": "light"
     },
     "output_type": "display_data"
    }
   ],
   "source": [
    "synthesize_and_plot(data, 'categorical_powerlaw', metrics=default_metrics)"
   ]
  },
  {
   "cell_type": "code",
   "execution_count": 13,
   "metadata": {
    "pycharm": {
     "metadata": false,
     "name": "#%%\n"
    }
   },
   "outputs": [],
   "source": [
    "data = syn_dist.create_mixed_continuous_categorical(n_classes=10, size=10000)"
   ]
  },
  {
   "cell_type": "code",
   "execution_count": 14,
   "metadata": {
    "pycharm": {
     "metadata": false,
     "name": "#%%\n"
    }
   },
   "outputs": [
    {
     "name": "stdout",
     "output_type": "stream",
     "text": [
      "took 8.123363018035889 s\n",
      "Metrics:\n",
      "avg_distance: 0.0406\n"
     ]
    },
    {
     "data": {
      "image/png": "[encoded data removed]",
      "text/plain": [
       "<Figure size 1080x360 with 2 Axes>"
      ]
     },
     "metadata": {
      "needs_background": "light"
     },
     "output_type": "display_data"
    },
    {
     "data": {
      "image/png": "[encoded data removed]",
      "text/plain": [
       "<Figure size 720x720 with 4 Axes>"
      ]
     },
     "metadata": {
      "needs_background": "light"
     },
     "output_type": "display_data"
    }
   ],
   "source": [
    "synthesize_and_plot(data, 'mixed_categorical_continuous', metrics=default_metrics, show_anova=True)"
   ]
  },
  {
   "cell_type": "code",
   "execution_count": null,
   "metadata": {
    "pycharm": {}
   },
   "outputs": [],
   "source": [
    "evaluation.write_metrics()"
   ]
  }
 ],
 "metadata": {
  "kernelspec": {
   "display_name": "Python 3",
   "language": "python",
   "name": "python3"
  },
  "language_info": {
   "codemirror_mode": {
    "name": "ipython",
    "version": 3
   },
   "file_extension": ".py",
   "mimetype": "text/x-python",
   "name": "python",
   "nbconvert_exporter": "python",
   "pygments_lexer": "ipython3",
   "version": "3.7.3"
  }
 },
 "nbformat": 4,
 "nbformat_minor": 2
}
