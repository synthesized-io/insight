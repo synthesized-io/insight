{
 "cells": [
  {
   "cell_type": "code",
   "execution_count": null,
   "metadata": {},
   "outputs": [],
   "source": [
    "import os\n",
    "import warnings\n",
    "import pandas as pd\n",
    "import seaborn as sns\n",
    "\n",
    "warnings.filterwarnings(action='ignore', message='numpy.dtype size changed')\n",
    "warnings.filterwarnings(action='ignore', message='compiletime version 3.5 of module')\n",
    "\n",
    "if not 'workbookDir' in globals():\n",
    "    workbookDir = os.getcwd()\n",
    "os.chdir(os.path.split(workbookDir)[0])\n",
    "\n",
    "%load_ext autoreload\n",
    "%autoreload 2\n",
    "%matplotlib inline"
   ]
  },
  {
   "cell_type": "code",
   "execution_count": null,
   "metadata": {},
   "outputs": [],
   "source": [
    "from synthesized.testing.evaluation import Evaluation\n",
    "evaluation = Evaluation(config_path='configs/evaluation/synthetic_distributions.json', name='synthetic') # use this line if you want to run this notbook manually\n",
    "# evaluation = Evaluation()"
   ]
  },
  {
   "cell_type": "code",
   "execution_count": null,
   "metadata": {},
   "outputs": [],
   "source": [
    "from synthesized import BasicSynthesizer"
   ]
  },
  {
   "cell_type": "code",
   "execution_count": null,
   "metadata": {},
   "outputs": [],
   "source": [
    "import numpy as np"
   ]
  },
  {
   "cell_type": "code",
   "execution_count": null,
   "metadata": {},
   "outputs": [],
   "source": [
    "def create_ball(x_mean, x_std, y_mean, y_std, size):\n",
    "    mean = [x_mean, y_mean]\n",
    "    cov = [[x_std, 0], [0, y_std]]\n",
    "    x, y = np.random.multivariate_normal(mean, cov, size).T\n",
    "    df = pd.DataFrame({'x': x, 'y': y})\n",
    "    return df"
   ]
  },
  {
   "cell_type": "code",
   "execution_count": null,
   "metadata": {},
   "outputs": [],
   "source": [
    "def create_line(x_range, intercept, slope, y_std, size):\n",
    "    x = np.random.uniform(low=x_range[0], high=x_range[1], size=size)\n",
    "    y = intercept + x*slope + np.random.normal(loc=0, scale=y_std, size=size)\n",
    "    df = pd.DataFrame({'x': x, 'y': y})\n",
    "    return df"
   ]
  },
  {
   "cell_type": "code",
   "execution_count": null,
   "metadata": {},
   "outputs": [],
   "source": [
    "from scipy.stats import powerlaw\n",
    "def create_power_law_distribution(a, scale, size):\n",
    "    return pd.DataFrame({'x': scale*powerlaw.rvs(a, size=size)})"
   ]
  },
  {
   "cell_type": "code",
   "execution_count": null,
   "metadata": {},
   "outputs": [],
   "source": [
    "from scipy.stats import bernoulli\n",
    "def create_bernoulli_distribution(ratio, size):\n",
    "    df = pd.DataFrame({'x': bernoulli.rvs(ratio, size=size)})\n",
    "    df['x'] = df['x'].astype('category')\n",
    "    return df"
   ]
  },
  {
   "cell_type": "code",
   "execution_count": null,
   "metadata": {},
   "outputs": [],
   "source": [
    "def create_conditional_distibution(*norm_params, size):\n",
    "    df = pd.DataFrame()\n",
    "    for i, (mean, std) in enumerate(norm_params):\n",
    "        x = [i] * size\n",
    "        y = np.random.normal(mean, std, size)\n",
    "        df = df.append(pd.DataFrame({'x': x, 'y': y}), ignore_index=True)\n",
    "    df = df.sample(frac=1).reset_index(drop=True)\n",
    "    df['x'] = df['x'].astype('category')\n",
    "    return df"
   ]
  },
  {
   "cell_type": "code",
   "execution_count": null,
   "metadata": {},
   "outputs": [],
   "source": [
    "def create_unifom_categorical(n_classes, size):\n",
    "    df = pd.DataFrame({'x': range(n_classes)})\n",
    "    df = df.sample(10000, replace=True)\n",
    "    df['x'] = df['x'].astype('category')\n",
    "    return df"
   ]
  },
  {
   "cell_type": "code",
   "execution_count": null,
   "metadata": {},
   "outputs": [],
   "source": [
    "def create_power_law_categorical(n_classes, size):\n",
    "    sample = [j for i in range(n_classes) for j in [i]*2**(n_classes-i-1)]\n",
    "    df = pd.DataFrame({'x': sample})\n",
    "    df = df.sample(10000, replace=True)\n",
    "    df['x'] = df['x'].astype('category')\n",
    "    return df"
   ]
  },
  {
   "cell_type": "code",
   "execution_count": null,
   "metadata": {},
   "outputs": [],
   "source": [
    "def plot_data(data, ax=None):\n",
    "    if data.shape[1] == 1:\n",
    "        if data['x'].dtype.kind == 'O':\n",
    "            return sns.distplot(data, ax=ax, kde=False)\n",
    "        else:\n",
    "            return sns.distplot(data, ax=ax)\n",
    "    if data.shape[1] == 2:\n",
    "        if data['x'].dtype.kind == 'O':\n",
    "            sns.violinplot(x=\"x\", y=\"y\", data=data, ax=ax)\n",
    "        else:\n",
    "            #return sns.jointplot(x=\"x\", y=\"y\", data=data, kind=\"kde\", ax=ax)\n",
    "            return ax.hist2d(data['x'], data['y'], bins=100)\n",
    "    else:\n",
    "        return sns.distplot(data, ax=ax)"
   ]
  },
  {
   "cell_type": "code",
   "execution_count": null,
   "metadata": {},
   "outputs": [],
   "source": [
    "import time\n",
    "from scipy.stats import ks_2samp\n",
    "import matplotlib.pyplot as plt\n",
    "\n",
    "def synthesize_and_plot(data, name, n_iter=evaluation.config['num_iterations']):\n",
    "    start = time.time()\n",
    "    with BasicSynthesizer(df=data, **evaluation.config['params']) as synthesizer:\n",
    "        synthesizer.learn(df_train=data, num_iterations=n_iter)\n",
    "        synthesized = synthesizer.synthesize(num_rows=len(data))\n",
    "        print('took', time.time() - start, 's')\n",
    "        distances = [ks_2samp(data[col], synthesized[col])[0] for col in data.columns]\n",
    "        avg_distance = np.mean(distances)\n",
    "        evaluation['avg_distance'] = avg_distance\n",
    "        fig, (ax1, ax2) = plt.subplots(1, 2, figsize=(15, 5), sharex=True, sharey=True)\n",
    "        ax1.set_title('orig')\n",
    "        ax2.set_title('synth')\n",
    "        plot_data(data, ax=ax1)\n",
    "        plot_data(synthesized, ax=ax2)"
   ]
  },
  {
   "cell_type": "markdown",
   "metadata": {},
   "source": [
    "### Gauss \"ball\" outside of center"
   ]
  },
  {
   "cell_type": "code",
   "execution_count": null,
   "metadata": {},
   "outputs": [],
   "source": [
    "data = create_ball(x_mean=1000, x_std=100, y_mean=100, y_std=10, size=10000)"
   ]
  },
  {
   "cell_type": "code",
   "execution_count": null,
   "metadata": {},
   "outputs": [],
   "source": [
    "synthesize_and_plot(data, 'ball')"
   ]
  },
  {
   "cell_type": "markdown",
   "metadata": {},
   "source": [
    "### Gauss \"ball\" around of zero"
   ]
  },
  {
   "cell_type": "code",
   "execution_count": null,
   "metadata": {},
   "outputs": [],
   "source": [
    "data = create_ball(x_mean=0, x_std=100, y_mean=0, y_std=10, size=10000)"
   ]
  },
  {
   "cell_type": "code",
   "execution_count": null,
   "metadata": {},
   "outputs": [],
   "source": [
    "synthesize_and_plot(data, 'ball_ext')"
   ]
  },
  {
   "cell_type": "markdown",
   "metadata": {},
   "source": [
    "### Line of noise that far from zero"
   ]
  },
  {
   "cell_type": "code",
   "execution_count": null,
   "metadata": {},
   "outputs": [],
   "source": [
    "data = create_line(x_range=(0, 1000), intercept=100, slope=-0.1, y_std=10, size=10000)"
   ]
  },
  {
   "cell_type": "code",
   "execution_count": null,
   "metadata": {},
   "outputs": [],
   "source": [
    "synthesize_and_plot(data, 'line')"
   ]
  },
  {
   "cell_type": "markdown",
   "metadata": {},
   "source": [
    "### Line of noise that comes from zero"
   ]
  },
  {
   "cell_type": "code",
   "execution_count": null,
   "metadata": {},
   "outputs": [],
   "source": [
    "data = create_line(x_range=(0, 1000), intercept=0, slope=0.1, y_std=10, size=10000)"
   ]
  },
  {
   "cell_type": "code",
   "execution_count": null,
   "metadata": {},
   "outputs": [],
   "source": [
    "synthesize_and_plot(data, 'line_ext')"
   ]
  },
  {
   "cell_type": "markdown",
   "metadata": {},
   "source": [
    "### Power law distribution"
   ]
  },
  {
   "cell_type": "code",
   "execution_count": null,
   "metadata": {},
   "outputs": [],
   "source": [
    "data = create_power_law_distribution(a=0.5, scale=1000, size=10000)"
   ]
  },
  {
   "cell_type": "code",
   "execution_count": null,
   "metadata": {},
   "outputs": [],
   "source": [
    "synthesize_and_plot(data, 'power_law')"
   ]
  },
  {
   "cell_type": "markdown",
   "metadata": {},
   "source": [
    "### Conditional distribution"
   ]
  },
  {
   "cell_type": "code",
   "execution_count": null,
   "metadata": {},
   "outputs": [],
   "source": [
    "data = create_conditional_distibution((10,2), (20, 5), (30, 1), size=10000)"
   ]
  },
  {
   "cell_type": "code",
   "execution_count": null,
   "metadata": {},
   "outputs": [],
   "source": [
    "synthesize_and_plot(data, 'conditional')"
   ]
  },
  {
   "cell_type": "markdown",
   "metadata": {},
   "source": [
    "### Bernoulli distribution"
   ]
  },
  {
   "cell_type": "code",
   "execution_count": null,
   "metadata": {},
   "outputs": [],
   "source": [
    "data = create_bernoulli_distribution(ratio=0.5, size=10000)"
   ]
  },
  {
   "cell_type": "code",
   "execution_count": null,
   "metadata": {},
   "outputs": [],
   "source": [
    "synthesize_and_plot(data, 'bernoulli_50/50')"
   ]
  },
  {
   "cell_type": "code",
   "execution_count": null,
   "metadata": {},
   "outputs": [],
   "source": [
    "data = create_bernoulli_distribution(ratio=0.2, size=10000)"
   ]
  },
  {
   "cell_type": "code",
   "execution_count": null,
   "metadata": {},
   "outputs": [],
   "source": [
    "synthesize_and_plot(data, 'bernoulli_20/80')"
   ]
  },
  {
   "cell_type": "markdown",
   "metadata": {},
   "source": [
    "### Categorical distribution"
   ]
  },
  {
   "cell_type": "code",
   "execution_count": null,
   "metadata": {},
   "outputs": [],
   "source": [
    "data = create_unifom_categorical(n_classes=10, size=10000)"
   ]
  },
  {
   "cell_type": "code",
   "execution_count": null,
   "metadata": {},
   "outputs": [],
   "source": [
    "synthesize_and_plot(data, 'categorical_uniform')"
   ]
  },
  {
   "cell_type": "code",
   "execution_count": null,
   "metadata": {},
   "outputs": [],
   "source": [
    "data = create_power_law_categorical(n_classes=10, size=10000)"
   ]
  },
  {
   "cell_type": "code",
   "execution_count": null,
   "metadata": {},
   "outputs": [],
   "source": [
    "synthesize_and_plot(data, 'categorical_powerlaw')"
   ]
  },
  {
   "cell_type": "code",
   "execution_count": null,
   "metadata": {},
   "outputs": [],
   "source": [
    "evaluation.write_metrics()"
   ]
  }
 ],
 "metadata": {
  "kernelspec": {
   "display_name": "Python 3",
   "language": "python",
   "name": "python3"
  },
  "language_info": {
   "codemirror_mode": {
    "name": "ipython",
    "version": 3
   },
   "file_extension": ".py",
   "mimetype": "text/x-python",
   "name": "python",
   "nbconvert_exporter": "python",
   "pygments_lexer": "ipython3",
   "version": "3.6.6"
  }
 },
 "nbformat": 4,
 "nbformat_minor": 2
}
