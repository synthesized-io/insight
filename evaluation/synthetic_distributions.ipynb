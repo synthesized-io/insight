{
  "cells": [
    {
      "cell_type": "code",
      "execution_count": null,
      "metadata": {
        "pycharm": {}
      },
      "outputs": [],
      "source": [
        "import os\n",
        "import warnings\n",
        "import pandas as pd\n",
        "import seaborn as sns\n",
        "\n",
        "warnings.filterwarnings(action\u003d\u0027ignore\u0027, message\u003d\u0027numpy.dtype size changed\u0027)\n",
        "warnings.filterwarnings(action\u003d\u0027ignore\u0027, message\u003d\u0027compiletime version 3.5 of module\u0027)\n",
        "\n",
        "if not \u0027workbookDir\u0027 in globals():\n",
        "    workbookDir \u003d os.getcwd()\n",
        "os.chdir(os.path.split(workbookDir)[0])\n",
        "\n",
        "%load_ext autoreload\n",
        "%autoreload 2\n",
        "%matplotlib inline"
      ]
    },
    {
      "cell_type": "code",
      "execution_count": null,
      "metadata": {
        "pycharm": {}
      },
      "outputs": [],
      "source": [
        "from synthesized.testing.evaluation import Evaluation\n",
        "evaluation \u003d Evaluation(config_path\u003d\u0027configs/evaluation/synthetic_distributions.json\u0027, name\u003d\u0027synthetic\u0027) # use this line if you want to run this notbook manually\n",
        "# evaluation \u003d Evaluation()"
      ]
    },
    {
      "cell_type": "code",
      "execution_count": null,
      "metadata": {
        "pycharm": {}
      },
      "outputs": [],
      "source": [
        "from synthesized import BasicSynthesizer"
      ]
    },
    {
      "cell_type": "code",
      "execution_count": null,
      "metadata": {
        "pycharm": {}
      },
      "outputs": [],
      "source": [
        "import numpy as np"
      ]
    },
    {
      "cell_type": "code",
      "execution_count": null,
      "metadata": {
        "pycharm": {}
      },
      "outputs": [],
      "source": "def create_ball(x_mean, x_std, y_mean, y_std, size, cor\u003d0.):\n    mean \u003d [x_mean, y_mean]\n    cov \u003d [[x_std**2, x_std*y_std*cor], [x_std*y_std*cor, y_std**2]]\n    x, y \u003d np.random.multivariate_normal(mean, cov, size).T\n    df \u003d pd.DataFrame({\u0027x\u0027: x, \u0027y\u0027: y})\n    return df"
    },
    {
      "cell_type": "code",
      "execution_count": null,
      "metadata": {
        "pycharm": {}
      },
      "outputs": [],
      "source": [
        "def create_line(x_range, intercept, slope, y_std, size):\n",
        "    x \u003d np.random.uniform(low\u003dx_range[0], high\u003dx_range[1], size\u003dsize)\n",
        "    y \u003d intercept + x*slope + np.random.normal(loc\u003d0, scale\u003dy_std, size\u003dsize)\n",
        "    df \u003d pd.DataFrame({\u0027x\u0027: x, \u0027y\u0027: y})\n",
        "    return df"
      ]
    },
    {
      "cell_type": "code",
      "execution_count": null,
      "metadata": {
        "pycharm": {}
      },
      "outputs": [],
      "source": [
        "from scipy.stats import powerlaw\n",
        "def create_power_law_distribution(a, scale, size):\n",
        "    return pd.DataFrame({\u0027x\u0027: scale*powerlaw.rvs(a, size\u003dsize)})"
      ]
    },
    {
      "cell_type": "code",
      "execution_count": null,
      "metadata": {
        "pycharm": {}
      },
      "outputs": [],
      "source": [
        "from scipy.stats import bernoulli\n",
        "def create_bernoulli_distribution(ratio, size):\n",
        "    df \u003d pd.DataFrame({\u0027x\u0027: bernoulli.rvs(ratio, size\u003dsize)})\n",
        "    df[\u0027x\u0027] \u003d df[\u0027x\u0027].astype(\u0027category\u0027)\n",
        "    return df"
      ]
    },
    {
      "cell_type": "code",
      "execution_count": null,
      "metadata": {
        "pycharm": {}
      },
      "outputs": [],
      "source": [
        "def create_conditional_distibution(*norm_params, size):\n",
        "    df \u003d pd.DataFrame()\n",
        "    for i, (mean, std) in enumerate(norm_params):\n",
        "        x \u003d [i] * size\n",
        "        y \u003d np.random.normal(mean, std, size)\n",
        "        df \u003d df.append(pd.DataFrame({\u0027x\u0027: x, \u0027y\u0027: y}), ignore_index\u003dTrue)\n",
        "    df \u003d df.sample(frac\u003d1).reset_index(drop\u003dTrue)\n",
        "    df[\u0027x\u0027] \u003d df[\u0027x\u0027].astype(\u0027category\u0027)\n",
        "    return df"
      ]
    },
    {
      "cell_type": "code",
      "execution_count": null,
      "metadata": {
        "pycharm": {}
      },
      "outputs": [],
      "source": [
        "def create_unifom_categorical(n_classes, size):\n",
        "    df \u003d pd.DataFrame({\u0027x\u0027: range(n_classes)})\n",
        "    df \u003d df.sample(10000, replace\u003dTrue)\n",
        "    df[\u0027x\u0027] \u003d df[\u0027x\u0027].astype(\u0027category\u0027)\n",
        "    return df"
      ]
    },
    {
      "cell_type": "code",
      "execution_count": null,
      "metadata": {
        "pycharm": {}
      },
      "outputs": [],
      "source": [
        "def create_power_law_categorical(n_classes, size):\n",
        "    sample \u003d [j for i in range(n_classes) for j in [i]*2**(n_classes-i-1)]\n",
        "    df \u003d pd.DataFrame({\u0027x\u0027: sample})\n",
        "    df \u003d df.sample(10000, replace\u003dTrue)\n",
        "    df[\u0027x\u0027] \u003d df[\u0027x\u0027].astype(\u0027category\u0027)\n",
        "    return df"
      ]
    },
    {
      "cell_type": "code",
      "execution_count": null,
      "metadata": {
        "pycharm": {}
      },
      "outputs": [],
      "source": "def plot_data(data, ax\u003dNone):\n    if data.shape[1] \u003d\u003d 1:\n        if data[\u0027x\u0027].dtype.kind \u003d\u003d \u0027O\u0027:\n            return sns.distplot(data, ax\u003dax, kde\u003dFalse)\n        else:\n            return sns.distplot(data, ax\u003dax)\n    if data.shape[1] \u003d\u003d 2:\n        if data[\u0027x\u0027].dtype.kind \u003d\u003d \u0027O\u0027:\n            sns.violinplot(x\u003d\"x\", y\u003d\"y\", data\u003ddata, ax\u003dax)\n        else:\n            #return sns.jointplot(x\u003d\"x\", y\u003d\"y\", data\u003ddata, kind\u003d\"kde\", ax\u003dax)\n            return ax.hist2d(data[\u0027x\u0027], data[\u0027y\u0027], bins\u003d100)\n    else:\n        return sns.distplot(data, ax\u003dax)"
    },
    {
      "cell_type": "markdown",
      "source": "###  Evaluation metrics",
      "metadata": {
        "pycharm": {
          "metadata": false,
          "name": "#%% md\n"
        }
      }
    },
    {
      "cell_type": "code",
      "execution_count": null,
      "outputs": [],
      "source": "def filter_column_data_types(data_frame):\n    categorical, continuous \u003d [], []\n    for name, dtype in data_frame.dtypes.items():\n        if dtype.kind \u003d\u003d \"f\":\n            continuous.append(name)\n        elif dtype.kind \u003d\u003d \"O\":\n            categorical.append(name)\n    return categorical, continuous\n\n\ndef column_associations(data_frame):\n    categorical, continuous \u003d filter_column_data_types(data_frame)\n    \n    if len(continuous) \u003e 0:\n        continuous_df \u003d data_frame[continuous]\n        continuous_assoc \u003d continuous_df.corr()\n    else:\n        continuous_assoc \u003d None\n    \n    if len(categorical) \u003e 0:\n        categorical_df \u003d data_frame[categorical]\n        categorical_assoc \u003d np.zeros(len(categorical), len(categorical))\n        if len(continuous) \u003e 0:\n            mixed_assoc \u003d np.zeros(len(categorical), len(continuous))\n        for i in range(len(categorical)):\n            col_i \u003d categorical_df[categorical[i]]\n            for j in range(i+1):\n                col_j \u003d categorical_df[categorical[j]]\n                assoc  \u003d 0.\n                categorical_assoc[i, j] \u003d assoc\n                categorical_assoc[j, i] \u003d assoc\n            if len(continuous) \u003e 0:\n                for k in range(len(continuous)):\n                    col_k \u003d continuous_df[continuous[k]]\n                    assoc \u003d 0.\n                    mixed_assoc[i, k] \u003d assoc\n    else:\n        categorical_assoc, mixed_assoc \u003d None, None\n    return categorical_assoc, continuous_assoc, mixed_assoc\n\n\ndef max_correlation_distance(orig, synth):\n    return np.abs((orig.corr() - synth.corr()).to_numpy()).max()\n\ndef mean_ks_distance(orig, synth):\n    distances \u003d [ks_2samp(orig[col], synth[col])[0] for col in orig.columns]\n    return np.mean(distances)",
      "metadata": {
        "pycharm": {
          "metadata": false,
          "name": "#%%\n"
        }
      }
    },
    {
      "cell_type": "code",
      "execution_count": null,
      "metadata": {
        "pycharm": {}
      },
      "outputs": [],
      "source": "import time\nfrom scipy.stats import ks_2samp\nimport matplotlib.pyplot as plt\n\n\n\ndefault_metrics \u003d {\"avg_distance\": mean_ks_distance}\n\ndef synthesize_and_plot(data, name, n_iter\u003devaluation.config[\u0027num_iterations\u0027], metrics\u003dNone):\n    start \u003d time.time()\n    with BasicSynthesizer(df\u003ddata, **evaluation.config[\u0027params\u0027]) as synthesizer:\n        synthesizer.learn(df_train\u003ddata, num_iterations\u003dn_iter)\n        synthesized \u003d synthesizer.synthesize(num_rows\u003dlen(data))\n        print(\u0027took\u0027, time.time() - start, \u0027s\u0027)\n        for key, metric in metrics.items():\n            evaluation[key] \u003d metric(orig\u003ddata, synth\u003dsynthesized)\n        fig, (ax1, ax2) \u003d plt.subplots(1, 2, figsize\u003d(15, 5), sharex\u003dTrue, sharey\u003dTrue)\n        ax1.set_title(\u0027orig\u0027)\n        ax2.set_title(\u0027synth\u0027)\n        plot_data(data, ax\u003dax1)\n        plot_data(synthesized, ax\u003dax2)"
    },
    {
      "cell_type": "markdown",
      "metadata": {
        "pycharm": {}
      },
      "source": [
        "### Gauss \"ball\" outside of center"
      ]
    },
    {
      "cell_type": "code",
      "execution_count": null,
      "metadata": {
        "pycharm": {}
      },
      "outputs": [],
      "source": [
        "data \u003d create_ball(x_mean\u003d1000, x_std\u003d100, y_mean\u003d100, y_std\u003d10, size\u003d10000)"
      ]
    },
    {
      "cell_type": "code",
      "execution_count": null,
      "metadata": {
        "pycharm": {}
      },
      "outputs": [],
      "source": "synthesize_and_plot(data, \u0027ball\u0027, metrics\u003ddefault_metrics)"
    },
    {
      "cell_type": "markdown",
      "metadata": {
        "pycharm": {}
      },
      "source": [
        "### Gauss \"ball\" around of zero"
      ]
    },
    {
      "cell_type": "code",
      "execution_count": null,
      "metadata": {
        "pycharm": {}
      },
      "outputs": [],
      "source": [
        "data \u003d create_ball(x_mean\u003d0, x_std\u003d100, y_mean\u003d0, y_std\u003d10, size\u003d10000)"
      ]
    },
    {
      "cell_type": "code",
      "execution_count": null,
      "metadata": {
        "pycharm": {}
      },
      "outputs": [],
      "source": "synthesize_and_plot(data, \u0027ball_ext\u0027, metrics\u003ddefault_metrics)"
    },
    {
      "cell_type": "markdown",
      "source": "### Correlated Gaussian far from zero",
      "metadata": {
        "pycharm": {
          "metadata": false,
          "name": "#%% md\n"
        }
      }
    },
    {
      "cell_type": "code",
      "execution_count": null,
      "outputs": [],
      "source": "data \u003d create_ball(x_mean\u003d1000, x_std\u003d100, y_mean\u003d100, y_std\u003d10, size\u003d10000, cor\u003d0.8, eps\u003d1e-6)",
      "metadata": {
        "pycharm": {
          "metadata": false,
          "name": "#%%\n"
        }
      }
    },
    {
      "cell_type": "code",
      "execution_count": null,
      "outputs": [],
      "source": "metrics \u003d dict(default_metrics)\nmetrics[\"max_correlation_distance\"] \u003d max_correlation_distance\nsynthesize_and_plot(data, \u0027corr_ball_far\u0027, metrics\u003dmetrics)",
      "metadata": {
        "pycharm": {
          "metadata": false,
          "name": "#%%\n"
        }
      }
    },
    {
      "cell_type": "markdown",
      "source": "### Correlated Gaussian around zero",
      "metadata": {
        "pycharm": {
          "metadata": false
        }
      }
    },
    {
      "cell_type": "code",
      "execution_count": null,
      "outputs": [],
      "source": "data \u003d create_ball(x_mean\u003d0, x_std\u003d100, y_mean\u003d0, y_std\u003d10, size\u003d10000, cor\u003d0.8, eps\u003d1e-6)",
      "metadata": {
        "pycharm": {
          "metadata": false,
          "name": "#%%\n"
        }
      }
    },
    {
      "cell_type": "code",
      "execution_count": null,
      "outputs": [],
      "source": "metrics \u003d dict(default_metrics)\nmetrics[\"max_correlation_distance\"] \u003d max_correlation_distance\nsynthesize_and_plot(data, \u0027corr_ball_zero\u0027, metrics\u003dmetrics)",
      "metadata": {
        "pycharm": {
          "metadata": false,
          "name": "#%%\n"
        }
      }
    },
    {
      "cell_type": "markdown",
      "metadata": {
        "pycharm": {}
      },
      "source": "### Line of noise that far from zero"
    },
    {
      "cell_type": "code",
      "execution_count": null,
      "metadata": {
        "pycharm": {}
      },
      "outputs": [],
      "source": [
        "data \u003d create_line(x_range\u003d(0, 1000), intercept\u003d100, slope\u003d-0.1, y_std\u003d10, size\u003d10000)"
      ]
    },
    {
      "cell_type": "code",
      "execution_count": null,
      "metadata": {
        "pycharm": {}
      },
      "outputs": [],
      "source": "synthesize_and_plot(data, \u0027line\u0027, metrics\u003ddefault_metrics)"
    },
    {
      "cell_type": "markdown",
      "metadata": {
        "pycharm": {}
      },
      "source": [
        "### Line of noise that comes from zero"
      ]
    },
    {
      "cell_type": "code",
      "execution_count": null,
      "metadata": {
        "pycharm": {}
      },
      "outputs": [],
      "source": [
        "data \u003d create_line(x_range\u003d(0, 1000), intercept\u003d0, slope\u003d0.1, y_std\u003d10, size\u003d10000)"
      ]
    },
    {
      "cell_type": "code",
      "execution_count": null,
      "metadata": {
        "pycharm": {}
      },
      "outputs": [],
      "source": "synthesize_and_plot(data, \u0027line_ext\u0027, metrics\u003ddefault_metrics)"
    },
    {
      "cell_type": "markdown",
      "metadata": {
        "pycharm": {}
      },
      "source": [
        "### Power law distribution"
      ]
    },
    {
      "cell_type": "code",
      "execution_count": null,
      "metadata": {
        "pycharm": {}
      },
      "outputs": [],
      "source": [
        "data \u003d create_power_law_distribution(a\u003d0.5, scale\u003d1000, size\u003d10000)"
      ]
    },
    {
      "cell_type": "code",
      "execution_count": null,
      "metadata": {
        "pycharm": {}
      },
      "outputs": [],
      "source": "synthesize_and_plot(data, \u0027power_law\u0027, metrics\u003ddefault_metrics)"
    },
    {
      "cell_type": "markdown",
      "metadata": {
        "pycharm": {}
      },
      "source": [
        "### Conditional distribution"
      ]
    },
    {
      "cell_type": "code",
      "execution_count": null,
      "metadata": {
        "pycharm": {}
      },
      "outputs": [],
      "source": [
        "data \u003d create_conditional_distibution((10,2), (20, 5), (30, 1), size\u003d10000)"
      ]
    },
    {
      "cell_type": "code",
      "execution_count": null,
      "metadata": {
        "pycharm": {}
      },
      "outputs": [],
      "source": "synthesize_and_plot(data, \u0027conditional\u0027, metrics\u003ddefault_metrics)"
    },
    {
      "cell_type": "markdown",
      "metadata": {
        "pycharm": {}
      },
      "source": [
        "### Bernoulli distribution"
      ]
    },
    {
      "cell_type": "code",
      "execution_count": null,
      "metadata": {
        "pycharm": {}
      },
      "outputs": [],
      "source": [
        "data \u003d create_bernoulli_distribution(ratio\u003d0.5, size\u003d10000)"
      ]
    },
    {
      "cell_type": "code",
      "execution_count": null,
      "metadata": {
        "pycharm": {}
      },
      "outputs": [],
      "source": "synthesize_and_plot(data, \u0027bernoulli_50/50\u0027, metrics\u003ddefault_metrics)"
    },
    {
      "cell_type": "code",
      "execution_count": null,
      "metadata": {
        "pycharm": {}
      },
      "outputs": [],
      "source": [
        "data \u003d create_bernoulli_distribution(ratio\u003d0.2, size\u003d10000)"
      ]
    },
    {
      "cell_type": "code",
      "execution_count": null,
      "metadata": {
        "pycharm": {}
      },
      "outputs": [],
      "source": "synthesize_and_plot(data, \u0027bernoulli_20/80\u0027, metrics\u003ddefault_metrics)"
    },
    {
      "cell_type": "markdown",
      "metadata": {
        "pycharm": {}
      },
      "source": [
        "### Categorical distribution"
      ]
    },
    {
      "cell_type": "code",
      "execution_count": null,
      "metadata": {
        "pycharm": {}
      },
      "outputs": [],
      "source": [
        "data \u003d create_unifom_categorical(n_classes\u003d10, size\u003d10000)"
      ]
    },
    {
      "cell_type": "code",
      "execution_count": null,
      "metadata": {
        "pycharm": {}
      },
      "outputs": [],
      "source": "synthesize_and_plot(data, \u0027categorical_uniform\u0027, metrics\u003ddefault_metrics)"
    },
    {
      "cell_type": "code",
      "execution_count": null,
      "metadata": {
        "pycharm": {}
      },
      "outputs": [],
      "source": [
        "data \u003d create_power_law_categorical(n_classes\u003d10, size\u003d10000)"
      ]
    },
    {
      "cell_type": "code",
      "execution_count": null,
      "metadata": {
        "pycharm": {}
      },
      "outputs": [],
      "source": "synthesize_and_plot(data, \u0027categorical_powerlaw\u0027, metrics\u003ddefault_metrics)"
    },
    {
      "cell_type": "code",
      "execution_count": null,
      "metadata": {
        "pycharm": {}
      },
      "outputs": [],
      "source": [
        "evaluation.write_metrics()"
      ]
    }
  ],
  "metadata": {
    "kernelspec": {
      "display_name": "Python 3",
      "language": "python",
      "name": "python3"
    },
    "language_info": {
      "codemirror_mode": {
        "name": "ipython",
        "version": 3
      },
      "file_extension": ".py",
      "mimetype": "text/x-python",
      "name": "python",
      "nbconvert_exporter": "python",
      "pygments_lexer": "ipython3",
      "version": "3.6.6"
    }
  },
  "nbformat": 4,
  "nbformat_minor": 2
}