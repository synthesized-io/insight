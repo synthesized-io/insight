{
 "cells": [
  {
   "cell_type": "code",
   "execution_count": null,
   "metadata": {
    "pycharm": {
     "metadata": false,
     "name": "#%%\n"
    }
   },
   "outputs": [],
   "source": [
    "%matplotlib inline"
   ]
  },
  {
   "cell_type": "code",
   "execution_count": null,
   "metadata": {
    "pycharm": {}
   },
   "outputs": [],
   "source": [
    "! jt -t grade3 -nf opensans"
   ]
  },
  {
   "cell_type": "markdown",
   "metadata": {
    "pycharm": {}
   },
   "source": [
    "<h1><center>1. Load Data</center></h1>\n",
    "\n"
   ]
  },
  {
   "cell_type": "code",
   "execution_count": null,
   "metadata": {
    "pycharm": {}
   },
   "outputs": [],
   "source": [
    "import os\n",
    "import json\n",
    "import warnings\n",
    "import pandas as pd\n",
    "\n",
    "warnings.filterwarnings(action='ignore', message='numpy.dtype size changed')\n",
    "warnings.filterwarnings(action='ignore', message='compiletime version 3.5 of module')\n",
    "\n",
    "if not 'workbookDir' in globals():\n",
    "    workbookDir = os.getcwd()\n",
    "os.chdir(os.path.split(workbookDir)[0])\n",
    "\n",
    "%load_ext autoreload\n",
    "%autoreload 2\n",
    "%matplotlib inline"
   ]
  },
  {
   "cell_type": "code",
   "execution_count": null,
   "metadata": {
    "pycharm": {}
   },
   "outputs": [],
   "source": [
    "from synthesized.testing.evaluation import Evaluation\n",
    "from synthesized.testing import plotting as syn_plot\n",
    "#evaluation = Evaluation(config_path='configs/evaluation/dataset_evaluation.json', name='james') # use this line if you want to run this notbook manually\n",
    "evaluation_name = os.environ.get('EVALUATION_NAME', 'n/a')\n",
    "branch = os.environ.get('EVALUATION_BRANCH', 'n/a')\n",
    "revision = os.environ.get('EVALUATION_REVISION', 'n/a')\n",
    "evaluation = Evaluation(branch=branch, revision=revision, group=\"dataset_evaluation_timeseries\")\n",
    "\n",
    "config_path = os.environ.get('EVALUATION_CONFIG_PATH', 'n/a')\n",
    "with open(config_path, 'r') as f:\n",
    "    configs = json.load(f)\n",
    "    config = configs[\"instances\"][evaluation_name]\n",
    "    evaluation.record_config(evaluation=evaluation_name, config=config)\n",
    "        "
   ]
  },
  {
   "cell_type": "code",
   "execution_count": null,
   "metadata": {
    "pycharm": {}
   },
   "outputs": [],
   "source": [
    "data = pd.read_csv(evaluation.configs[evaluation_name]['data'])\n",
    "data = data.drop(evaluation.configs[evaluation_name]['ignore_columns'], axis=1)\n",
    "data.dropna(inplace=True)\n",
    "data.head(5)"
   ]
  },
  {
   "cell_type": "markdown",
   "metadata": {
    "pycharm": {}
   },
   "source": [
    "\n",
    "\n",
    "\n",
    "\n",
    "<h1><center>2. Train model and generate synthetic data</center></h1>"
   ]
  },
  {
   "cell_type": "code",
   "execution_count": null,
   "metadata": {
    "pycharm": {},
    "scrolled": true
   },
   "outputs": [],
   "source": [
    "from sklearn.model_selection import train_test_split"
   ]
  },
  {
   "cell_type": "code",
   "execution_count": null,
   "metadata": {
    "pycharm": {}
   },
   "outputs": [],
   "source": [
    "train, test = train_test_split(data, test_size=0.2, random_state=0)"
   ]
  },
  {
   "cell_type": "code",
   "execution_count": null,
   "metadata": {
    "pycharm": {},
    "scrolled": true
   },
   "outputs": [],
   "source": [
    "testing = syn_plot.synthesize_and_plot(data=data, name=evaluation_name, evaluation=evaluation, config=config, \n",
    "                                       metrics={}, test_data=test, plot_basic=False, plot_losses=True, \n",
    "                                       plot_distances=True, show_distribution_distances=True, \n",
    "                                       show_distributions=True, show_correlation_distances=True, \n",
    "                                       show_correlation_matrix=True, show_emd_distances=True,\n",
    "                                       show_acf_distances=True, show_transition_distances=True, show_series=True)"
   ]
  },
  {
   "cell_type": "code",
   "execution_count": null,
   "metadata": {
    "pycharm": {}
   },
   "outputs": [],
   "source": [
    "evaluation.write_metrics()"
   ]
  }
 ],
 "metadata": {
  "kernelspec": {
   "display_name": "synthesized",
   "language": "python",
   "name": "synthesized"
  },
  "language_info": {
   "codemirror_mode": {
    "name": "ipython",
    "version": 3
   },
   "file_extension": ".py",
   "mimetype": "text/x-python",
   "name": "python",
   "nbconvert_exporter": "python",
   "pygments_lexer": "ipython3",
   "version": "3.6.1"
  },
  "stem_cell": {
   "cell_type": "raw",
   "metadata": {
    "pycharm": {
     "metadata": false
    }
   },
   "source": ""
  }
 },
 "nbformat": 4,
 "nbformat_minor": 2
}
