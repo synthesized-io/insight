{
 "cells": [
  {
   "cell_type": "code",
   "execution_count": 1,
   "metadata": {},
   "outputs": [],
   "source": [
    "import os\n",
    "import warnings\n",
    "import pandas as pd\n",
    "\n",
    "warnings.filterwarnings(action='ignore', message='numpy.dtype size changed')\n",
    "warnings.filterwarnings(action='ignore', message='compiletime version 3.5 of module')\n",
    "\n",
    "if not 'workbookDir' in globals():\n",
    "    workbookDir = os.getcwd()\n",
    "os.chdir(os.path.split(workbookDir)[0])\n",
    "\n",
    "%load_ext autoreload\n",
    "%autoreload 2\n",
    "%matplotlib inline"
   ]
  },
  {
   "cell_type": "code",
   "execution_count": 2,
   "metadata": {},
   "outputs": [
    {
     "name": "stdout",
     "output_type": "stream",
     "text": [
      "Copyright (C) Synthesized Ltd. - All Rights Reserved\n",
      "License key: EE6B-6720-67A2-32F3-3139-2DF3-5D2D-B5F3\n",
      "Expires at: 2019-06-30 00:00:00\n"
     ]
    }
   ],
   "source": [
    "from synthesized.core import ScenarioSynthesizer"
   ]
  },
  {
   "cell_type": "code",
   "execution_count": 3,
   "metadata": {},
   "outputs": [],
   "source": [
    "import json"
   ]
  },
  {
   "cell_type": "code",
   "execution_count": 4,
   "metadata": {},
   "outputs": [],
   "source": [
    "with open('configs/scenarios/example.json', 'r') as f:\n",
    "    scenario = json.load(f)"
   ]
  },
  {
   "cell_type": "code",
   "execution_count": 5,
   "metadata": {},
   "outputs": [
    {
     "data": {
      "text/plain": [
       "{'values': {'value1': 'continuous',\n",
       "  'value2': 'continuous',\n",
       "  'value3': 'continuous'},\n",
       " 'functionals': [{'module': 'mean', 'output': 'value1', 'mean': 1.0},\n",
       "  {'module': 'mean', 'output': 'value2', 'mean': -1.0},\n",
       "  {'module': 'mean', 'output': 'value3', 'mean': 0.0},\n",
       "  {'module': 'variance', 'output': 'value1', 'variance': 0.2},\n",
       "  {'module': 'variance', 'output': 'value2', 'variance': 0.4},\n",
       "  {'module': 'variance', 'output': 'value3', 'variance': 0.1},\n",
       "  {'module': 'correlation',\n",
       "   'output1': 'value1',\n",
       "   'output2': 'value2',\n",
       "   'correlation': 0.7},\n",
       "  {'module': 'correlation_matrix',\n",
       "   'correlation_matrix': [[1.0, 0.7, 0.0], [0.7, 1.0, 0.2], [0.0, 0.2, 1.0]]}]}"
      ]
     },
     "execution_count": 5,
     "metadata": {},
     "output_type": "execute_result"
    }
   ],
   "source": [
    "scenario"
   ]
  },
  {
   "cell_type": "code",
   "execution_count": 6,
   "metadata": {},
   "outputs": [],
   "source": [
    "synthesizer = ScenarioSynthesizer(\n",
    "        values=scenario['values'], functionals=scenario['functionals']\n",
    ")"
   ]
  },
  {
   "cell_type": "code",
   "execution_count": 7,
   "metadata": {},
   "outputs": [
    {
     "name": "stdout",
     "output_type": "stream",
     "text": [
      "\n",
      "iteration: 1\n",
      "loss: total=2.74e+00 (mean-value1=1.0140020847320557, mean-value2=0.992668628692627, mean-value3=0.00030227741808630526, variance-value1=0.038972362875938416, variance-value2=0.15820464491844177, variance-value3=0.009667690843343735, correlation-value1-value2=0.41994062066078186, correlationmatrix=0.10893148183822632, regularization=1.6482686987728812e-05, loss=2.742706298828125)\n",
      "\n",
      "iteration: 500\n",
      "loss: total=1.18e-02 (mean-value1=6.963318810448982e-11, mean-value2=4.2116903387068305e-07, mean-value3=6.47771742023906e-07, variance-value1=2.782890987873543e-06, variance-value2=8.837430698349635e-08, variance-value3=0.009446959011256695, correlation-value1-value2=3.095648571616039e-05, correlationmatrix=0.0022470431867986917, regularization=7.01600220054388e-05, loss=0.011799058876931667)\n",
      "\n",
      "iteration: 1000\n",
      "loss: total=8.11e-03 (mean-value1=2.5056010599655565e-07, mean-value2=5.533365765586495e-07, mean-value3=9.392077338077343e-09, variance-value1=1.034631054608326e-06, variance-value2=8.891023753676564e-06, variance-value3=0.007999044843018055, correlation-value1-value2=4.6333212821991765e-09, correlationmatrix=3.003864549100399e-05, regularization=6.966386717977002e-05, loss=0.00810949131846428)\n",
      "\n",
      "iteration: 2000\n",
      "loss: total=5.04e-04 (mean-value1=3.2640796234773006e-06, mean-value2=9.008711458591279e-06, mean-value3=5.285082593786683e-09, variance-value1=8.562867878936231e-05, variance-value2=0.00023011286975815892, variance-value3=6.515772383863805e-07, correlation-value1-value2=4.895035090157762e-05, correlationmatrix=5.426138886832632e-05, regularization=7.235784869408235e-05, loss=0.0005042407428845763)\n",
      "\n",
      "iteration: 3000\n",
      "loss: total=1.51e-04 (mean-value1=3.882516921294155e-06, mean-value2=1.8406916524327244e-06, mean-value3=1.5313831909224973e-06, variance-value1=1.5302919109672075e-06, variance-value2=1.1278561942162924e-06, variance-value3=1.2763943004756584e-06, correlation-value1-value2=4.234621155774221e-05, correlationmatrix=2.52375248237513e-05, regularization=7.261170685524121e-05, loss=0.00015138457820285112)\n",
      "\n",
      "iteration: 4000\n",
      "loss: total=3.12e-04 (mean-value1=4.427000988016516e-08, mean-value2=1.5618265933881048e-06, mean-value3=1.8008402093983022e-06, variance-value1=3.454266698099673e-05, variance-value2=2.5051536795217544e-05, variance-value3=1.718360749691783e-06, correlation-value1-value2=8.610561053501442e-05, correlationmatrix=8.887825242709368e-05, regularization=7.24847341189161e-05, loss=0.00031218811636790633)\n",
      "\n",
      "iteration: 5000\n",
      "loss: total=1.97e-04 (mean-value1=8.947754395194352e-07, mean-value2=1.4429392081183323e-07, mean-value3=5.318038986956708e-08, variance-value1=1.2114461242163088e-05, variance-value2=1.4335131709231064e-05, variance-value3=2.4293632350236294e-07, correlation-value1-value2=2.9237320632091723e-05, correlationmatrix=6.781207775929943e-05, regularization=7.188126619439572e-05, loss=0.0001967154530575499)\n"
     ]
    }
   ],
   "source": [
    "with synthesizer:\n",
    "    synthesizer.learn(num_iterations=5000, num_samples=1024, verbose=1000)\n",
    "    synthesized = synthesizer.synthesize(n=1024)"
   ]
  },
  {
   "cell_type": "code",
   "execution_count": 8,
   "metadata": {},
   "outputs": [
    {
     "data": {
      "text/plain": [
       "{'values': {'value1': 'continuous',\n",
       "  'value2': 'continuous',\n",
       "  'value3': 'continuous'},\n",
       " 'functionals': [{'module': 'mean', 'output': 'value1', 'mean': 1.0},\n",
       "  {'module': 'mean', 'output': 'value2', 'mean': -1.0},\n",
       "  {'module': 'mean', 'output': 'value3', 'mean': 0.0},\n",
       "  {'module': 'variance', 'output': 'value1', 'variance': 0.2},\n",
       "  {'module': 'variance', 'output': 'value2', 'variance': 0.4},\n",
       "  {'module': 'variance', 'output': 'value3', 'variance': 0.1},\n",
       "  {'module': 'correlation',\n",
       "   'output1': 'value1',\n",
       "   'output2': 'value2',\n",
       "   'correlation': 0.7},\n",
       "  {'module': 'correlation_matrix',\n",
       "   'correlation_matrix': [[1.0, 0.7, 0.0], [0.7, 1.0, 0.2], [0.0, 0.2, 1.0]]}]}"
      ]
     },
     "execution_count": 8,
     "metadata": {},
     "output_type": "execute_result"
    }
   ],
   "source": [
    "scenario"
   ]
  },
  {
   "cell_type": "code",
   "execution_count": 9,
   "metadata": {},
   "outputs": [
    {
     "data": {
      "text/plain": [
       "1.0008487"
      ]
     },
     "execution_count": 9,
     "metadata": {},
     "output_type": "execute_result"
    }
   ],
   "source": [
    "synthesized['value1'].mean()"
   ]
  },
  {
   "cell_type": "code",
   "execution_count": 10,
   "metadata": {},
   "outputs": [
    {
     "data": {
      "text/plain": [
       "-0.9996329"
      ]
     },
     "execution_count": 10,
     "metadata": {},
     "output_type": "execute_result"
    }
   ],
   "source": [
    "synthesized['value2'].mean()"
   ]
  },
  {
   "cell_type": "code",
   "execution_count": 11,
   "metadata": {},
   "outputs": [
    {
     "data": {
      "text/plain": [
       "0.00019956357"
      ]
     },
     "execution_count": 11,
     "metadata": {},
     "output_type": "execute_result"
    }
   ],
   "source": [
    "synthesized['value3'].mean()"
   ]
  },
  {
   "cell_type": "code",
   "execution_count": 22,
   "metadata": {},
   "outputs": [
    {
     "data": {
      "text/plain": [
       "0.19950332934232407"
      ]
     },
     "execution_count": 22,
     "metadata": {},
     "output_type": "execute_result"
    }
   ],
   "source": [
    "synthesized['value1'].std()**2"
   ]
  },
  {
   "cell_type": "code",
   "execution_count": 23,
   "metadata": {},
   "outputs": [
    {
     "data": {
      "text/plain": [
       "0.3977266946005784"
      ]
     },
     "execution_count": 23,
     "metadata": {},
     "output_type": "execute_result"
    }
   ],
   "source": [
    "synthesized['value2'].std()**2"
   ]
  },
  {
   "cell_type": "code",
   "execution_count": 24,
   "metadata": {},
   "outputs": [
    {
     "data": {
      "text/plain": [
       "0.10006877032704953"
      ]
     },
     "execution_count": 24,
     "metadata": {},
     "output_type": "execute_result"
    }
   ],
   "source": [
    "synthesized['value3'].std()**2"
   ]
  },
  {
   "cell_type": "code",
   "execution_count": 15,
   "metadata": {},
   "outputs": [
    {
     "data": {
      "text/plain": [
       "0.7059985918008986"
      ]
     },
     "execution_count": 15,
     "metadata": {},
     "output_type": "execute_result"
    }
   ],
   "source": [
    "synthesized['value1'].corr(synthesized['value2'])"
   ]
  },
  {
   "cell_type": "code",
   "execution_count": 16,
   "metadata": {},
   "outputs": [
    {
     "data": {
      "text/html": [
       "<div>\n",
       "<style scoped>\n",
       "    .dataframe tbody tr th:only-of-type {\n",
       "        vertical-align: middle;\n",
       "    }\n",
       "\n",
       "    .dataframe tbody tr th {\n",
       "        vertical-align: top;\n",
       "    }\n",
       "\n",
       "    .dataframe thead th {\n",
       "        text-align: right;\n",
       "    }\n",
       "</style>\n",
       "<table border=\"1\" class=\"dataframe\">\n",
       "  <thead>\n",
       "    <tr style=\"text-align: right;\">\n",
       "      <th></th>\n",
       "      <th>value1</th>\n",
       "      <th>value2</th>\n",
       "      <th>value3</th>\n",
       "    </tr>\n",
       "  </thead>\n",
       "  <tbody>\n",
       "    <tr>\n",
       "      <th>value1</th>\n",
       "      <td>1.000000</td>\n",
       "      <td>0.705999</td>\n",
       "      <td>-0.000767</td>\n",
       "    </tr>\n",
       "    <tr>\n",
       "      <th>value2</th>\n",
       "      <td>0.705999</td>\n",
       "      <td>1.000000</td>\n",
       "      <td>0.206572</td>\n",
       "    </tr>\n",
       "    <tr>\n",
       "      <th>value3</th>\n",
       "      <td>-0.000767</td>\n",
       "      <td>0.206572</td>\n",
       "      <td>1.000000</td>\n",
       "    </tr>\n",
       "  </tbody>\n",
       "</table>\n",
       "</div>"
      ],
      "text/plain": [
       "          value1    value2    value3\n",
       "value1  1.000000  0.705999 -0.000767\n",
       "value2  0.705999  1.000000  0.206572\n",
       "value3 -0.000767  0.206572  1.000000"
      ]
     },
     "execution_count": 16,
     "metadata": {},
     "output_type": "execute_result"
    }
   ],
   "source": [
    "synthesized.corr()"
   ]
  },
  {
   "cell_type": "code",
   "execution_count": 17,
   "metadata": {},
   "outputs": [
    {
     "data": {
      "text/plain": [
       "array([[<matplotlib.axes._subplots.AxesSubplot object at 0x126f38a90>,\n",
       "        <matplotlib.axes._subplots.AxesSubplot object at 0x1058e7cf8>],\n",
       "       [<matplotlib.axes._subplots.AxesSubplot object at 0x10591a278>,\n",
       "        <matplotlib.axes._subplots.AxesSubplot object at 0x1130877f0>]],\n",
       "      dtype=object)"
      ]
     },
     "execution_count": 17,
     "metadata": {},
     "output_type": "execute_result"
    },
    {
     "data": {
      "image/png": "[encoded data removed]",
      "text/plain": [
       "<Figure size 720x360 with 4 Axes>"
      ]
     },
     "metadata": {
      "needs_background": "light"
     },
     "output_type": "display_data"
    }
   ],
   "source": [
    "synthesized.hist(bins=50, figsize=(10, 5))"
   ]
  },
  {
   "cell_type": "code",
   "execution_count": 18,
   "metadata": {},
   "outputs": [
    {
     "data": {
      "text/plain": [
       "<matplotlib.axes._subplots.AxesSubplot at 0x12b0a1c88>"
      ]
     },
     "execution_count": 18,
     "metadata": {},
     "output_type": "execute_result"
    },
    {
     "data": {
      "image/png": "[encoded data removed]",
      "text/plain": [
       "<Figure size 432x288 with 1 Axes>"
      ]
     },
     "metadata": {
      "needs_background": "light"
     },
     "output_type": "display_data"
    }
   ],
   "source": [
    "synthesized.plot.scatter('value1', 'value2')"
   ]
  },
  {
   "cell_type": "code",
   "execution_count": 19,
   "metadata": {},
   "outputs": [
    {
     "data": {
      "text/plain": [
       "<matplotlib.axes._subplots.AxesSubplot at 0x11302e7b8>"
      ]
     },
     "execution_count": 19,
     "metadata": {},
     "output_type": "execute_result"
    },
    {
     "data": {
      "image/png": "[encoded data removed]",
      "text/plain": [
       "<Figure size 432x288 with 1 Axes>"
      ]
     },
     "metadata": {
      "needs_background": "light"
     },
     "output_type": "display_data"
    }
   ],
   "source": [
    "synthesized.plot.scatter('value2', 'value3')"
   ]
  },
  {
   "cell_type": "code",
   "execution_count": 20,
   "metadata": {},
   "outputs": [
    {
     "data": {
      "text/plain": [
       "<matplotlib.axes._subplots.AxesSubplot at 0x104d6cd30>"
      ]
     },
     "execution_count": 20,
     "metadata": {},
     "output_type": "execute_result"
    },
    {
     "data": {
      "image/png": "[encoded data removed]",
      "text/plain": [
       "<Figure size 432x288 with 1 Axes>"
      ]
     },
     "metadata": {
      "needs_background": "light"
     },
     "output_type": "display_data"
    }
   ],
   "source": [
    "synthesized.plot.scatter('value1', 'value3')"
   ]
  }
 ],
 "metadata": {
  "kernelspec": {
   "display_name": "Python 3",
   "language": "python",
   "name": "python3"
  },
  "language_info": {
   "codemirror_mode": {
    "name": "ipython",
    "version": 3
   },
   "file_extension": ".py",
   "mimetype": "text/x-python",
   "name": "python",
   "nbconvert_exporter": "python",
   "pygments_lexer": "ipython3",
   "version": "3.7.0"
  }
 },
 "nbformat": 4,
 "nbformat_minor": 2
}
