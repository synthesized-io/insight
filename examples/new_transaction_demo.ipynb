{
 "cells": [
  {
   "cell_type": "code",
   "execution_count": 42,
   "metadata": {},
   "outputs": [],
   "source": [
    "import os\n",
    "if not 'workbookDir' in globals():\n",
    "    workbookDir = os.getcwd()\n",
    "os.chdir(os.path.split(workbookDir)[0])"
   ]
  },
  {
   "cell_type": "code",
   "execution_count": 43,
   "metadata": {},
   "outputs": [
    {
     "name": "stdout",
     "output_type": "stream",
     "text": [
      "The autoreload extension is already loaded. To reload it, use:\n",
      "  %reload_ext autoreload\n"
     ]
    }
   ],
   "source": [
    "%load_ext autoreload\n",
    "%autoreload 2\n",
    "%matplotlib inline"
   ]
  },
  {
   "cell_type": "markdown",
   "metadata": {},
   "source": [
    "# Synthetic data generation"
   ]
  },
  {
   "cell_type": "code",
   "execution_count": 44,
   "metadata": {},
   "outputs": [],
   "source": [
    "import warnings\n",
    "warnings.filterwarnings(action='ignore', message=\"numpy.dtype size changed\")"
   ]
  },
  {
   "cell_type": "code",
   "execution_count": 45,
   "metadata": {},
   "outputs": [],
   "source": [
    "import pandas as pd"
   ]
  },
  {
   "cell_type": "code",
   "execution_count": 46,
   "metadata": {},
   "outputs": [],
   "source": [
    "# choice: 'basic', 'id'\n",
    "synthesizer = 'id'"
   ]
  },
  {
   "cell_type": "markdown",
   "metadata": {},
   "source": [
    "## Load transactions"
   ]
  },
  {
   "cell_type": "code",
   "execution_count": 47,
   "metadata": {},
   "outputs": [
    {
     "data": {
      "text/html": [
       "<div>\n",
       "<style scoped>\n",
       "    .dataframe tbody tr th:only-of-type {\n",
       "        vertical-align: middle;\n",
       "    }\n",
       "\n",
       "    .dataframe tbody tr th {\n",
       "        vertical-align: top;\n",
       "    }\n",
       "\n",
       "    .dataframe thead th {\n",
       "        text-align: right;\n",
       "    }\n",
       "</style>\n",
       "<table border=\"1\" class=\"dataframe\">\n",
       "  <thead>\n",
       "    <tr style=\"text-align: right;\">\n",
       "      <th></th>\n",
       "      <th>Unnamed: 0</th>\n",
       "      <th>trans_id</th>\n",
       "      <th>account_id</th>\n",
       "      <th>date</th>\n",
       "      <th>type</th>\n",
       "      <th>operation</th>\n",
       "      <th>amount</th>\n",
       "      <th>balance</th>\n",
       "      <th>k_symbol</th>\n",
       "      <th>bank</th>\n",
       "      <th>account</th>\n",
       "      <th>mean_income</th>\n",
       "    </tr>\n",
       "  </thead>\n",
       "  <tbody>\n",
       "    <tr>\n",
       "      <th>0</th>\n",
       "      <td>0</td>\n",
       "      <td>695247</td>\n",
       "      <td>2378</td>\n",
       "      <td>1993-01-01</td>\n",
       "      <td>1</td>\n",
       "      <td>2.0</td>\n",
       "      <td>700.0</td>\n",
       "      <td>700.0</td>\n",
       "      <td>NaN</td>\n",
       "      <td>NaN</td>\n",
       "      <td>NaN</td>\n",
       "      <td>[ 11271.53754941]</td>\n",
       "    </tr>\n",
       "    <tr>\n",
       "      <th>1</th>\n",
       "      <td>1</td>\n",
       "      <td>695250</td>\n",
       "      <td>2378</td>\n",
       "      <td>1993-01-22</td>\n",
       "      <td>1</td>\n",
       "      <td>2.0</td>\n",
       "      <td>7268.0</td>\n",
       "      <td>7968.0</td>\n",
       "      <td>NaN</td>\n",
       "      <td>NaN</td>\n",
       "      <td>NaN</td>\n",
       "      <td>[ 11271.53754941]</td>\n",
       "    </tr>\n",
       "    <tr>\n",
       "      <th>2</th>\n",
       "      <td>2</td>\n",
       "      <td>695266</td>\n",
       "      <td>2378</td>\n",
       "      <td>1993-01-23</td>\n",
       "      <td>1</td>\n",
       "      <td>2.0</td>\n",
       "      <td>14440.0</td>\n",
       "      <td>22408.0</td>\n",
       "      <td>NaN</td>\n",
       "      <td>NaN</td>\n",
       "      <td>NaN</td>\n",
       "      <td>[ 11271.53754941]</td>\n",
       "    </tr>\n",
       "    <tr>\n",
       "      <th>3</th>\n",
       "      <td>3</td>\n",
       "      <td>695262</td>\n",
       "      <td>2378</td>\n",
       "      <td>1993-01-24</td>\n",
       "      <td>1</td>\n",
       "      <td>2.0</td>\n",
       "      <td>49752.0</td>\n",
       "      <td>72160.0</td>\n",
       "      <td>NaN</td>\n",
       "      <td>NaN</td>\n",
       "      <td>NaN</td>\n",
       "      <td>[ 11271.53754941]</td>\n",
       "    </tr>\n",
       "    <tr>\n",
       "      <th>4</th>\n",
       "      <td>4</td>\n",
       "      <td>695265</td>\n",
       "      <td>2378</td>\n",
       "      <td>1993-01-26</td>\n",
       "      <td>1</td>\n",
       "      <td>2.0</td>\n",
       "      <td>21899.0</td>\n",
       "      <td>94059.0</td>\n",
       "      <td>NaN</td>\n",
       "      <td>NaN</td>\n",
       "      <td>NaN</td>\n",
       "      <td>[ 11271.53754941]</td>\n",
       "    </tr>\n",
       "    <tr>\n",
       "      <th>5</th>\n",
       "      <td>5</td>\n",
       "      <td>695560</td>\n",
       "      <td>2378</td>\n",
       "      <td>1993-01-31</td>\n",
       "      <td>0</td>\n",
       "      <td>3.0</td>\n",
       "      <td>34700.0</td>\n",
       "      <td>59453.7</td>\n",
       "      <td>NaN</td>\n",
       "      <td>NaN</td>\n",
       "      <td>NaN</td>\n",
       "      <td>[ 11271.53754941]</td>\n",
       "    </tr>\n",
       "    <tr>\n",
       "      <th>6</th>\n",
       "      <td>6</td>\n",
       "      <td>3608592</td>\n",
       "      <td>2378</td>\n",
       "      <td>1993-01-31</td>\n",
       "      <td>1</td>\n",
       "      <td>NaN</td>\n",
       "      <td>94.7</td>\n",
       "      <td>94153.7</td>\n",
       "      <td>2</td>\n",
       "      <td>NaN</td>\n",
       "      <td>NaN</td>\n",
       "      <td>[ 11271.53754941]</td>\n",
       "    </tr>\n",
       "    <tr>\n",
       "      <th>7</th>\n",
       "      <td>7</td>\n",
       "      <td>695272</td>\n",
       "      <td>2378</td>\n",
       "      <td>1993-02-05</td>\n",
       "      <td>1</td>\n",
       "      <td>2.0</td>\n",
       "      <td>30192.0</td>\n",
       "      <td>89645.7</td>\n",
       "      <td>NaN</td>\n",
       "      <td>NaN</td>\n",
       "      <td>NaN</td>\n",
       "      <td>[ 11271.53754941]</td>\n",
       "    </tr>\n",
       "    <tr>\n",
       "      <th>8</th>\n",
       "      <td>8</td>\n",
       "      <td>695340</td>\n",
       "      <td>2378</td>\n",
       "      <td>1993-02-07</td>\n",
       "      <td>0</td>\n",
       "      <td>0.0</td>\n",
       "      <td>9612.0</td>\n",
       "      <td>80033.7</td>\n",
       "      <td>4</td>\n",
       "      <td>EF</td>\n",
       "      <td>1222903.0</td>\n",
       "      <td>[ 11271.53754941]</td>\n",
       "    </tr>\n",
       "    <tr>\n",
       "      <th>9</th>\n",
       "      <td>9</td>\n",
       "      <td>695270</td>\n",
       "      <td>2378</td>\n",
       "      <td>1993-02-11</td>\n",
       "      <td>1</td>\n",
       "      <td>2.0</td>\n",
       "      <td>31038.0</td>\n",
       "      <td>111071.7</td>\n",
       "      <td>NaN</td>\n",
       "      <td>NaN</td>\n",
       "      <td>NaN</td>\n",
       "      <td>[ 11271.53754941]</td>\n",
       "    </tr>\n",
       "  </tbody>\n",
       "</table>\n",
       "</div>"
      ],
      "text/plain": [
       "   Unnamed: 0  trans_id  account_id        date type  operation   amount  \\\n",
       "0           0    695247        2378  1993-01-01    1        2.0    700.0   \n",
       "1           1    695250        2378  1993-01-22    1        2.0   7268.0   \n",
       "2           2    695266        2378  1993-01-23    1        2.0  14440.0   \n",
       "3           3    695262        2378  1993-01-24    1        2.0  49752.0   \n",
       "4           4    695265        2378  1993-01-26    1        2.0  21899.0   \n",
       "5           5    695560        2378  1993-01-31    0        3.0  34700.0   \n",
       "6           6   3608592        2378  1993-01-31    1        NaN     94.7   \n",
       "7           7    695272        2378  1993-02-05    1        2.0  30192.0   \n",
       "8           8    695340        2378  1993-02-07    0        0.0   9612.0   \n",
       "9           9    695270        2378  1993-02-11    1        2.0  31038.0   \n",
       "\n",
       "    balance k_symbol bank    account        mean_income  \n",
       "0     700.0      NaN  NaN        NaN  [ 11271.53754941]  \n",
       "1    7968.0      NaN  NaN        NaN  [ 11271.53754941]  \n",
       "2   22408.0      NaN  NaN        NaN  [ 11271.53754941]  \n",
       "3   72160.0      NaN  NaN        NaN  [ 11271.53754941]  \n",
       "4   94059.0      NaN  NaN        NaN  [ 11271.53754941]  \n",
       "5   59453.7      NaN  NaN        NaN  [ 11271.53754941]  \n",
       "6   94153.7        2  NaN        NaN  [ 11271.53754941]  \n",
       "7   89645.7      NaN  NaN        NaN  [ 11271.53754941]  \n",
       "8   80033.7        4   EF  1222903.0  [ 11271.53754941]  \n",
       "9  111071.7      NaN  NaN        NaN  [ 11271.53754941]  "
      ]
     },
     "execution_count": 47,
     "metadata": {},
     "output_type": "execute_result"
    }
   ],
   "source": [
    "data = pd.read_csv('data/transactions.csv')\n",
    "data.head(10)"
   ]
  },
  {
   "cell_type": "markdown",
   "metadata": {},
   "source": [
    "## Clean dataset"
   ]
  },
  {
   "cell_type": "markdown",
   "metadata": {},
   "source": [
    "* Leave target columns only (so far: type, operation, amount)\n",
    "* Filter NaN values\n",
    "* Convert columns to appropriate type"
   ]
  },
  {
   "cell_type": "code",
   "execution_count": 48,
   "metadata": {},
   "outputs": [
    {
     "data": {
      "text/html": [
       "<div>\n",
       "<style scoped>\n",
       "    .dataframe tbody tr th:only-of-type {\n",
       "        vertical-align: middle;\n",
       "    }\n",
       "\n",
       "    .dataframe tbody tr th {\n",
       "        vertical-align: top;\n",
       "    }\n",
       "\n",
       "    .dataframe thead th {\n",
       "        text-align: right;\n",
       "    }\n",
       "</style>\n",
       "<table border=\"1\" class=\"dataframe\">\n",
       "  <thead>\n",
       "    <tr style=\"text-align: right;\">\n",
       "      <th></th>\n",
       "      <th>account_id</th>\n",
       "      <th>type</th>\n",
       "      <th>operation</th>\n",
       "      <th>amount</th>\n",
       "    </tr>\n",
       "  </thead>\n",
       "  <tbody>\n",
       "    <tr>\n",
       "      <th>0</th>\n",
       "      <td>0</td>\n",
       "      <td>1</td>\n",
       "      <td>2</td>\n",
       "      <td>700.0</td>\n",
       "    </tr>\n",
       "    <tr>\n",
       "      <th>1</th>\n",
       "      <td>0</td>\n",
       "      <td>1</td>\n",
       "      <td>2</td>\n",
       "      <td>7268.0</td>\n",
       "    </tr>\n",
       "    <tr>\n",
       "      <th>2</th>\n",
       "      <td>0</td>\n",
       "      <td>1</td>\n",
       "      <td>2</td>\n",
       "      <td>14440.0</td>\n",
       "    </tr>\n",
       "    <tr>\n",
       "      <th>3</th>\n",
       "      <td>0</td>\n",
       "      <td>1</td>\n",
       "      <td>2</td>\n",
       "      <td>49752.0</td>\n",
       "    </tr>\n",
       "    <tr>\n",
       "      <th>4</th>\n",
       "      <td>0</td>\n",
       "      <td>1</td>\n",
       "      <td>2</td>\n",
       "      <td>21899.0</td>\n",
       "    </tr>\n",
       "    <tr>\n",
       "      <th>5</th>\n",
       "      <td>0</td>\n",
       "      <td>0</td>\n",
       "      <td>3</td>\n",
       "      <td>34700.0</td>\n",
       "    </tr>\n",
       "    <tr>\n",
       "      <th>7</th>\n",
       "      <td>0</td>\n",
       "      <td>1</td>\n",
       "      <td>2</td>\n",
       "      <td>30192.0</td>\n",
       "    </tr>\n",
       "    <tr>\n",
       "      <th>8</th>\n",
       "      <td>0</td>\n",
       "      <td>0</td>\n",
       "      <td>0</td>\n",
       "      <td>9612.0</td>\n",
       "    </tr>\n",
       "    <tr>\n",
       "      <th>9</th>\n",
       "      <td>0</td>\n",
       "      <td>1</td>\n",
       "      <td>2</td>\n",
       "      <td>31038.0</td>\n",
       "    </tr>\n",
       "    <tr>\n",
       "      <th>10</th>\n",
       "      <td>0</td>\n",
       "      <td>0</td>\n",
       "      <td>3</td>\n",
       "      <td>25200.0</td>\n",
       "    </tr>\n",
       "  </tbody>\n",
       "</table>\n",
       "</div>"
      ],
      "text/plain": [
       "    account_id type operation   amount\n",
       "0            0    1         2    700.0\n",
       "1            0    1         2   7268.0\n",
       "2            0    1         2  14440.0\n",
       "3            0    1         2  49752.0\n",
       "4            0    1         2  21899.0\n",
       "5            0    0         3  34700.0\n",
       "7            0    1         2  30192.0\n",
       "8            0    0         0   9612.0\n",
       "9            0    1         2  31038.0\n",
       "10           0    0         3  25200.0"
      ]
     },
     "execution_count": 48,
     "metadata": {},
     "output_type": "execute_result"
    }
   ],
   "source": [
    "if synthesizer == 'id':\n",
    "    data = data[['account_id', 'type', 'operation', 'amount']]\n",
    "else:\n",
    "    data = data[['type', 'operation', 'amount']]\n",
    "data = data.dropna()\n",
    "data = data[data['type'] != 'VYBER']\n",
    "if synthesizer == 'id':\n",
    "    data['account_id'] = data['account_id'].astype(dtype='int32')\n",
    "    id_normalization = {x: n for n, x in enumerate(data['account_id'].unique())}\n",
    "    data['account_id'] = data['account_id'].map(arg=id_normalization)\n",
    "data['type'] = data['type'].astype(dtype='int')\n",
    "data['type'] = data['type'].astype(dtype='category')\n",
    "data['operation'] = data['operation'].astype(dtype='int')\n",
    "data['operation'] = data['operation'].astype(dtype='category')\n",
    "data['amount'] = data['amount'].astype(dtype='float32')\n",
    "data.head(10)"
   ]
  },
  {
   "cell_type": "code",
   "execution_count": 49,
   "metadata": {},
   "outputs": [],
   "source": [
    "from sklearn.model_selection import train_test_split"
   ]
  },
  {
   "cell_type": "code",
   "execution_count": 50,
   "metadata": {},
   "outputs": [],
   "source": [
    "data, test = train_test_split(data, test_size=0.2, random_state=42)"
   ]
  },
  {
   "cell_type": "markdown",
   "metadata": {},
   "source": [
    "## Train model and synthesized data"
   ]
  },
  {
   "cell_type": "code",
   "execution_count": 51,
   "metadata": {},
   "outputs": [],
   "source": [
    "if synthesizer == 'id':\n",
    "    from synthesized.core import IdSynthesizer\n",
    "    synthesizer = IdSynthesizer\n",
    "elif synthesizer == 'basic':\n",
    "    from synthesized.core import BasicSynthesizer\n",
    "    synthesizer = BasicSynthesizer"
   ]
  },
  {
   "cell_type": "code",
   "execution_count": 52,
   "metadata": {},
   "outputs": [
    {
     "name": "stdout",
     "output_type": "stream",
     "text": [
      "5000: 2.06e+08\n",
      "10000: 1.15e+08\n",
      "15000: 6.88e+07\n",
      "20000: 6.37e+07\n",
      "25000: 3.79e+07\n",
      "30000: 4.67e+06\n",
      "35000: 1.14e+06\n",
      "40000: 7.21e+06\n",
      "45000: 2.93e+06\n",
      "50000: 3.09e+06\n"
     ]
    }
   ],
   "source": [
    "with synthesizer(dtypes=data.dtypes) as synthesizer:\n",
    "    synthesizer.learn(data=data, verbose=5000)\n",
    "    synthesized = synthesizer.synthesize(n=10000)"
   ]
  },
  {
   "cell_type": "markdown",
   "metadata": {},
   "source": [
    "## Display synthesized data"
   ]
  },
  {
   "cell_type": "code",
   "execution_count": 53,
   "metadata": {},
   "outputs": [
    {
     "data": {
      "text/html": [
       "<div>\n",
       "<style scoped>\n",
       "    .dataframe tbody tr th:only-of-type {\n",
       "        vertical-align: middle;\n",
       "    }\n",
       "\n",
       "    .dataframe tbody tr th {\n",
       "        vertical-align: top;\n",
       "    }\n",
       "\n",
       "    .dataframe thead th {\n",
       "        text-align: right;\n",
       "    }\n",
       "</style>\n",
       "<table border=\"1\" class=\"dataframe\">\n",
       "  <thead>\n",
       "    <tr style=\"text-align: right;\">\n",
       "      <th></th>\n",
       "      <th>type</th>\n",
       "      <th>operation</th>\n",
       "      <th>amount</th>\n",
       "      <th>account_id</th>\n",
       "    </tr>\n",
       "  </thead>\n",
       "  <tbody>\n",
       "    <tr>\n",
       "      <th>0</th>\n",
       "      <td>0</td>\n",
       "      <td>3</td>\n",
       "      <td>2519.430908</td>\n",
       "      <td>1469</td>\n",
       "    </tr>\n",
       "    <tr>\n",
       "      <th>1</th>\n",
       "      <td>0</td>\n",
       "      <td>3</td>\n",
       "      <td>2092.680420</td>\n",
       "      <td>1863</td>\n",
       "    </tr>\n",
       "    <tr>\n",
       "      <th>2</th>\n",
       "      <td>0</td>\n",
       "      <td>2</td>\n",
       "      <td>13737.649414</td>\n",
       "      <td>1519</td>\n",
       "    </tr>\n",
       "    <tr>\n",
       "      <th>3</th>\n",
       "      <td>0</td>\n",
       "      <td>3</td>\n",
       "      <td>4462.277832</td>\n",
       "      <td>2745</td>\n",
       "    </tr>\n",
       "    <tr>\n",
       "      <th>4</th>\n",
       "      <td>0</td>\n",
       "      <td>3</td>\n",
       "      <td>18501.621094</td>\n",
       "      <td>3750</td>\n",
       "    </tr>\n",
       "    <tr>\n",
       "      <th>5</th>\n",
       "      <td>0</td>\n",
       "      <td>3</td>\n",
       "      <td>433.244904</td>\n",
       "      <td>456</td>\n",
       "    </tr>\n",
       "    <tr>\n",
       "      <th>6</th>\n",
       "      <td>0</td>\n",
       "      <td>2</td>\n",
       "      <td>10849.892578</td>\n",
       "      <td>2286</td>\n",
       "    </tr>\n",
       "    <tr>\n",
       "      <th>7</th>\n",
       "      <td>0</td>\n",
       "      <td>3</td>\n",
       "      <td>8897.331055</td>\n",
       "      <td>741</td>\n",
       "    </tr>\n",
       "    <tr>\n",
       "      <th>8</th>\n",
       "      <td>1</td>\n",
       "      <td>3</td>\n",
       "      <td>16785.232422</td>\n",
       "      <td>1003</td>\n",
       "    </tr>\n",
       "    <tr>\n",
       "      <th>9</th>\n",
       "      <td>0</td>\n",
       "      <td>3</td>\n",
       "      <td>581.039001</td>\n",
       "      <td>611</td>\n",
       "    </tr>\n",
       "  </tbody>\n",
       "</table>\n",
       "</div>"
      ],
      "text/plain": [
       "   type  operation        amount  account_id\n",
       "0     0          3   2519.430908        1469\n",
       "1     0          3   2092.680420        1863\n",
       "2     0          2  13737.649414        1519\n",
       "3     0          3   4462.277832        2745\n",
       "4     0          3  18501.621094        3750\n",
       "5     0          3    433.244904         456\n",
       "6     0          2  10849.892578        2286\n",
       "7     0          3   8897.331055         741\n",
       "8     1          3  16785.232422        1003\n",
       "9     0          3    581.039001         611"
      ]
     },
     "execution_count": 53,
     "metadata": {},
     "output_type": "execute_result"
    }
   ],
   "source": [
    "synthesized.head(10)"
   ]
  },
  {
   "cell_type": "markdown",
   "metadata": {},
   "source": [
    "# Visualization of original and synthetic data"
   ]
  },
  {
   "cell_type": "code",
   "execution_count": 54,
   "metadata": {
    "scrolled": true
   },
   "outputs": [
    {
     "data": {
      "text/plain": [
       "<matplotlib.axes._subplots.AxesSubplot at 0x11e0a6278>"
      ]
     },
     "execution_count": 54,
     "metadata": {},
     "output_type": "execute_result"
    },
    {
     "data": {
      "image/png": "[encoded data removed]",
      "text/plain": [
       "<Figure size 432x288 with 1 Axes>"
      ]
     },
     "metadata": {},
     "output_type": "display_data"
    }
   ],
   "source": [
    "data['type'].hist(bins=2, range=[0, 1])"
   ]
  },
  {
   "cell_type": "code",
   "execution_count": 55,
   "metadata": {},
   "outputs": [
    {
     "data": {
      "text/plain": [
       "<matplotlib.axes._subplots.AxesSubplot at 0x113c21e80>"
      ]
     },
     "execution_count": 55,
     "metadata": {},
     "output_type": "execute_result"
    },
    {
     "data": {
      "image/png": "[encoded data removed]",
      "text/plain": [
       "<Figure size 432x288 with 1 Axes>"
      ]
     },
     "metadata": {},
     "output_type": "display_data"
    }
   ],
   "source": [
    "synthesized['type'].hist(bins=2, range=[0, 1])"
   ]
  },
  {
   "cell_type": "code",
   "execution_count": 56,
   "metadata": {},
   "outputs": [
    {
     "data": {
      "text/plain": [
       "<matplotlib.axes._subplots.AxesSubplot at 0x11e0f18d0>"
      ]
     },
     "execution_count": 56,
     "metadata": {},
     "output_type": "execute_result"
    },
    {
     "data": {
      "image/png": "[encoded data removed]",
      "text/plain": [
       "<Figure size 432x288 with 1 Axes>"
      ]
     },
     "metadata": {},
     "output_type": "display_data"
    }
   ],
   "source": [
    "data['operation'].hist(bins=4, range=[0, 3])"
   ]
  },
  {
   "cell_type": "code",
   "execution_count": 57,
   "metadata": {},
   "outputs": [
    {
     "data": {
      "text/plain": [
       "<matplotlib.axes._subplots.AxesSubplot at 0x1132d5748>"
      ]
     },
     "execution_count": 57,
     "metadata": {},
     "output_type": "execute_result"
    },
    {
     "data": {
      "image/png": "[encoded data removed]",
      "text/plain": [
       "<Figure size 432x288 with 1 Axes>"
      ]
     },
     "metadata": {},
     "output_type": "display_data"
    }
   ],
   "source": [
    "synthesized['operation'].hist(bins=4, range=[0, 3])"
   ]
  },
  {
   "cell_type": "code",
   "execution_count": 58,
   "metadata": {},
   "outputs": [
    {
     "data": {
      "text/plain": [
       "<matplotlib.axes._subplots.AxesSubplot at 0x11e070550>"
      ]
     },
     "execution_count": 58,
     "metadata": {},
     "output_type": "execute_result"
    },
    {
     "data": {
      "image/png": "[encoded data removed]",
      "text/plain": [
       "<Figure size 432x288 with 1 Axes>"
      ]
     },
     "metadata": {},
     "output_type": "display_data"
    }
   ],
   "source": [
    "data['amount'].hist(bins=10, range=[0.0, 10000.0])"
   ]
  },
  {
   "cell_type": "code",
   "execution_count": 59,
   "metadata": {},
   "outputs": [
    {
     "data": {
      "text/plain": [
       "<matplotlib.axes._subplots.AxesSubplot at 0x113737d30>"
      ]
     },
     "execution_count": 59,
     "metadata": {},
     "output_type": "execute_result"
    },
    {
     "data": {
      "image/png": "[encoded data removed]",
      "text/plain": [
       "<Figure size 432x288 with 1 Axes>"
      ]
     },
     "metadata": {},
     "output_type": "display_data"
    }
   ],
   "source": [
    "synthesized['amount'].hist(bins=10, range=[0.0, 10000.0])"
   ]
  },
  {
   "cell_type": "markdown",
   "metadata": {},
   "source": [
    "# Tests to confirm the utility of synthetic data "
   ]
  },
  {
   "cell_type": "code",
   "execution_count": 71,
   "metadata": {},
   "outputs": [],
   "source": [
    "from synthesized.testing.testing_environment import Testing, ColumnType\n",
    "from sklearn.tree import DecisionTreeClassifier, DecisionTreeRegressor"
   ]
  },
  {
   "cell_type": "code",
   "execution_count": 72,
   "metadata": {},
   "outputs": [
    {
     "data": {
      "text/html": [
       "<div>\n",
       "<style scoped>\n",
       "    .dataframe tbody tr th:only-of-type {\n",
       "        vertical-align: middle;\n",
       "    }\n",
       "\n",
       "    .dataframe tbody tr th {\n",
       "        vertical-align: top;\n",
       "    }\n",
       "\n",
       "    .dataframe thead th {\n",
       "        text-align: right;\n",
       "    }\n",
       "</style>\n",
       "<table border=\"1\" class=\"dataframe\">\n",
       "  <thead>\n",
       "    <tr style=\"text-align: right;\">\n",
       "      <th></th>\n",
       "      <th>type</th>\n",
       "      <th>operation</th>\n",
       "      <th>amount</th>\n",
       "      <th>account_id</th>\n",
       "    </tr>\n",
       "  </thead>\n",
       "  <tbody>\n",
       "    <tr>\n",
       "      <th>0</th>\n",
       "      <td>0</td>\n",
       "      <td>3</td>\n",
       "      <td>2519.430908</td>\n",
       "      <td>1469</td>\n",
       "    </tr>\n",
       "    <tr>\n",
       "      <th>1</th>\n",
       "      <td>0</td>\n",
       "      <td>3</td>\n",
       "      <td>2092.680420</td>\n",
       "      <td>1863</td>\n",
       "    </tr>\n",
       "    <tr>\n",
       "      <th>2</th>\n",
       "      <td>0</td>\n",
       "      <td>2</td>\n",
       "      <td>13737.649414</td>\n",
       "      <td>1519</td>\n",
       "    </tr>\n",
       "    <tr>\n",
       "      <th>3</th>\n",
       "      <td>0</td>\n",
       "      <td>3</td>\n",
       "      <td>4462.277832</td>\n",
       "      <td>2745</td>\n",
       "    </tr>\n",
       "    <tr>\n",
       "      <th>4</th>\n",
       "      <td>0</td>\n",
       "      <td>3</td>\n",
       "      <td>18501.621094</td>\n",
       "      <td>3750</td>\n",
       "    </tr>\n",
       "  </tbody>\n",
       "</table>\n",
       "</div>"
      ],
      "text/plain": [
       "   type  operation        amount  account_id\n",
       "0     0          3   2519.430908        1469\n",
       "1     0          3   2092.680420        1863\n",
       "2     0          2  13737.649414        1519\n",
       "3     0          3   4462.277832        2745\n",
       "4     0          3  18501.621094        3750"
      ]
     },
     "execution_count": 72,
     "metadata": {},
     "output_type": "execute_result"
    }
   ],
   "source": [
    "synthesized.head(5)"
   ]
  },
  {
   "cell_type": "code",
   "execution_count": 73,
   "metadata": {},
   "outputs": [],
   "source": [
    "testing = Testing(data, test, synthesized, schema={\n",
    "    'type': ColumnType.CATEGORICAL,\n",
    "    'operation': ColumnType.CATEGORICAL,\n",
    "    'amount': ColumnType.CONTINUOUS,\n",
    "})"
   ]
  },
  {
   "cell_type": "code",
   "execution_count": 74,
   "metadata": {},
   "outputs": [
    {
     "data": {
      "text/html": [
       "<div>\n",
       "<style scoped>\n",
       "    .dataframe tbody tr th:only-of-type {\n",
       "        vertical-align: middle;\n",
       "    }\n",
       "\n",
       "    .dataframe tbody tr th {\n",
       "        vertical-align: top;\n",
       "    }\n",
       "\n",
       "    .dataframe thead th {\n",
       "        text-align: right;\n",
       "    }\n",
       "</style>\n",
       "<table border=\"1\" class=\"dataframe\">\n",
       "  <thead>\n",
       "    <tr style=\"text-align: right;\">\n",
       "      <th></th>\n",
       "      <th>target_column</th>\n",
       "      <th>estimator</th>\n",
       "      <th>dummy_original_score</th>\n",
       "      <th>original_score</th>\n",
       "      <th>synth_score</th>\n",
       "      <th>orig_error</th>\n",
       "      <th>synth_error</th>\n",
       "      <th>score_utility</th>\n",
       "      <th>error_utility</th>\n",
       "    </tr>\n",
       "  </thead>\n",
       "  <tbody>\n",
       "    <tr>\n",
       "      <th>0</th>\n",
       "      <td>amount</td>\n",
       "      <td>DecisionTreeRegressor</td>\n",
       "      <td>0.000000</td>\n",
       "      <td>0.199508</td>\n",
       "      <td>0.187276</td>\n",
       "      <td>8.100601e+07</td>\n",
       "      <td>8.224385e+07</td>\n",
       "      <td>0.938688</td>\n",
       "      <td>0.984949</td>\n",
       "    </tr>\n",
       "    <tr>\n",
       "      <th>1</th>\n",
       "      <td>amount (categorical reduction)</td>\n",
       "      <td>DecisionTreeClassifier</td>\n",
       "      <td>0.757379</td>\n",
       "      <td>0.757379</td>\n",
       "      <td>0.687750</td>\n",
       "      <td>1.361495e+00</td>\n",
       "      <td>1.011126e+00</td>\n",
       "      <td>NaN</td>\n",
       "      <td>1.346514</td>\n",
       "    </tr>\n",
       "    <tr>\n",
       "      <th>2</th>\n",
       "      <td>operation</td>\n",
       "      <td>DecisionTreeClassifier</td>\n",
       "      <td>0.489277</td>\n",
       "      <td>0.976423</td>\n",
       "      <td>0.568210</td>\n",
       "      <td>8.923693e-02</td>\n",
       "      <td>2.525691e+00</td>\n",
       "      <td>0.162033</td>\n",
       "      <td>0.035332</td>\n",
       "    </tr>\n",
       "    <tr>\n",
       "      <th>3</th>\n",
       "      <td>type</td>\n",
       "      <td>DecisionTreeClassifier</td>\n",
       "      <td>0.741921</td>\n",
       "      <td>1.000000</td>\n",
       "      <td>0.827854</td>\n",
       "      <td>0.000000e+00</td>\n",
       "      <td>1.717608e-01</td>\n",
       "      <td>0.332971</td>\n",
       "      <td>0.000000</td>\n",
       "    </tr>\n",
       "  </tbody>\n",
       "</table>\n",
       "</div>"
      ],
      "text/plain": [
       "                    target_column               estimator  \\\n",
       "0                          amount   DecisionTreeRegressor   \n",
       "1  amount (categorical reduction)  DecisionTreeClassifier   \n",
       "2                       operation  DecisionTreeClassifier   \n",
       "3                            type  DecisionTreeClassifier   \n",
       "\n",
       "   dummy_original_score  original_score  synth_score    orig_error  \\\n",
       "0              0.000000        0.199508     0.187276  8.100601e+07   \n",
       "1              0.757379        0.757379     0.687750  1.361495e+00   \n",
       "2              0.489277        0.976423     0.568210  8.923693e-02   \n",
       "3              0.741921        1.000000     0.827854  0.000000e+00   \n",
       "\n",
       "    synth_error  score_utility  error_utility  \n",
       "0  8.224385e+07       0.938688       0.984949  \n",
       "1  1.011126e+00            NaN       1.346514  \n",
       "2  2.525691e+00       0.162033       0.035332  \n",
       "3  1.717608e-01       0.332971       0.000000  "
      ]
     },
     "execution_count": 74,
     "metadata": {},
     "output_type": "execute_result"
    }
   ],
   "source": [
    "testing.estimate_utility(classifier=DecisionTreeClassifier(), regressor=DecisionTreeRegressor())"
   ]
  },
  {
   "cell_type": "code",
   "execution_count": 75,
   "metadata": {},
   "outputs": [
    {
     "data": {
      "text/html": [
       "<div>\n",
       "<style scoped>\n",
       "    .dataframe tbody tr th:only-of-type {\n",
       "        vertical-align: middle;\n",
       "    }\n",
       "\n",
       "    .dataframe tbody tr th {\n",
       "        vertical-align: top;\n",
       "    }\n",
       "\n",
       "    .dataframe thead th {\n",
       "        text-align: right;\n",
       "    }\n",
       "</style>\n",
       "<table border=\"1\" class=\"dataframe\">\n",
       "  <thead>\n",
       "    <tr style=\"text-align: right;\">\n",
       "      <th></th>\n",
       "      <th>amount</th>\n",
       "      <th>operation EMD</th>\n",
       "    </tr>\n",
       "  </thead>\n",
       "  <tbody>\n",
       "    <tr>\n",
       "      <th>0</th>\n",
       "      <td>[0.0, 21825.0)</td>\n",
       "      <td>0.163693</td>\n",
       "    </tr>\n",
       "    <tr>\n",
       "      <th>1</th>\n",
       "      <td>[21825.0, 43650.0)</td>\n",
       "      <td>0.284190</td>\n",
       "    </tr>\n",
       "    <tr>\n",
       "      <th>2</th>\n",
       "      <td>[43650.0, 65475.0)</td>\n",
       "      <td>0.580544</td>\n",
       "    </tr>\n",
       "    <tr>\n",
       "      <th>3</th>\n",
       "      <td>[65475.0, 87300.0)</td>\n",
       "      <td>inf</td>\n",
       "    </tr>\n",
       "  </tbody>\n",
       "</table>\n",
       "</div>"
      ],
      "text/plain": [
       "               amount  operation EMD\n",
       "0      [0.0, 21825.0)       0.163693\n",
       "1  [21825.0, 43650.0)       0.284190\n",
       "2  [43650.0, 65475.0)       0.580544\n",
       "3  [65475.0, 87300.0)            inf"
      ]
     },
     "execution_count": 75,
     "metadata": {},
     "output_type": "execute_result"
    }
   ],
   "source": [
    "testing.compare_marginal_distributions(target_column='operation', conditional_column='amount')"
   ]
  },
  {
   "cell_type": "code",
   "execution_count": 76,
   "metadata": {},
   "outputs": [
    {
     "data": {
      "text/html": [
       "<div>\n",
       "<style scoped>\n",
       "    .dataframe tbody tr th:only-of-type {\n",
       "        vertical-align: middle;\n",
       "    }\n",
       "\n",
       "    .dataframe tbody tr th {\n",
       "        vertical-align: top;\n",
       "    }\n",
       "\n",
       "    .dataframe thead th {\n",
       "        text-align: right;\n",
       "    }\n",
       "</style>\n",
       "<table border=\"1\" class=\"dataframe\">\n",
       "  <thead>\n",
       "    <tr style=\"text-align: right;\">\n",
       "      <th></th>\n",
       "      <th>amount</th>\n",
       "      <th>type EMD</th>\n",
       "    </tr>\n",
       "  </thead>\n",
       "  <tbody>\n",
       "    <tr>\n",
       "      <th>0</th>\n",
       "      <td>[0.0, 8730.0)</td>\n",
       "      <td>0.122571</td>\n",
       "    </tr>\n",
       "    <tr>\n",
       "      <th>1</th>\n",
       "      <td>[8730.0, 17460.0)</td>\n",
       "      <td>0.101048</td>\n",
       "    </tr>\n",
       "    <tr>\n",
       "      <th>2</th>\n",
       "      <td>[17460.0, 26190.0)</td>\n",
       "      <td>0.010739</td>\n",
       "    </tr>\n",
       "    <tr>\n",
       "      <th>3</th>\n",
       "      <td>[26190.0, 34920.0)</td>\n",
       "      <td>0.159906</td>\n",
       "    </tr>\n",
       "    <tr>\n",
       "      <th>4</th>\n",
       "      <td>[34920.0, 43650.0)</td>\n",
       "      <td>0.043694</td>\n",
       "    </tr>\n",
       "    <tr>\n",
       "      <th>5</th>\n",
       "      <td>[43650.0, 52380.0)</td>\n",
       "      <td>0.192293</td>\n",
       "    </tr>\n",
       "    <tr>\n",
       "      <th>6</th>\n",
       "      <td>[52380.0, 61110.0)</td>\n",
       "      <td>inf</td>\n",
       "    </tr>\n",
       "    <tr>\n",
       "      <th>7</th>\n",
       "      <td>[61110.0, 69840.0)</td>\n",
       "      <td>inf</td>\n",
       "    </tr>\n",
       "    <tr>\n",
       "      <th>8</th>\n",
       "      <td>[69840.0, 78570.0)</td>\n",
       "      <td>inf</td>\n",
       "    </tr>\n",
       "    <tr>\n",
       "      <th>9</th>\n",
       "      <td>[78570.0, 87300.0)</td>\n",
       "      <td>inf</td>\n",
       "    </tr>\n",
       "  </tbody>\n",
       "</table>\n",
       "</div>"
      ],
      "text/plain": [
       "               amount  type EMD\n",
       "0       [0.0, 8730.0)  0.122571\n",
       "1   [8730.0, 17460.0)  0.101048\n",
       "2  [17460.0, 26190.0)  0.010739\n",
       "3  [26190.0, 34920.0)  0.159906\n",
       "4  [34920.0, 43650.0)  0.043694\n",
       "5  [43650.0, 52380.0)  0.192293\n",
       "6  [52380.0, 61110.0)       inf\n",
       "7  [61110.0, 69840.0)       inf\n",
       "8  [69840.0, 78570.0)       inf\n",
       "9  [78570.0, 87300.0)       inf"
      ]
     },
     "execution_count": 76,
     "metadata": {},
     "output_type": "execute_result"
    }
   ],
   "source": [
    "testing.compare_marginal_distributions(target_column='type', conditional_column='amount', bins=10)"
   ]
  },
  {
   "cell_type": "code",
   "execution_count": null,
   "metadata": {},
   "outputs": [],
   "source": []
  }
 ],
 "metadata": {
  "kernelspec": {
   "display_name": "Python 3",
   "language": "python",
   "name": "python3"
  },
  "language_info": {
   "codemirror_mode": {
    "name": "ipython",
    "version": 3
   },
   "file_extension": ".py",
   "mimetype": "text/x-python",
   "name": "python",
   "nbconvert_exporter": "python",
   "pygments_lexer": "ipython3",
   "version": "3.6.6"
  }
 },
 "nbformat": 4,
 "nbformat_minor": 2
}
