{
 "cells": [
  {
   "cell_type": "markdown",
   "metadata": {},
   "source": [
    "# Synthetic data generation"
   ]
  },
  {
   "cell_type": "code",
   "execution_count": 1,
   "metadata": {},
   "outputs": [],
   "source": [
    "import warnings\n",
    "warnings.filterwarnings(action='ignore', message=\"numpy.dtype size changed\")"
   ]
  },
  {
   "cell_type": "code",
   "execution_count": 2,
   "metadata": {},
   "outputs": [],
   "source": [
    "import pandas as pd"
   ]
  },
  {
   "cell_type": "code",
   "execution_count": 3,
   "metadata": {},
   "outputs": [],
   "source": [
    "# choice: 'basic', 'id'\n",
    "synthesizer = 'id'"
   ]
  },
  {
   "cell_type": "markdown",
   "metadata": {},
   "source": [
    "## Load transactions"
   ]
  },
  {
   "cell_type": "code",
   "execution_count": 4,
   "metadata": {},
   "outputs": [
    {
     "data": {
      "text/html": [
       "<div>\n",
       "<style scoped>\n",
       "    .dataframe tbody tr th:only-of-type {\n",
       "        vertical-align: middle;\n",
       "    }\n",
       "\n",
       "    .dataframe tbody tr th {\n",
       "        vertical-align: top;\n",
       "    }\n",
       "\n",
       "    .dataframe thead th {\n",
       "        text-align: right;\n",
       "    }\n",
       "</style>\n",
       "<table border=\"1\" class=\"dataframe\">\n",
       "  <thead>\n",
       "    <tr style=\"text-align: right;\">\n",
       "      <th></th>\n",
       "      <th>Unnamed: 0</th>\n",
       "      <th>trans_id</th>\n",
       "      <th>account_id</th>\n",
       "      <th>date</th>\n",
       "      <th>type</th>\n",
       "      <th>operation</th>\n",
       "      <th>amount</th>\n",
       "      <th>balance</th>\n",
       "      <th>k_symbol</th>\n",
       "      <th>bank</th>\n",
       "      <th>account</th>\n",
       "      <th>mean_income</th>\n",
       "    </tr>\n",
       "  </thead>\n",
       "  <tbody>\n",
       "    <tr>\n",
       "      <th>0</th>\n",
       "      <td>0</td>\n",
       "      <td>695247</td>\n",
       "      <td>2378</td>\n",
       "      <td>1993-01-01</td>\n",
       "      <td>1</td>\n",
       "      <td>2.0</td>\n",
       "      <td>700.0</td>\n",
       "      <td>700.0</td>\n",
       "      <td>NaN</td>\n",
       "      <td>NaN</td>\n",
       "      <td>NaN</td>\n",
       "      <td>[ 11271.53754941]</td>\n",
       "    </tr>\n",
       "    <tr>\n",
       "      <th>1</th>\n",
       "      <td>1</td>\n",
       "      <td>695250</td>\n",
       "      <td>2378</td>\n",
       "      <td>1993-01-22</td>\n",
       "      <td>1</td>\n",
       "      <td>2.0</td>\n",
       "      <td>7268.0</td>\n",
       "      <td>7968.0</td>\n",
       "      <td>NaN</td>\n",
       "      <td>NaN</td>\n",
       "      <td>NaN</td>\n",
       "      <td>[ 11271.53754941]</td>\n",
       "    </tr>\n",
       "    <tr>\n",
       "      <th>2</th>\n",
       "      <td>2</td>\n",
       "      <td>695266</td>\n",
       "      <td>2378</td>\n",
       "      <td>1993-01-23</td>\n",
       "      <td>1</td>\n",
       "      <td>2.0</td>\n",
       "      <td>14440.0</td>\n",
       "      <td>22408.0</td>\n",
       "      <td>NaN</td>\n",
       "      <td>NaN</td>\n",
       "      <td>NaN</td>\n",
       "      <td>[ 11271.53754941]</td>\n",
       "    </tr>\n",
       "    <tr>\n",
       "      <th>3</th>\n",
       "      <td>3</td>\n",
       "      <td>695262</td>\n",
       "      <td>2378</td>\n",
       "      <td>1993-01-24</td>\n",
       "      <td>1</td>\n",
       "      <td>2.0</td>\n",
       "      <td>49752.0</td>\n",
       "      <td>72160.0</td>\n",
       "      <td>NaN</td>\n",
       "      <td>NaN</td>\n",
       "      <td>NaN</td>\n",
       "      <td>[ 11271.53754941]</td>\n",
       "    </tr>\n",
       "    <tr>\n",
       "      <th>4</th>\n",
       "      <td>4</td>\n",
       "      <td>695265</td>\n",
       "      <td>2378</td>\n",
       "      <td>1993-01-26</td>\n",
       "      <td>1</td>\n",
       "      <td>2.0</td>\n",
       "      <td>21899.0</td>\n",
       "      <td>94059.0</td>\n",
       "      <td>NaN</td>\n",
       "      <td>NaN</td>\n",
       "      <td>NaN</td>\n",
       "      <td>[ 11271.53754941]</td>\n",
       "    </tr>\n",
       "    <tr>\n",
       "      <th>5</th>\n",
       "      <td>5</td>\n",
       "      <td>695560</td>\n",
       "      <td>2378</td>\n",
       "      <td>1993-01-31</td>\n",
       "      <td>0</td>\n",
       "      <td>3.0</td>\n",
       "      <td>34700.0</td>\n",
       "      <td>59453.7</td>\n",
       "      <td>NaN</td>\n",
       "      <td>NaN</td>\n",
       "      <td>NaN</td>\n",
       "      <td>[ 11271.53754941]</td>\n",
       "    </tr>\n",
       "    <tr>\n",
       "      <th>6</th>\n",
       "      <td>6</td>\n",
       "      <td>3608592</td>\n",
       "      <td>2378</td>\n",
       "      <td>1993-01-31</td>\n",
       "      <td>1</td>\n",
       "      <td>NaN</td>\n",
       "      <td>94.7</td>\n",
       "      <td>94153.7</td>\n",
       "      <td>2</td>\n",
       "      <td>NaN</td>\n",
       "      <td>NaN</td>\n",
       "      <td>[ 11271.53754941]</td>\n",
       "    </tr>\n",
       "    <tr>\n",
       "      <th>7</th>\n",
       "      <td>7</td>\n",
       "      <td>695272</td>\n",
       "      <td>2378</td>\n",
       "      <td>1993-02-05</td>\n",
       "      <td>1</td>\n",
       "      <td>2.0</td>\n",
       "      <td>30192.0</td>\n",
       "      <td>89645.7</td>\n",
       "      <td>NaN</td>\n",
       "      <td>NaN</td>\n",
       "      <td>NaN</td>\n",
       "      <td>[ 11271.53754941]</td>\n",
       "    </tr>\n",
       "    <tr>\n",
       "      <th>8</th>\n",
       "      <td>8</td>\n",
       "      <td>695340</td>\n",
       "      <td>2378</td>\n",
       "      <td>1993-02-07</td>\n",
       "      <td>0</td>\n",
       "      <td>0.0</td>\n",
       "      <td>9612.0</td>\n",
       "      <td>80033.7</td>\n",
       "      <td>4</td>\n",
       "      <td>EF</td>\n",
       "      <td>1222903.0</td>\n",
       "      <td>[ 11271.53754941]</td>\n",
       "    </tr>\n",
       "    <tr>\n",
       "      <th>9</th>\n",
       "      <td>9</td>\n",
       "      <td>695270</td>\n",
       "      <td>2378</td>\n",
       "      <td>1993-02-11</td>\n",
       "      <td>1</td>\n",
       "      <td>2.0</td>\n",
       "      <td>31038.0</td>\n",
       "      <td>111071.7</td>\n",
       "      <td>NaN</td>\n",
       "      <td>NaN</td>\n",
       "      <td>NaN</td>\n",
       "      <td>[ 11271.53754941]</td>\n",
       "    </tr>\n",
       "  </tbody>\n",
       "</table>\n",
       "</div>"
      ],
      "text/plain": [
       "   Unnamed: 0  trans_id  account_id        date type  operation   amount  \\\n",
       "0           0    695247        2378  1993-01-01    1        2.0    700.0   \n",
       "1           1    695250        2378  1993-01-22    1        2.0   7268.0   \n",
       "2           2    695266        2378  1993-01-23    1        2.0  14440.0   \n",
       "3           3    695262        2378  1993-01-24    1        2.0  49752.0   \n",
       "4           4    695265        2378  1993-01-26    1        2.0  21899.0   \n",
       "5           5    695560        2378  1993-01-31    0        3.0  34700.0   \n",
       "6           6   3608592        2378  1993-01-31    1        NaN     94.7   \n",
       "7           7    695272        2378  1993-02-05    1        2.0  30192.0   \n",
       "8           8    695340        2378  1993-02-07    0        0.0   9612.0   \n",
       "9           9    695270        2378  1993-02-11    1        2.0  31038.0   \n",
       "\n",
       "    balance k_symbol bank    account        mean_income  \n",
       "0     700.0      NaN  NaN        NaN  [ 11271.53754941]  \n",
       "1    7968.0      NaN  NaN        NaN  [ 11271.53754941]  \n",
       "2   22408.0      NaN  NaN        NaN  [ 11271.53754941]  \n",
       "3   72160.0      NaN  NaN        NaN  [ 11271.53754941]  \n",
       "4   94059.0      NaN  NaN        NaN  [ 11271.53754941]  \n",
       "5   59453.7      NaN  NaN        NaN  [ 11271.53754941]  \n",
       "6   94153.7        2  NaN        NaN  [ 11271.53754941]  \n",
       "7   89645.7      NaN  NaN        NaN  [ 11271.53754941]  \n",
       "8   80033.7        4   EF  1222903.0  [ 11271.53754941]  \n",
       "9  111071.7      NaN  NaN        NaN  [ 11271.53754941]  "
      ]
     },
     "execution_count": 4,
     "metadata": {},
     "output_type": "execute_result"
    }
   ],
   "source": [
    "data = pd.read_csv('../data/transactions.csv')\n",
    "data.head(10)"
   ]
  },
  {
   "cell_type": "markdown",
   "metadata": {},
   "source": [
    "## Clean dataset"
   ]
  },
  {
   "cell_type": "markdown",
   "metadata": {},
   "source": [
    "* Leave target columns only (so far: type, operation, amount)\n",
    "* Filter NaN values\n",
    "* Convert columns to appropriate type"
   ]
  },
  {
   "cell_type": "code",
   "execution_count": 5,
   "metadata": {},
   "outputs": [
    {
     "data": {
      "text/html": [
       "<div>\n",
       "<style scoped>\n",
       "    .dataframe tbody tr th:only-of-type {\n",
       "        vertical-align: middle;\n",
       "    }\n",
       "\n",
       "    .dataframe tbody tr th {\n",
       "        vertical-align: top;\n",
       "    }\n",
       "\n",
       "    .dataframe thead th {\n",
       "        text-align: right;\n",
       "    }\n",
       "</style>\n",
       "<table border=\"1\" class=\"dataframe\">\n",
       "  <thead>\n",
       "    <tr style=\"text-align: right;\">\n",
       "      <th></th>\n",
       "      <th>account_id</th>\n",
       "      <th>type</th>\n",
       "      <th>operation</th>\n",
       "      <th>amount</th>\n",
       "    </tr>\n",
       "  </thead>\n",
       "  <tbody>\n",
       "    <tr>\n",
       "      <th>0</th>\n",
       "      <td>0</td>\n",
       "      <td>1</td>\n",
       "      <td>2</td>\n",
       "      <td>700.0</td>\n",
       "    </tr>\n",
       "    <tr>\n",
       "      <th>1</th>\n",
       "      <td>0</td>\n",
       "      <td>1</td>\n",
       "      <td>2</td>\n",
       "      <td>7268.0</td>\n",
       "    </tr>\n",
       "    <tr>\n",
       "      <th>2</th>\n",
       "      <td>0</td>\n",
       "      <td>1</td>\n",
       "      <td>2</td>\n",
       "      <td>14440.0</td>\n",
       "    </tr>\n",
       "    <tr>\n",
       "      <th>3</th>\n",
       "      <td>0</td>\n",
       "      <td>1</td>\n",
       "      <td>2</td>\n",
       "      <td>49752.0</td>\n",
       "    </tr>\n",
       "    <tr>\n",
       "      <th>4</th>\n",
       "      <td>0</td>\n",
       "      <td>1</td>\n",
       "      <td>2</td>\n",
       "      <td>21899.0</td>\n",
       "    </tr>\n",
       "    <tr>\n",
       "      <th>5</th>\n",
       "      <td>0</td>\n",
       "      <td>0</td>\n",
       "      <td>3</td>\n",
       "      <td>34700.0</td>\n",
       "    </tr>\n",
       "    <tr>\n",
       "      <th>7</th>\n",
       "      <td>0</td>\n",
       "      <td>1</td>\n",
       "      <td>2</td>\n",
       "      <td>30192.0</td>\n",
       "    </tr>\n",
       "    <tr>\n",
       "      <th>8</th>\n",
       "      <td>0</td>\n",
       "      <td>0</td>\n",
       "      <td>0</td>\n",
       "      <td>9612.0</td>\n",
       "    </tr>\n",
       "    <tr>\n",
       "      <th>9</th>\n",
       "      <td>0</td>\n",
       "      <td>1</td>\n",
       "      <td>2</td>\n",
       "      <td>31038.0</td>\n",
       "    </tr>\n",
       "    <tr>\n",
       "      <th>10</th>\n",
       "      <td>0</td>\n",
       "      <td>0</td>\n",
       "      <td>3</td>\n",
       "      <td>25200.0</td>\n",
       "    </tr>\n",
       "  </tbody>\n",
       "</table>\n",
       "</div>"
      ],
      "text/plain": [
       "    account_id type operation   amount\n",
       "0            0    1         2    700.0\n",
       "1            0    1         2   7268.0\n",
       "2            0    1         2  14440.0\n",
       "3            0    1         2  49752.0\n",
       "4            0    1         2  21899.0\n",
       "5            0    0         3  34700.0\n",
       "7            0    1         2  30192.0\n",
       "8            0    0         0   9612.0\n",
       "9            0    1         2  31038.0\n",
       "10           0    0         3  25200.0"
      ]
     },
     "execution_count": 5,
     "metadata": {},
     "output_type": "execute_result"
    }
   ],
   "source": [
    "if synthesizer == 'id':\n",
    "    data = data[['account_id', 'type', 'operation', 'amount']]\n",
    "else:\n",
    "    data = data[['type', 'operation', 'amount']]\n",
    "data = data.dropna()\n",
    "data = data[data['type'] != 'VYBER']\n",
    "if synthesizer == 'id':\n",
    "    data['account_id'] = data['account_id'].astype(dtype='int32')\n",
    "    id_normalization = {x: n for n, x in enumerate(data['account_id'].unique())}\n",
    "    data['account_id'] = data['account_id'].map(arg=id_normalization)\n",
    "data['type'] = data['type'].astype(dtype='int')\n",
    "data['type'] = data['type'].astype(dtype='category')\n",
    "data['operation'] = data['operation'].astype(dtype='int')\n",
    "data['operation'] = data['operation'].astype(dtype='category')\n",
    "data['amount'] = data['amount'].astype(dtype='float32')\n",
    "data.head(10)"
   ]
  },
  {
   "cell_type": "markdown",
   "metadata": {},
   "source": [
    "## Train model and synthesized data"
   ]
  },
  {
   "cell_type": "code",
   "execution_count": 6,
   "metadata": {},
   "outputs": [],
   "source": [
    "if synthesizer == 'id':\n",
    "    from synthesized.core import IdSynthesizer\n",
    "    synthesizer = IdSynthesizer\n",
    "elif synthesizer == 'basic':\n",
    "    from synthesized.core import BasicSynthesizer\n",
    "    synthesizer = BasicSynthesizer"
   ]
  },
  {
   "cell_type": "code",
   "execution_count": 7,
   "metadata": {},
   "outputs": [
    {
     "name": "stdout",
     "output_type": "stream",
     "text": [
      "5000: 1.27e+08\n",
      "10000: 1.44e+08\n",
      "15000: 1.64e+08\n",
      "20000: 1.73e+08\n",
      "25000: 4.37e+07\n",
      "30000: 2.93e+07\n",
      "35000: 2.48e+06\n",
      "40000: 3.16e+06\n",
      "45000: 1.15e+07\n",
      "50000: 5.26e+06\n"
     ]
    }
   ],
   "source": [
    "with synthesizer(dtypes=data.dtypes) as synthesizer:\n",
    "    synthesizer.learn(data=data, verbose=5000)\n",
    "    synthesized = synthesizer.synthesize(n=10000)"
   ]
  },
  {
   "cell_type": "markdown",
   "metadata": {},
   "source": [
    "## Display synthesized data"
   ]
  },
  {
   "cell_type": "code",
   "execution_count": 8,
   "metadata": {},
   "outputs": [
    {
     "data": {
      "text/html": [
       "<div>\n",
       "<style scoped>\n",
       "    .dataframe tbody tr th:only-of-type {\n",
       "        vertical-align: middle;\n",
       "    }\n",
       "\n",
       "    .dataframe tbody tr th {\n",
       "        vertical-align: top;\n",
       "    }\n",
       "\n",
       "    .dataframe thead th {\n",
       "        text-align: right;\n",
       "    }\n",
       "</style>\n",
       "<table border=\"1\" class=\"dataframe\">\n",
       "  <thead>\n",
       "    <tr style=\"text-align: right;\">\n",
       "      <th></th>\n",
       "      <th>type</th>\n",
       "      <th>operation</th>\n",
       "      <th>amount</th>\n",
       "      <th>account_id</th>\n",
       "    </tr>\n",
       "  </thead>\n",
       "  <tbody>\n",
       "    <tr>\n",
       "      <th>0</th>\n",
       "      <td>1</td>\n",
       "      <td>3</td>\n",
       "      <td>9579.436523</td>\n",
       "      <td>1845</td>\n",
       "    </tr>\n",
       "    <tr>\n",
       "      <th>1</th>\n",
       "      <td>0</td>\n",
       "      <td>3</td>\n",
       "      <td>3504.253418</td>\n",
       "      <td>4175</td>\n",
       "    </tr>\n",
       "    <tr>\n",
       "      <th>2</th>\n",
       "      <td>1</td>\n",
       "      <td>1</td>\n",
       "      <td>13645.117188</td>\n",
       "      <td>3132</td>\n",
       "    </tr>\n",
       "    <tr>\n",
       "      <th>3</th>\n",
       "      <td>0</td>\n",
       "      <td>3</td>\n",
       "      <td>5452.193848</td>\n",
       "      <td>3664</td>\n",
       "    </tr>\n",
       "    <tr>\n",
       "      <th>4</th>\n",
       "      <td>0</td>\n",
       "      <td>3</td>\n",
       "      <td>3976.727783</td>\n",
       "      <td>2480</td>\n",
       "    </tr>\n",
       "    <tr>\n",
       "      <th>5</th>\n",
       "      <td>0</td>\n",
       "      <td>3</td>\n",
       "      <td>9232.264648</td>\n",
       "      <td>2714</td>\n",
       "    </tr>\n",
       "    <tr>\n",
       "      <th>6</th>\n",
       "      <td>1</td>\n",
       "      <td>3</td>\n",
       "      <td>8521.383789</td>\n",
       "      <td>3058</td>\n",
       "    </tr>\n",
       "    <tr>\n",
       "      <th>7</th>\n",
       "      <td>1</td>\n",
       "      <td>2</td>\n",
       "      <td>12993.032227</td>\n",
       "      <td>3219</td>\n",
       "    </tr>\n",
       "    <tr>\n",
       "      <th>8</th>\n",
       "      <td>1</td>\n",
       "      <td>2</td>\n",
       "      <td>12234.659180</td>\n",
       "      <td>2618</td>\n",
       "    </tr>\n",
       "    <tr>\n",
       "      <th>9</th>\n",
       "      <td>0</td>\n",
       "      <td>0</td>\n",
       "      <td>5929.611816</td>\n",
       "      <td>1371</td>\n",
       "    </tr>\n",
       "  </tbody>\n",
       "</table>\n",
       "</div>"
      ],
      "text/plain": [
       "   type  operation        amount  account_id\n",
       "0     1          3   9579.436523        1845\n",
       "1     0          3   3504.253418        4175\n",
       "2     1          1  13645.117188        3132\n",
       "3     0          3   5452.193848        3664\n",
       "4     0          3   3976.727783        2480\n",
       "5     0          3   9232.264648        2714\n",
       "6     1          3   8521.383789        3058\n",
       "7     1          2  12993.032227        3219\n",
       "8     1          2  12234.659180        2618\n",
       "9     0          0   5929.611816        1371"
      ]
     },
     "execution_count": 8,
     "metadata": {},
     "output_type": "execute_result"
    }
   ],
   "source": [
    "synthesized.head(10)"
   ]
  },
  {
   "cell_type": "markdown",
   "metadata": {},
   "source": [
    "# Visualization of original and synthetic data"
   ]
  },
  {
   "cell_type": "code",
   "execution_count": 9,
   "metadata": {
    "scrolled": true
   },
   "outputs": [
    {
     "data": {
      "text/plain": [
       "<matplotlib.axes._subplots.AxesSubplot at 0x7fec4007d2b0>"
      ]
     },
     "execution_count": 9,
     "metadata": {},
     "output_type": "execute_result"
    }
   ],
   "source": [
    "data['type'].hist(bins=2, range=[0, 1])"
   ]
  },
  {
   "cell_type": "code",
   "execution_count": 10,
   "metadata": {},
   "outputs": [
    {
     "data": {
      "text/plain": [
       "<matplotlib.axes._subplots.AxesSubplot at 0x7fec30d7d208>"
      ]
     },
     "execution_count": 10,
     "metadata": {},
     "output_type": "execute_result"
    },
    {
     "data": {
      "image/png": "[encoded data removed]",
      "text/plain": [
       "<Figure size 432x288 with 1 Axes>"
      ]
     },
     "metadata": {},
     "output_type": "display_data"
    }
   ],
   "source": [
    "synthesized['type'].hist(bins=2, range=[0, 1])"
   ]
  },
  {
   "cell_type": "code",
   "execution_count": null,
   "metadata": {},
   "outputs": [
    {
     "data": {
      "text/plain": [
       "<matplotlib.axes._subplots.AxesSubplot at 0x7fec30ce10f0>"
      ]
     },
     "execution_count": 11,
     "metadata": {},
     "output_type": "execute_result"
    }
   ],
   "source": [
    "data['operation'].hist(bins=4, range=[0, 3])"
   ]
  },
  {
   "cell_type": "code",
   "execution_count": null,
   "metadata": {},
   "outputs": [],
   "source": [
    "synthesized['operation'].hist(bins=4, range=[0, 3])"
   ]
  },
  {
   "cell_type": "code",
   "execution_count": null,
   "metadata": {},
   "outputs": [],
   "source": [
    "data['amount'].hist(bins=10, range=[0.0, 10000.0])"
   ]
  },
  {
   "cell_type": "code",
   "execution_count": null,
   "metadata": {},
   "outputs": [],
   "source": [
    "synthesized['amount'].hist(bins=10, range=[0.0, 10000.0])"
   ]
  },
  {
   "cell_type": "markdown",
   "metadata": {},
   "source": [
    "# Tests to confirm the utility of synthetic data "
   ]
  },
  {
   "cell_type": "code",
   "execution_count": null,
   "metadata": {},
   "outputs": [],
   "source": [
    "from synthesized.testing.testing_environment import Testing\n",
    "from sklearn.tree import DecisionTreeClassifier, DecisionTreeRegressor"
   ]
  },
  {
   "cell_type": "code",
   "execution_count": null,
   "metadata": {},
   "outputs": [],
   "source": [
    "testing = Testing(data, synthesized)"
   ]
  },
  {
   "cell_type": "code",
   "execution_count": null,
   "metadata": {},
   "outputs": [],
   "source": [
    "testing.estimate_utility(\n",
    "    continuous_columns=['amount'],  categorical_columns=['type', 'operation'],\n",
    "    classifier=DecisionTreeClassifier(), regressor=DecisionTreeRegressor()\n",
    ")"
   ]
  },
  {
   "cell_type": "code",
   "execution_count": null,
   "metadata": {},
   "outputs": [],
   "source": [
    "testing.compare_marginal_distributions(target_column='operation', filter_column='amount')"
   ]
  },
  {
   "cell_type": "code",
   "execution_count": null,
   "metadata": {},
   "outputs": [],
   "source": [
    "testing.compare_marginal_distributions(target_column='type', filter_column='amount', bins=10)"
   ]
  },
  {
   "cell_type": "code",
   "execution_count": null,
   "metadata": {},
   "outputs": [],
   "source": []
  }
 ],
 "metadata": {
  "kernelspec": {
   "display_name": "synthesized",
   "language": "python",
   "name": "synthesized"
  },
  "language_info": {
   "codemirror_mode": {
    "name": "ipython",
    "version": 3
   },
   "file_extension": ".py",
   "mimetype": "text/x-python",
   "name": "python",
   "nbconvert_exporter": "python",
   "pygments_lexer": "ipython3",
   "version": "3.6.5"
  }
 },
 "nbformat": 4,
 "nbformat_minor": 2
}
