{
 "cells": [
  {
   "cell_type": "code",
   "execution_count": 100,
   "metadata": {},
   "outputs": [],
   "source": [
    "import pandas as pd\n",
    "import numpy as np\n",
    "import sys"
   ]
  },
  {
   "cell_type": "code",
   "execution_count": 101,
   "metadata": {},
   "outputs": [],
   "source": [
    "import transaction_demo"
   ]
  },
  {
   "cell_type": "code",
   "execution_count": 102,
   "metadata": {},
   "outputs": [],
   "source": [
    "seed = 42"
   ]
  },
  {
   "cell_type": "markdown",
   "metadata": {},
   "source": [
    "### Load transactions"
   ]
  },
  {
   "cell_type": "code",
   "execution_count": 103,
   "metadata": {},
   "outputs": [
    {
     "data": {
      "text/html": [
       "<div>\n",
       "<style scoped>\n",
       "    .dataframe tbody tr th:only-of-type {\n",
       "        vertical-align: middle;\n",
       "    }\n",
       "\n",
       "    .dataframe tbody tr th {\n",
       "        vertical-align: top;\n",
       "    }\n",
       "\n",
       "    .dataframe thead th {\n",
       "        text-align: right;\n",
       "    }\n",
       "</style>\n",
       "<table border=\"1\" class=\"dataframe\">\n",
       "  <thead>\n",
       "    <tr style=\"text-align: right;\">\n",
       "      <th></th>\n",
       "      <th>Unnamed: 0</th>\n",
       "      <th>trans_id</th>\n",
       "      <th>account_id</th>\n",
       "      <th>date</th>\n",
       "      <th>type</th>\n",
       "      <th>operation</th>\n",
       "      <th>amount</th>\n",
       "      <th>balance</th>\n",
       "      <th>k_symbol</th>\n",
       "      <th>bank</th>\n",
       "      <th>account</th>\n",
       "      <th>mean_income</th>\n",
       "    </tr>\n",
       "  </thead>\n",
       "  <tbody>\n",
       "    <tr>\n",
       "      <th>0</th>\n",
       "      <td>0</td>\n",
       "      <td>695247</td>\n",
       "      <td>2378</td>\n",
       "      <td>1993-01-01</td>\n",
       "      <td>1</td>\n",
       "      <td>2.0</td>\n",
       "      <td>700.0</td>\n",
       "      <td>700.0</td>\n",
       "      <td>NaN</td>\n",
       "      <td>NaN</td>\n",
       "      <td>NaN</td>\n",
       "      <td>[ 11271.53754941]</td>\n",
       "    </tr>\n",
       "    <tr>\n",
       "      <th>1</th>\n",
       "      <td>1</td>\n",
       "      <td>695250</td>\n",
       "      <td>2378</td>\n",
       "      <td>1993-01-22</td>\n",
       "      <td>1</td>\n",
       "      <td>2.0</td>\n",
       "      <td>7268.0</td>\n",
       "      <td>7968.0</td>\n",
       "      <td>NaN</td>\n",
       "      <td>NaN</td>\n",
       "      <td>NaN</td>\n",
       "      <td>[ 11271.53754941]</td>\n",
       "    </tr>\n",
       "    <tr>\n",
       "      <th>2</th>\n",
       "      <td>2</td>\n",
       "      <td>695266</td>\n",
       "      <td>2378</td>\n",
       "      <td>1993-01-23</td>\n",
       "      <td>1</td>\n",
       "      <td>2.0</td>\n",
       "      <td>14440.0</td>\n",
       "      <td>22408.0</td>\n",
       "      <td>NaN</td>\n",
       "      <td>NaN</td>\n",
       "      <td>NaN</td>\n",
       "      <td>[ 11271.53754941]</td>\n",
       "    </tr>\n",
       "    <tr>\n",
       "      <th>3</th>\n",
       "      <td>3</td>\n",
       "      <td>695262</td>\n",
       "      <td>2378</td>\n",
       "      <td>1993-01-24</td>\n",
       "      <td>1</td>\n",
       "      <td>2.0</td>\n",
       "      <td>49752.0</td>\n",
       "      <td>72160.0</td>\n",
       "      <td>NaN</td>\n",
       "      <td>NaN</td>\n",
       "      <td>NaN</td>\n",
       "      <td>[ 11271.53754941]</td>\n",
       "    </tr>\n",
       "    <tr>\n",
       "      <th>4</th>\n",
       "      <td>4</td>\n",
       "      <td>695265</td>\n",
       "      <td>2378</td>\n",
       "      <td>1993-01-26</td>\n",
       "      <td>1</td>\n",
       "      <td>2.0</td>\n",
       "      <td>21899.0</td>\n",
       "      <td>94059.0</td>\n",
       "      <td>NaN</td>\n",
       "      <td>NaN</td>\n",
       "      <td>NaN</td>\n",
       "      <td>[ 11271.53754941]</td>\n",
       "    </tr>\n",
       "    <tr>\n",
       "      <th>5</th>\n",
       "      <td>5</td>\n",
       "      <td>695560</td>\n",
       "      <td>2378</td>\n",
       "      <td>1993-01-31</td>\n",
       "      <td>0</td>\n",
       "      <td>3.0</td>\n",
       "      <td>34700.0</td>\n",
       "      <td>59453.7</td>\n",
       "      <td>NaN</td>\n",
       "      <td>NaN</td>\n",
       "      <td>NaN</td>\n",
       "      <td>[ 11271.53754941]</td>\n",
       "    </tr>\n",
       "    <tr>\n",
       "      <th>6</th>\n",
       "      <td>6</td>\n",
       "      <td>3608592</td>\n",
       "      <td>2378</td>\n",
       "      <td>1993-01-31</td>\n",
       "      <td>1</td>\n",
       "      <td>NaN</td>\n",
       "      <td>94.7</td>\n",
       "      <td>94153.7</td>\n",
       "      <td>2</td>\n",
       "      <td>NaN</td>\n",
       "      <td>NaN</td>\n",
       "      <td>[ 11271.53754941]</td>\n",
       "    </tr>\n",
       "    <tr>\n",
       "      <th>7</th>\n",
       "      <td>7</td>\n",
       "      <td>695272</td>\n",
       "      <td>2378</td>\n",
       "      <td>1993-02-05</td>\n",
       "      <td>1</td>\n",
       "      <td>2.0</td>\n",
       "      <td>30192.0</td>\n",
       "      <td>89645.7</td>\n",
       "      <td>NaN</td>\n",
       "      <td>NaN</td>\n",
       "      <td>NaN</td>\n",
       "      <td>[ 11271.53754941]</td>\n",
       "    </tr>\n",
       "    <tr>\n",
       "      <th>8</th>\n",
       "      <td>8</td>\n",
       "      <td>695340</td>\n",
       "      <td>2378</td>\n",
       "      <td>1993-02-07</td>\n",
       "      <td>0</td>\n",
       "      <td>0.0</td>\n",
       "      <td>9612.0</td>\n",
       "      <td>80033.7</td>\n",
       "      <td>4</td>\n",
       "      <td>EF</td>\n",
       "      <td>1222903.0</td>\n",
       "      <td>[ 11271.53754941]</td>\n",
       "    </tr>\n",
       "    <tr>\n",
       "      <th>9</th>\n",
       "      <td>9</td>\n",
       "      <td>695270</td>\n",
       "      <td>2378</td>\n",
       "      <td>1993-02-11</td>\n",
       "      <td>1</td>\n",
       "      <td>2.0</td>\n",
       "      <td>31038.0</td>\n",
       "      <td>111071.7</td>\n",
       "      <td>NaN</td>\n",
       "      <td>NaN</td>\n",
       "      <td>NaN</td>\n",
       "      <td>[ 11271.53754941]</td>\n",
       "    </tr>\n",
       "  </tbody>\n",
       "</table>\n",
       "</div>"
      ],
      "text/plain": [
       "   Unnamed: 0  trans_id  account_id        date type  operation   amount  \\\n",
       "0           0    695247        2378  1993-01-01    1        2.0    700.0   \n",
       "1           1    695250        2378  1993-01-22    1        2.0   7268.0   \n",
       "2           2    695266        2378  1993-01-23    1        2.0  14440.0   \n",
       "3           3    695262        2378  1993-01-24    1        2.0  49752.0   \n",
       "4           4    695265        2378  1993-01-26    1        2.0  21899.0   \n",
       "5           5    695560        2378  1993-01-31    0        3.0  34700.0   \n",
       "6           6   3608592        2378  1993-01-31    1        NaN     94.7   \n",
       "7           7    695272        2378  1993-02-05    1        2.0  30192.0   \n",
       "8           8    695340        2378  1993-02-07    0        0.0   9612.0   \n",
       "9           9    695270        2378  1993-02-11    1        2.0  31038.0   \n",
       "\n",
       "    balance k_symbol bank    account        mean_income  \n",
       "0     700.0      NaN  NaN        NaN  [ 11271.53754941]  \n",
       "1    7968.0      NaN  NaN        NaN  [ 11271.53754941]  \n",
       "2   22408.0      NaN  NaN        NaN  [ 11271.53754941]  \n",
       "3   72160.0      NaN  NaN        NaN  [ 11271.53754941]  \n",
       "4   94059.0      NaN  NaN        NaN  [ 11271.53754941]  \n",
       "5   59453.7      NaN  NaN        NaN  [ 11271.53754941]  \n",
       "6   94153.7        2  NaN        NaN  [ 11271.53754941]  \n",
       "7   89645.7      NaN  NaN        NaN  [ 11271.53754941]  \n",
       "8   80033.7        4   EF  1222903.0  [ 11271.53754941]  \n",
       "9  111071.7      NaN  NaN        NaN  [ 11271.53754941]  "
      ]
     },
     "execution_count": 103,
     "metadata": {},
     "output_type": "execute_result"
    }
   ],
   "source": [
    "df = pd.read_csv('../data/transactions.csv')\n",
    "df.head(10)"
   ]
  },
  {
   "cell_type": "markdown",
   "metadata": {},
   "source": [
    "### Clean the dataset"
   ]
  },
  {
   "cell_type": "markdown",
   "metadata": {},
   "source": [
    "* Leave target columns only (date, operation and amount)\n",
    "* filter out NaNs\n",
    "* convert operations to int"
   ]
  },
  {
   "cell_type": "code",
   "execution_count": 104,
   "metadata": {},
   "outputs": [
    {
     "data": {
      "text/html": [
       "<div>\n",
       "<style scoped>\n",
       "    .dataframe tbody tr th:only-of-type {\n",
       "        vertical-align: middle;\n",
       "    }\n",
       "\n",
       "    .dataframe tbody tr th {\n",
       "        vertical-align: top;\n",
       "    }\n",
       "\n",
       "    .dataframe thead th {\n",
       "        text-align: right;\n",
       "    }\n",
       "</style>\n",
       "<table border=\"1\" class=\"dataframe\">\n",
       "  <thead>\n",
       "    <tr style=\"text-align: right;\">\n",
       "      <th></th>\n",
       "      <th>account_id</th>\n",
       "      <th>date</th>\n",
       "      <th>operation</th>\n",
       "      <th>amount</th>\n",
       "    </tr>\n",
       "  </thead>\n",
       "  <tbody>\n",
       "    <tr>\n",
       "      <th>0</th>\n",
       "      <td>2378</td>\n",
       "      <td>1993-01-01</td>\n",
       "      <td>2</td>\n",
       "      <td>700.0</td>\n",
       "    </tr>\n",
       "    <tr>\n",
       "      <th>1</th>\n",
       "      <td>2378</td>\n",
       "      <td>1993-01-22</td>\n",
       "      <td>2</td>\n",
       "      <td>7268.0</td>\n",
       "    </tr>\n",
       "    <tr>\n",
       "      <th>2</th>\n",
       "      <td>2378</td>\n",
       "      <td>1993-01-23</td>\n",
       "      <td>2</td>\n",
       "      <td>14440.0</td>\n",
       "    </tr>\n",
       "    <tr>\n",
       "      <th>3</th>\n",
       "      <td>2378</td>\n",
       "      <td>1993-01-24</td>\n",
       "      <td>2</td>\n",
       "      <td>49752.0</td>\n",
       "    </tr>\n",
       "    <tr>\n",
       "      <th>4</th>\n",
       "      <td>2378</td>\n",
       "      <td>1993-01-26</td>\n",
       "      <td>2</td>\n",
       "      <td>21899.0</td>\n",
       "    </tr>\n",
       "    <tr>\n",
       "      <th>5</th>\n",
       "      <td>2378</td>\n",
       "      <td>1993-01-31</td>\n",
       "      <td>3</td>\n",
       "      <td>34700.0</td>\n",
       "    </tr>\n",
       "    <tr>\n",
       "      <th>7</th>\n",
       "      <td>2378</td>\n",
       "      <td>1993-02-05</td>\n",
       "      <td>2</td>\n",
       "      <td>30192.0</td>\n",
       "    </tr>\n",
       "    <tr>\n",
       "      <th>8</th>\n",
       "      <td>2378</td>\n",
       "      <td>1993-02-07</td>\n",
       "      <td>0</td>\n",
       "      <td>9612.0</td>\n",
       "    </tr>\n",
       "    <tr>\n",
       "      <th>9</th>\n",
       "      <td>2378</td>\n",
       "      <td>1993-02-11</td>\n",
       "      <td>2</td>\n",
       "      <td>31038.0</td>\n",
       "    </tr>\n",
       "    <tr>\n",
       "      <th>10</th>\n",
       "      <td>2378</td>\n",
       "      <td>1993-02-11</td>\n",
       "      <td>3</td>\n",
       "      <td>25200.0</td>\n",
       "    </tr>\n",
       "  </tbody>\n",
       "</table>\n",
       "</div>"
      ],
      "text/plain": [
       "    account_id        date  operation   amount\n",
       "0         2378  1993-01-01          2    700.0\n",
       "1         2378  1993-01-22          2   7268.0\n",
       "2         2378  1993-01-23          2  14440.0\n",
       "3         2378  1993-01-24          2  49752.0\n",
       "4         2378  1993-01-26          2  21899.0\n",
       "5         2378  1993-01-31          3  34700.0\n",
       "7         2378  1993-02-05          2  30192.0\n",
       "8         2378  1993-02-07          0   9612.0\n",
       "9         2378  1993-02-11          2  31038.0\n",
       "10        2378  1993-02-11          3  25200.0"
      ]
     },
     "execution_count": 104,
     "metadata": {},
     "output_type": "execute_result"
    }
   ],
   "source": [
    "df = transaction_demo.clean_dataset(df)\n",
    "df.head(10)"
   ]
  },
  {
   "cell_type": "markdown",
   "metadata": {},
   "source": [
    "Leave transaction only for the 1993 year:"
   ]
  },
  {
   "cell_type": "code",
   "execution_count": 105,
   "metadata": {},
   "outputs": [],
   "source": [
    "df = df[pd.to_datetime(df['date']) < pd.to_datetime('1994-01-01')]"
   ]
  },
  {
   "cell_type": "markdown",
   "metadata": {},
   "source": [
    "### Segment all transaction by month"
   ]
  },
  {
   "cell_type": "markdown",
   "metadata": {},
   "source": [
    "We consider each month of an account as a separate segment. All segments are considered the same. It means our generator will generate a monthly snapshot of transactions for some user."
   ]
  },
  {
   "cell_type": "code",
   "execution_count": 106,
   "metadata": {},
   "outputs": [
    {
     "data": {
      "text/html": [
       "<div>\n",
       "<style scoped>\n",
       "    .dataframe tbody tr th:only-of-type {\n",
       "        vertical-align: middle;\n",
       "    }\n",
       "\n",
       "    .dataframe tbody tr th {\n",
       "        vertical-align: top;\n",
       "    }\n",
       "\n",
       "    .dataframe thead th {\n",
       "        text-align: right;\n",
       "    }\n",
       "</style>\n",
       "<table border=\"1\" class=\"dataframe\">\n",
       "  <thead>\n",
       "    <tr style=\"text-align: right;\">\n",
       "      <th></th>\n",
       "      <th>operation</th>\n",
       "      <th>amount</th>\n",
       "      <th>day</th>\n",
       "      <th>segment_id</th>\n",
       "    </tr>\n",
       "  </thead>\n",
       "  <tbody>\n",
       "    <tr>\n",
       "      <th>0</th>\n",
       "      <td>2</td>\n",
       "      <td>700.0</td>\n",
       "      <td>1</td>\n",
       "      <td>2378:1993-01</td>\n",
       "    </tr>\n",
       "    <tr>\n",
       "      <th>1</th>\n",
       "      <td>2</td>\n",
       "      <td>7268.0</td>\n",
       "      <td>22</td>\n",
       "      <td>2378:1993-01</td>\n",
       "    </tr>\n",
       "    <tr>\n",
       "      <th>2</th>\n",
       "      <td>2</td>\n",
       "      <td>14440.0</td>\n",
       "      <td>23</td>\n",
       "      <td>2378:1993-01</td>\n",
       "    </tr>\n",
       "    <tr>\n",
       "      <th>3</th>\n",
       "      <td>2</td>\n",
       "      <td>49752.0</td>\n",
       "      <td>24</td>\n",
       "      <td>2378:1993-01</td>\n",
       "    </tr>\n",
       "    <tr>\n",
       "      <th>4</th>\n",
       "      <td>2</td>\n",
       "      <td>21899.0</td>\n",
       "      <td>26</td>\n",
       "      <td>2378:1993-01</td>\n",
       "    </tr>\n",
       "    <tr>\n",
       "      <th>5</th>\n",
       "      <td>3</td>\n",
       "      <td>34700.0</td>\n",
       "      <td>31</td>\n",
       "      <td>2378:1993-01</td>\n",
       "    </tr>\n",
       "    <tr>\n",
       "      <th>7</th>\n",
       "      <td>2</td>\n",
       "      <td>30192.0</td>\n",
       "      <td>5</td>\n",
       "      <td>2378:1993-02</td>\n",
       "    </tr>\n",
       "    <tr>\n",
       "      <th>8</th>\n",
       "      <td>0</td>\n",
       "      <td>9612.0</td>\n",
       "      <td>7</td>\n",
       "      <td>2378:1993-02</td>\n",
       "    </tr>\n",
       "    <tr>\n",
       "      <th>9</th>\n",
       "      <td>2</td>\n",
       "      <td>31038.0</td>\n",
       "      <td>11</td>\n",
       "      <td>2378:1993-02</td>\n",
       "    </tr>\n",
       "    <tr>\n",
       "      <th>10</th>\n",
       "      <td>3</td>\n",
       "      <td>25200.0</td>\n",
       "      <td>11</td>\n",
       "      <td>2378:1993-02</td>\n",
       "    </tr>\n",
       "  </tbody>\n",
       "</table>\n",
       "</div>"
      ],
      "text/plain": [
       "    operation   amount  day    segment_id\n",
       "0           2    700.0    1  2378:1993-01\n",
       "1           2   7268.0   22  2378:1993-01\n",
       "2           2  14440.0   23  2378:1993-01\n",
       "3           2  49752.0   24  2378:1993-01\n",
       "4           2  21899.0   26  2378:1993-01\n",
       "5           3  34700.0   31  2378:1993-01\n",
       "7           2  30192.0    5  2378:1993-02\n",
       "8           0   9612.0    7  2378:1993-02\n",
       "9           2  31038.0   11  2378:1993-02\n",
       "10          3  25200.0   11  2378:1993-02"
      ]
     },
     "execution_count": 106,
     "metadata": {},
     "output_type": "execute_result"
    }
   ],
   "source": [
    "df = transaction_demo.segment_by_month(df)\n",
    "df.head(10)"
   ]
  },
  {
   "cell_type": "markdown",
   "metadata": {},
   "source": [
    "### Prepare training data"
   ]
  },
  {
   "cell_type": "code",
   "execution_count": 107,
   "metadata": {},
   "outputs": [],
   "source": [
    "from sklearn.pipeline import Pipeline\n",
    "from sklearn.preprocessing import StandardScaler\n",
    "transform_pipeline = Pipeline([\n",
    "    (\"vectorizer\", transaction_demo.TransactionVectorizer(\n",
    "        group_column='segment_id',\n",
    "        value_column='amount',\n",
    "        dim1_column='operation',\n",
    "        dim2_column='day',\n",
    "        dim1_size=4,\n",
    "        dim2_size=32)),\n",
    "    (\"scale\", StandardScaler(with_mean=False))\n",
    "])"
   ]
  },
  {
   "cell_type": "code",
   "execution_count": 108,
   "metadata": {},
   "outputs": [],
   "source": [
    "df_transformed = transform_pipeline.fit_transform(df)"
   ]
  },
  {
   "cell_type": "code",
   "execution_count": 109,
   "metadata": {},
   "outputs": [],
   "source": [
    "from sklearn.model_selection import train_test_split\n",
    "\n",
    "X_train, X_test = train_test_split(df_transformed, test_size=0.3, random_state=seed)"
   ]
  },
  {
   "cell_type": "markdown",
   "metadata": {},
   "source": [
    "### Train the model"
   ]
  },
  {
   "cell_type": "code",
   "execution_count": 196,
   "metadata": {},
   "outputs": [
    {
     "name": "stdout",
     "output_type": "stream",
     "text": [
      "Epoch: 1, cost=0.739986, time=0.3541 (sec)\n",
      "Epoch: 11, cost=0.116564, time=0.1237 (sec)\n",
      "Epoch: 21, cost=0.100096, time=0.1288 (sec)\n",
      "Epoch: 31, cost=0.074258, time=0.4813 (sec)\n",
      "Epoch: 41, cost=0.121049, time=0.2545 (sec)\n",
      "Epoch: 51, cost=0.076920, time=0.1325 (sec)\n",
      "Epoch: 61, cost=0.082016, time=0.1264 (sec)\n",
      "Epoch: 71, cost=0.061629, time=0.1231 (sec)\n",
      "Epoch: 81, cost=0.057213, time=0.1246 (sec)\n",
      "Epoch: 91, cost=0.066657, time=0.1275 (sec)\n",
      "Optimization complete after 100 epoch(s). Average epoch time: 0.1656 seconds\n",
      "\n",
      "Test MSE: 17.7187\n"
     ]
    }
   ],
   "source": [
    "from synthesized.modules.synth import AlphaSynth\n",
    "from sklearn.metrics import mean_squared_error\n",
    "\n",
    "# define the estimator. We will use L2 penalty to augment the generalizability of the encoder\n",
    "alpha = AlphaSynth(n_epochs=100, n_hidden=250, learning_rate=0.01, batch_size=106, \n",
    "                 display_step=10, activation_function='relu', verbose=2, min_change = 1e-6, \n",
    "                 random_state=seed, clip=True, l2_penalty=1e-5, \n",
    "                 early_stopping=True)\n",
    "\n",
    "# fit\n",
    "alpha.fit(X_train)\n",
    "\n",
    "# transform and reconstruct the test images\n",
    "reconstructed = alpha.feed_forward(X_test)\n",
    "\n",
    "# get the error:\n",
    "mse = ((X_test - reconstructed) ** 2).sum(axis=1).sum() / X_test.shape[0]\n",
    "print(\"\\nTest MSE: %.4f\" % mse)"
   ]
  },
  {
   "cell_type": "code",
   "execution_count": 197,
   "metadata": {},
   "outputs": [],
   "source": [
    "# matplotlib is way too into the whole \"warn for everything\"\n",
    "import warnings\n",
    "\n",
    "def suppress_warnings(func):\n",
    "    def wrapper(*args, **kwargs):\n",
    "        with warnings.catch_warnings():\n",
    "            warnings.simplefilter(\"ignore\")\n",
    "            return func(*args, **kwargs)\n",
    "    return wrapper\n",
    "\n",
    "\n",
    "@suppress_warnings\n",
    "def showData(array_a, array_b=None, array_c=None, nrow=2, ncol=10, figsize=None, save_loc=None):\n",
    "    # import without warnings\n",
    "    from matplotlib import pyplot as plt\n",
    "    %matplotlib inline\n",
    "    \n",
    "    # if both are None, just plot one\n",
    "    if array_b is None and array_c is None:\n",
    "        nrow = 1\n",
    "        \n",
    "    # if kw specifically makes B None, shift it over\n",
    "    elif array_b is None:\n",
    "        array_b = array_c\n",
    "        array_c = None\n",
    "        nrow = 2\n",
    "        \n",
    "    # otherwise if just plotting the first two...\n",
    "    elif array_c is None:\n",
    "        nrow = 2\n",
    "        \n",
    "    elif array_b is not None and array_c is not None:\n",
    "        nrow = 3\n",
    "        \n",
    "    if nrow not in (1, 2, 3):\n",
    "        raise ValueError('nrow must be in (1, 2)')\n",
    "        \n",
    "    if figsize is None:\n",
    "        figsize = (ncol, nrow)\n",
    "        \n",
    "    f, a = plt.subplots(nrow, ncol, figsize=figsize)\n",
    "    arrays = [array_a, array_b, array_c]\n",
    "    \n",
    "    def _do_show(the_figure, the_array):\n",
    "        the_figure.imshow(the_array)\n",
    "        the_figure.axis('off')\n",
    "    \n",
    "    for i in range(ncol):\n",
    "        if nrow > 1:\n",
    "            for j in range(nrow):\n",
    "                _do_show(a[j][i], np.reshape(arrays[j][i], (16, 8)))\n",
    "        else:\n",
    "            _do_show(a[i], np.reshape(array_a[i], (16, 8)))\n",
    "            \n",
    "        \n",
    "    plt.subplots_adjust(wspace=0.1, hspace=0.1)\n",
    "    f.show()\n",
    "    plt.draw()\n",
    "    \n",
    "    # if save...\n",
    "    if save_loc is not None:\n",
    "        plt.savefig(save_loc)"
   ]
  },
  {
   "cell_type": "code",
   "execution_count": 198,
   "metadata": {},
   "outputs": [
    {
     "data": {
      "image/png": "[encoded data removed]",
      "text/plain": [
       "<Figure size 720x144 with 20 Axes>"
      ]
     },
     "metadata": {},
     "output_type": "display_data"
    }
   ],
   "source": [
    "showData(X_test, reconstructed)"
   ]
  },
  {
   "cell_type": "markdown",
   "metadata": {},
   "source": [
    "### Convert generated data to transactions"
   ]
  },
  {
   "cell_type": "code",
   "execution_count": 199,
   "metadata": {},
   "outputs": [],
   "source": [
    "df_orig = transform_pipeline.inverse_transform(X_test).drop(columns=['segment_id'])"
   ]
  },
  {
   "cell_type": "code",
   "execution_count": 200,
   "metadata": {},
   "outputs": [],
   "source": [
    "df_synth = transform_pipeline.inverse_transform(reconstructed).drop(columns=['segment_id'])"
   ]
  },
  {
   "cell_type": "code",
   "execution_count": 201,
   "metadata": {},
   "outputs": [
    {
     "data": {
      "text/html": [
       "<div>\n",
       "<style scoped>\n",
       "    .dataframe tbody tr th:only-of-type {\n",
       "        vertical-align: middle;\n",
       "    }\n",
       "\n",
       "    .dataframe tbody tr th {\n",
       "        vertical-align: top;\n",
       "    }\n",
       "\n",
       "    .dataframe thead th {\n",
       "        text-align: right;\n",
       "    }\n",
       "</style>\n",
       "<table border=\"1\" class=\"dataframe\">\n",
       "  <thead>\n",
       "    <tr style=\"text-align: right;\">\n",
       "      <th></th>\n",
       "      <th>operation</th>\n",
       "      <th>day</th>\n",
       "      <th>amount</th>\n",
       "    </tr>\n",
       "  </thead>\n",
       "  <tbody>\n",
       "    <tr>\n",
       "      <th>0</th>\n",
       "      <td>0</td>\n",
       "      <td>6</td>\n",
       "      <td>8618.0</td>\n",
       "    </tr>\n",
       "    <tr>\n",
       "      <th>1</th>\n",
       "      <td>0</td>\n",
       "      <td>8</td>\n",
       "      <td>4068.0</td>\n",
       "    </tr>\n",
       "    <tr>\n",
       "      <th>2</th>\n",
       "      <td>0</td>\n",
       "      <td>12</td>\n",
       "      <td>446.0</td>\n",
       "    </tr>\n",
       "    <tr>\n",
       "      <th>3</th>\n",
       "      <td>2</td>\n",
       "      <td>15</td>\n",
       "      <td>16905.0</td>\n",
       "    </tr>\n",
       "    <tr>\n",
       "      <th>4</th>\n",
       "      <td>2</td>\n",
       "      <td>28</td>\n",
       "      <td>1600.0</td>\n",
       "    </tr>\n",
       "    <tr>\n",
       "      <th>5</th>\n",
       "      <td>3</td>\n",
       "      <td>31</td>\n",
       "      <td>14.6</td>\n",
       "    </tr>\n",
       "    <tr>\n",
       "      <th>6</th>\n",
       "      <td>0</td>\n",
       "      <td>14</td>\n",
       "      <td>2933.0</td>\n",
       "    </tr>\n",
       "    <tr>\n",
       "      <th>7</th>\n",
       "      <td>1</td>\n",
       "      <td>12</td>\n",
       "      <td>4896.0</td>\n",
       "    </tr>\n",
       "    <tr>\n",
       "      <th>8</th>\n",
       "      <td>3</td>\n",
       "      <td>8</td>\n",
       "      <td>350.0</td>\n",
       "    </tr>\n",
       "    <tr>\n",
       "      <th>9</th>\n",
       "      <td>3</td>\n",
       "      <td>31</td>\n",
       "      <td>14.6</td>\n",
       "    </tr>\n",
       "  </tbody>\n",
       "</table>\n",
       "</div>"
      ],
      "text/plain": [
       "   operation  day   amount\n",
       "0          0    6   8618.0\n",
       "1          0    8   4068.0\n",
       "2          0   12    446.0\n",
       "3          2   15  16905.0\n",
       "4          2   28   1600.0\n",
       "5          3   31     14.6\n",
       "6          0   14   2933.0\n",
       "7          1   12   4896.0\n",
       "8          3    8    350.0\n",
       "9          3   31     14.6"
      ]
     },
     "execution_count": 201,
     "metadata": {},
     "output_type": "execute_result"
    }
   ],
   "source": [
    "df_orig.head(10)"
   ]
  },
  {
   "cell_type": "code",
   "execution_count": 202,
   "metadata": {},
   "outputs": [
    {
     "data": {
      "text/html": [
       "<div>\n",
       "<style scoped>\n",
       "    .dataframe tbody tr th:only-of-type {\n",
       "        vertical-align: middle;\n",
       "    }\n",
       "\n",
       "    .dataframe tbody tr th {\n",
       "        vertical-align: top;\n",
       "    }\n",
       "\n",
       "    .dataframe thead th {\n",
       "        text-align: right;\n",
       "    }\n",
       "</style>\n",
       "<table border=\"1\" class=\"dataframe\">\n",
       "  <thead>\n",
       "    <tr style=\"text-align: right;\">\n",
       "      <th></th>\n",
       "      <th>operation</th>\n",
       "      <th>day</th>\n",
       "      <th>amount</th>\n",
       "    </tr>\n",
       "  </thead>\n",
       "  <tbody>\n",
       "    <tr>\n",
       "      <th>0</th>\n",
       "      <td>0</td>\n",
       "      <td>6</td>\n",
       "      <td>6858.693359</td>\n",
       "    </tr>\n",
       "    <tr>\n",
       "      <th>1</th>\n",
       "      <td>0</td>\n",
       "      <td>8</td>\n",
       "      <td>5896.762207</td>\n",
       "    </tr>\n",
       "    <tr>\n",
       "      <th>2</th>\n",
       "      <td>2</td>\n",
       "      <td>5</td>\n",
       "      <td>4012.977783</td>\n",
       "    </tr>\n",
       "    <tr>\n",
       "      <th>3</th>\n",
       "      <td>2</td>\n",
       "      <td>6</td>\n",
       "      <td>2606.775391</td>\n",
       "    </tr>\n",
       "    <tr>\n",
       "      <th>4</th>\n",
       "      <td>2</td>\n",
       "      <td>12</td>\n",
       "      <td>1222.200195</td>\n",
       "    </tr>\n",
       "    <tr>\n",
       "      <th>5</th>\n",
       "      <td>2</td>\n",
       "      <td>15</td>\n",
       "      <td>6637.456543</td>\n",
       "    </tr>\n",
       "    <tr>\n",
       "      <th>6</th>\n",
       "      <td>3</td>\n",
       "      <td>18</td>\n",
       "      <td>3722.753174</td>\n",
       "    </tr>\n",
       "    <tr>\n",
       "      <th>7</th>\n",
       "      <td>0</td>\n",
       "      <td>14</td>\n",
       "      <td>3389.829590</td>\n",
       "    </tr>\n",
       "    <tr>\n",
       "      <th>8</th>\n",
       "      <td>1</td>\n",
       "      <td>12</td>\n",
       "      <td>2495.324219</td>\n",
       "    </tr>\n",
       "    <tr>\n",
       "      <th>9</th>\n",
       "      <td>3</td>\n",
       "      <td>5</td>\n",
       "      <td>1107.600464</td>\n",
       "    </tr>\n",
       "  </tbody>\n",
       "</table>\n",
       "</div>"
      ],
      "text/plain": [
       "  operation day       amount\n",
       "0         0   6  6858.693359\n",
       "1         0   8  5896.762207\n",
       "2         2   5  4012.977783\n",
       "3         2   6  2606.775391\n",
       "4         2  12  1222.200195\n",
       "5         2  15  6637.456543\n",
       "6         3  18  3722.753174\n",
       "7         0  14  3389.829590\n",
       "8         1  12  2495.324219\n",
       "9         3   5  1107.600464"
      ]
     },
     "execution_count": 202,
     "metadata": {},
     "output_type": "execute_result"
    }
   ],
   "source": [
    "df_synth.head(10)"
   ]
  },
  {
   "cell_type": "code",
   "execution_count": 203,
   "metadata": {},
   "outputs": [
    {
     "data": {
      "text/plain": [
       "<matplotlib.axes._subplots.AxesSubplot at 0x16ad2c5c0>"
      ]
     },
     "execution_count": 203,
     "metadata": {},
     "output_type": "execute_result"
    },
    {
     "data": {
      "image/png": "[encoded data removed]",
      "text/plain": [
       "<Figure size 432x288 with 1 Axes>"
      ]
     },
     "metadata": {},
     "output_type": "display_data"
    }
   ],
   "source": [
    "df_orig['amount'].hist(bins=10, range=[0,10000.0])"
   ]
  },
  {
   "cell_type": "code",
   "execution_count": 204,
   "metadata": {},
   "outputs": [
    {
     "data": {
      "text/plain": [
       "<matplotlib.axes._subplots.AxesSubplot at 0x16b480668>"
      ]
     },
     "execution_count": 204,
     "metadata": {},
     "output_type": "execute_result"
    },
    {
     "data": {
      "image/png": "[encoded data removed]",
      "text/plain": [
       "<Figure size 432x288 with 1 Axes>"
      ]
     },
     "metadata": {},
     "output_type": "display_data"
    }
   ],
   "source": [
    "df_synth['amount'].hist(bins=10, range=[0,10000.0])"
   ]
  },
  {
   "cell_type": "markdown",
   "metadata": {},
   "source": [
    "### Linkage attack test"
   ]
  },
  {
   "cell_type": "code",
   "execution_count": 121,
   "metadata": {},
   "outputs": [],
   "source": [
    "from synthesized.testing.linkage_attack import linkage_attack, t_closeness_check"
   ]
  },
  {
   "cell_type": "markdown",
   "metadata": {},
   "source": [
    "Find vulnerabilities in the original dataset:"
   ]
  },
  {
   "cell_type": "code",
   "execution_count": 122,
   "metadata": {},
   "outputs": [],
   "source": [
    "vulnerabilities_orig = t_closeness_check(df_orig)"
   ]
  },
  {
   "cell_type": "markdown",
   "metadata": {},
   "source": [
    "The total number of vulnerabilities:"
   ]
  },
  {
   "cell_type": "code",
   "execution_count": 123,
   "metadata": {},
   "outputs": [
    {
     "data": {
      "text/plain": [
       "9078"
      ]
     },
     "execution_count": 123,
     "metadata": {},
     "output_type": "execute_result"
    }
   ],
   "source": [
    "len(vulnerabilities_orig)"
   ]
  },
  {
   "cell_type": "markdown",
   "metadata": {},
   "source": [
    "Find the remaining vulnerabilities in the synthetical data:"
   ]
  },
  {
   "cell_type": "code",
   "execution_count": 124,
   "metadata": {},
   "outputs": [],
   "source": [
    "vulnerabilities_remaining = linkage_attack(df_orig, df_synth, categ_columns={'operation', 'day'}, t_closeness=0.2, k_distance=0.8)"
   ]
  },
  {
   "cell_type": "markdown",
   "metadata": {},
   "source": [
    "The number of remaining vulnerabilities in synthetical data:"
   ]
  },
  {
   "cell_type": "code",
   "execution_count": 126,
   "metadata": {},
   "outputs": [
    {
     "data": {
      "text/plain": [
       "898"
      ]
     },
     "execution_count": 126,
     "metadata": {},
     "output_type": "execute_result"
    }
   ],
   "source": [
    "len(vulnerabilities_remaining)"
   ]
  },
  {
   "cell_type": "markdown",
   "metadata": {},
   "source": [
    "### Percent of remaining vulnerabilities:"
   ]
  },
  {
   "cell_type": "code",
   "execution_count": 127,
   "metadata": {},
   "outputs": [
    {
     "name": "stdout",
     "output_type": "stream",
     "text": [
      "9.89%\n"
     ]
    }
   ],
   "source": [
    "print('{:.2f}%'.format(len(vulnerabilities_remaining) / len(vulnerabilities_orig) * 100))"
   ]
  }
 ],
 "metadata": {
  "kernelspec": {
   "display_name": "synthesized",
   "language": "python",
   "name": "synthesized"
  },
  "language_info": {
   "codemirror_mode": {
    "name": "ipython",
    "version": 3
   },
   "file_extension": ".py",
   "mimetype": "text/x-python",
   "name": "python",
   "nbconvert_exporter": "python",
   "pygments_lexer": "ipython3",
   "version": "3.6.4"
  }
 },
 "nbformat": 4,
 "nbformat_minor": 2
}
