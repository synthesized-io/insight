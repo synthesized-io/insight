{
 "cells": [
  {
   "cell_type": "code",
   "execution_count": null,
   "metadata": {},
   "outputs": [],
   "source": [
    "import os\n",
    "import warnings\n",
    "from typing import List\n",
    "import logging\n",
    "\n",
    "warnings.filterwarnings(action='ignore', module='numpy')\n",
    "warnings.filterwarnings(action='ignore', module='pandas')\n",
    "warnings.filterwarnings(action='ignore', module='sklearn')\n",
    "warnings.filterwarnings(action='ignore', module='tensorflow')\n",
    "\n",
    "import ax\n",
    "import pandas as pd\n",
    "import ray\n",
    "import numpy as np\n",
    "import scipy as sp\n",
    "import seaborn as sns\n",
    "import matplotlib.pyplot as plt\n",
    "from ax.service.ax_client import AxClient\n",
    "from ax.plot.contour import interact_contour, plot_contour\n",
    "from ax.plot.slice import plot_slice\n",
    "from ax.utils.notebook.plotting import render, init_notebook_plotting\n",
    "from ax.service.utils.best_point import get_best_from_model_predictions, get_best_raw_objective_point\n",
    "from ray import tune\n",
    "from ray.tune import track, JupyterNotebookReporter\n",
    "from ray.tune.suggest.ax import AxSearch\n",
    "from ax.modelbridge.generation_strategy import GenerationStep, GenerationStrategy\n",
    "from ax.modelbridge.registry import Models\n",
    "import seaborn as sns\n",
    "\n",
    "from synthesized.insight.latent import get_latent_space, latent_dimension_usage, total_latent_space_usage\n",
    "from synthesized.insight.dataset import describe_dataset_values, describe_dataset, classification_score\n",
    "from tune_utils import AxSearch2\n",
    "\n",
    "\n",
    "root_logger = logging.getLogger()\n",
    "root_logger.setLevel(50)\n",
    "\n",
    "def train_evaluate(params):\n",
    "    NUM_ROWS = params['num_rows']\n",
    "    RANDOM_SEED = params['random_seed']\n",
    "    BETA = params['beta']\n",
    "    NUM_ITERATIONS = params['num_iterations']\n",
    "    TRIAL = params['trial']\n",
    "    \n",
    "    latent_space = get_latent_space(\n",
    "        df=data.sample(NUM_ROWS, random_state=RANDOM_SEED), \n",
    "        num_iterations=NUM_ITERATIONS,\n",
    "        beta=BETA\n",
    "    )\n",
    "    m_lsu = latent_dimension_usage(df_latent=latent_space, usage_type='mean').sort_values('usage', 0, False)\n",
    "    metrics = {f'm_dim_{n}': val for n, val in enumerate(m_lsu['usage'])}\n",
    "    \n",
    "    s_lsu = latent_dimension_usage(df_latent=latent_space, usage_type='stddev').sort_values('usage', 0, False)\n",
    "    metrics.update({f's_dim_{n}': val for n, val in enumerate(s_lsu['usage'])})\n",
    "                                    \n",
    "    metrics['m_total'] = total_latent_space_usage(df_latent=latent_space, usage_type='mean')\n",
    "    metrics['s_total'] = total_latent_space_usage(df_latent=latent_space, usage_type='stddev')\n",
    "                \n",
    "    track.log(**metrics)"
   ]
  },
  {
   "cell_type": "code",
   "execution_count": null,
   "metadata": {},
   "outputs": [],
   "source": [
    "init_notebook_plotting()"
   ]
  },
  {
   "cell_type": "code",
   "execution_count": null,
   "metadata": {},
   "outputs": [],
   "source": [
    "ray.init(address='auto', redis_password='5241590000000000', log_to_driver=False)"
   ]
  },
  {
   "cell_type": "code",
   "execution_count": null,
   "metadata": {},
   "outputs": [],
   "source": [
    "gs = GenerationStrategy(\n",
    "    steps=[\n",
    "        GenerationStep(\n",
    "            model=Models.SOBOL,\n",
    "            num_trials=-1, \n",
    "            min_trials_observed=0, \n",
    "            max_parallelism=20, \n",
    "            enforce_num_trials=True, \n",
    "            model_kwargs={'deduplicate': True, 'seed': None},\n",
    "            model_gen_kwargs=None\n",
    "        )\n",
    "    ]\n",
    ")\n",
    "axc = AxClient(generation_strategy=gs, verbose_logging=False, enforce_sequential_optimization=False)\n",
    "axc.create_experiment(\n",
    "    name=\"capacity_tuning\",\n",
    "    parameters=[\n",
    "        {\"name\": \"num_rows\", \"type\": \"choice\", \"values\": [1000, 2000, 4000, 8000, 16000, 32000, 64000]},\n",
    "        {\"name\": \"beta\", \"type\": \"choice\", \"values\": [1.0, 2.0]},\n",
    "        {\"name\": \"num_iterations\", \"type\": \"choice\", \"values\": [10000, 20000]},\n",
    "        {\"name\": \"trial\", \"type\": \"range\", \"bounds\": [1, 5]},\n",
    "        {\"name\": \"random_seed\", \"type\": \"fixed\", \"value\": 161833}\n",
    "    ],\n",
    "    objective_name=\"m_total\",\n",
    "    minimize=True\n",
    ")"
   ]
  },
  {
   "cell_type": "code",
   "execution_count": null,
   "metadata": {},
   "outputs": [],
   "source": [
    "NUM_TRIALS = 140\n",
    "DATASET_DIR = 'data/credit_with_categoricals.csv'\n",
    "    \n",
    "loss_sample_size = 50_000\n",
    "data = pd.read_csv(DATASET_DIR)\n",
    "data = data.dropna()\n",
    "loss_sample_size = min(loss_sample_size, len(data))"
   ]
  },
  {
   "cell_type": "code",
   "execution_count": null,
   "metadata": {},
   "outputs": [],
   "source": [
    "analysis = tune.run(\n",
    "    train_evaluate,\n",
    "    num_samples=NUM_TRIALS,\n",
    "    search_alg=AxSearch2(axc, mode='min'),  # Note that the argument here is the `AxClient`.\n",
    "    verbose=1,  # Set this level to 1 to see status updates and to 2 to also see trial results.\n",
    "    # To use GPU, specify: resources_per_trial={\"gpu\": 1}.\n",
    "    resources_per_trial={\"cpu\": 2},\n",
    "    max_failures=3,\n",
    "    progress_reporter=JupyterNotebookReporter(overwrite=True, max_progress_rows=100),\n",
    "    return_trials=False,\n",
    ")"
   ]
  },
  {
   "cell_type": "code",
   "execution_count": null,
   "metadata": {},
   "outputs": [],
   "source": [
    "results = [{k: v for k, v in analysis.trials[n].last_result.items()\n",
    "           if 'dim' in k or k in ['m_total', 's_total', 'config'] \n",
    "           } for n in range(NUM_TRIALS)]\n",
    "\n",
    "results2 = []\n",
    "for result in results:\n",
    "    result.update(result['config'])\n",
    "    del result['config']\n",
    "    \n",
    "    result_m = {k if k[:2] != 'm_' else k[2:]: v for k, v in result.items() if k[:2] != 's_'}\n",
    "    result_m['usage_type'] = 'mean'\n",
    "    result_s = {k if k[:2] != 's_' else k[2:]: v for k, v in result.items() if k[:2] != 'm_'}\n",
    "    result_s['usage_type'] = 'stddev'\n",
    "    \n",
    "    results2.append(result_m)\n",
    "    results2.append(result_s)\n",
    "\n",
    "results = pd.DataFrame(results2)"
   ]
  },
  {
   "cell_type": "code",
   "execution_count": null,
   "metadata": {},
   "outputs": [],
   "source": [
    "df_exp = results.rename(columns=lambda x: int(x[4:]) if 'dim' in x else x).melt(\n",
    "    id_vars=['trial', 'num_rows', 'usage_type', 'beta', 'num_iterations', 'random_seed'], \n",
    "    var_name='dim', value_name='usage'\n",
    ")"
   ]
  },
  {
   "cell_type": "code",
   "execution_count": null,
   "metadata": {},
   "outputs": [],
   "source": [
    "colors = [\"coral\", \"ocean blue\", \"ocean blue\", \"ocean blue\"]*8\n",
    "\n",
    "df_exp['scenario'] = [f'ni{a}_b{b}' for a,b in zip(df_exp['num_iterations'], df_exp['beta'])]\n",
    "sns.catplot(\n",
    "    data=df_exp[df_exp['dim']!='total'][df_exp['usage_type']=='mean'], kind='bar', aspect=4,\n",
    "    x='num_rows', y='usage', hue='dim', row='scenario', \n",
    "    palette=sns.xkcd_palette(colors)\n",
    ")"
   ]
  },
  {
   "cell_type": "code",
   "execution_count": null,
   "metadata": {},
   "outputs": [],
   "source": []
  }
 ],
 "metadata": {
  "kernelspec": {
   "display_name": "Python 3",
   "language": "python",
   "name": "python3"
  },
  "language_info": {
   "codemirror_mode": {
    "name": "ipython",
    "version": 3
   },
   "file_extension": ".py",
   "mimetype": "text/x-python",
   "name": "python",
   "nbconvert_exporter": "python",
   "pygments_lexer": "ipython3",
   "version": "3.7.5"
  }
 },
 "nbformat": 4,
 "nbformat_minor": 4
}
