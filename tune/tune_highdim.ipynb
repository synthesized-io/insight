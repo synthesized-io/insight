{
 "cells": [
  {
   "cell_type": "code",
   "execution_count": null,
   "metadata": {},
   "outputs": [],
   "source": [
    "import pandas as pd\n",
    "import ray\n",
    "from ax.service.ax_client import AxClient\n",
    "from ax.plot.contour import interact_contour, plot_contour\n",
    "from ax.plot.slice import plot_slice\n",
    "from ax.utils.notebook.plotting import render, init_notebook_plotting\n",
    "from ax.service.utils.best_point import get_best_from_model_predictions, get_best_raw_objective_point\n",
    "from ray import tune\n",
    "from ray.tune import track\n",
    "from ray.tune.suggest.ax import AxSearch\n",
    "\n",
    "\n",
    "from synthesized import HighDimSynthesizer\n",
    "\n",
    "\n",
    "def train_evaluate(parameterization):\n",
    "    with HighDimSynthesizer(df=data, **parameterization) as synthesizer:\n",
    "        synthesizer.learn(data, num_iterations=None)\n",
    "        \n",
    "        data_ = synthesizer.preprocess(data.sample(loss_sample_size))\n",
    "        feed_dict = synthesizer.get_data_feed_dict(data_)\n",
    "        losses = synthesizer.get_losses(data=feed_dict)\n",
    "\n",
    "        track.log(\n",
    "            mean_loss=losses['total-loss'].numpy().item(),\n",
    "            reconstruction_loss = losses['reconstruction-loss'].numpy().item(),\n",
    "            kl_loss = losses['kl-loss'].numpy().item()\n",
    "        )"
   ]
  },
  {
   "cell_type": "code",
   "execution_count": null,
   "metadata": {},
   "outputs": [],
   "source": [
    "init_notebook_plotting()"
   ]
  },
  {
   "cell_type": "code",
   "execution_count": null,
   "metadata": {},
   "outputs": [],
   "source": [
    "ray.init(address='auto', redis_password='5241590000000000')"
   ]
  },
  {
   "cell_type": "code",
   "execution_count": null,
   "metadata": {},
   "outputs": [],
   "source": [
    "loss_sample_size = 50_000\n",
    "data = pd.read_csv('data/credit_with_categoricals.csv')\n",
    "data = data.dropna()\n",
    "loss_sample_size = min(loss_sample_size, len(data))\n",
    "\n",
    "ax = AxClient(enforce_sequential_optimization=False)\n",
    "ax.create_experiment(\n",
    "    name=\"capacity_tuning\",\n",
    "    parameters=[\n",
    "        {\"name\": \"capacity\", \"type\": \"range\", \"bounds\": [8, 128]},\n",
    "        {\"name\": \"latent_size\", \"type\": \"range\", \"bounds\": [8, 128]},\n",
    "        {\"name\": \"num_layers\", \"type\": \"range\", \"bounds\": [1, 4]},\n",
    "        {\"name\": \"residual_depths\", \"type\": \"range\", \"bounds\": [2, 6]},\n",
    "        {\"name\": \"learning_rate\", \"type\": \"range\", \"bounds\": [1e-5, 1e-1], \"log_scale\": True},\n",
    "        {\"name\": \"max_training_time\", \"type\": \"fixed\", \"value\": 120.0}\n",
    "    ],\n",
    "    objective_name=\"mean_loss\",\n",
    "    minimize=True\n",
    ")"
   ]
  },
  {
   "cell_type": "code",
   "execution_count": null,
   "metadata": {},
   "outputs": [],
   "source": [
    "analysis = tune.run(\n",
    "    train_evaluate,\n",
    "    num_samples=40,\n",
    "    search_alg=AxSearch(ax, max_concurrent=20),  # Note that the argument here is the `AxClient`.\n",
    "    verbose=0,  # Set this level to 1 to see status updates and to 2 to also see trial results.\n",
    "    # To use GPU, specify: resources_per_trial={\"gpu\": 1}.\n",
    "    resources_per_trial={\"cpu\": 2},\n",
    "    max_failures=3\n",
    ")"
   ]
  },
  {
   "cell_type": "code",
   "execution_count": null,
   "metadata": {},
   "outputs": [],
   "source": [
    "# Gets the best parameters from comparing all trials\n",
    "params, mean_value = get_best_raw_objective_point(ax.experiment)\n",
    "print(\"Best Trial Params:\")\n",
    "print(params, mean_value)\n",
    "\n",
    "# Gets the parameters by predicting with the bayesian model\n",
    "params, (mean_value, variance) = get_best_from_model_predictions(ax.experiment)\n",
    "print(\"Estimated Best Params:\")\n",
    "print(params, mean_value, variance)\n",
    "\n"
   ]
  },
  {
   "cell_type": "code",
   "execution_count": null,
   "metadata": {},
   "outputs": [],
   "source": [
    "render(ax.get_feature_importances())"
   ]
  },
  {
   "cell_type": "code",
   "execution_count": null,
   "metadata": {},
   "outputs": [],
   "source": [
    "for param in params:\n",
    "    try:\n",
    "        render(plot_slice(ax.generation_strategy.model, param, 'mean_loss'))\n",
    "    except ValueError:\n",
    "        pass"
   ]
  },
  {
   "cell_type": "code",
   "execution_count": null,
   "metadata": {},
   "outputs": [],
   "source": [
    "render(interact_contour(ax.generation_strategy.model, metric_name='mean_loss'))"
   ]
  },
  {
   "cell_type": "code",
   "execution_count": null,
   "metadata": {},
   "outputs": [],
   "source": [
    "render(ax.get_optimization_trace())"
   ]
  },
  {
   "cell_type": "code",
   "execution_count": null,
   "metadata": {},
   "outputs": [],
   "source": [
    "ax.get_trials_data_frame()"
   ]
  }
 ],
 "metadata": {
  "kernelspec": {
   "display_name": "Python 3",
   "language": "python",
   "name": "python3"
  },
  "language_info": {
   "codemirror_mode": {
    "name": "ipython",
    "version": 3
   },
   "file_extension": ".py",
   "mimetype": "text/x-python",
   "name": "python",
   "nbconvert_exporter": "python",
   "pygments_lexer": "ipython3",
   "version": "3.7.5"
  }
 },
 "nbformat": 4,
 "nbformat_minor": 4
}
